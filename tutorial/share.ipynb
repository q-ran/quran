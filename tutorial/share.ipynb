{
 "cells": [
  {
   "cell_type": "markdown",
   "metadata": {},
   "source": [
    "<img align=\"right\" src=\"images/tf.png\" width=\"128\"/>\n",
    "<img align=\"right\" src=\"images/uu-small.png\" width=\"128\"/>\n",
    "<img align=\"right\" src=\"images/dans.png\" width=\"128\"/>\n",
    "\n",
    "---\n",
    "\n",
    "To get started: consult [start](start.ipynb)\n",
    "\n",
    "---\n",
    "\n",
    "# Sharing data features\n",
    "\n",
    "## Explore additional data\n",
    "\n",
    "Once you analyse a corpus, it is likely that you produce data that others can reuse.\n",
    "Maybe you have defined a set of proper name occurrences, or you have computed sentiments.\n",
    "\n",
    "It is possible to turn these insights into *new features*, i.e. new `.tf` files with values assigned to specific nodes.\n",
    "\n",
    "## Make your own data\n",
    "\n",
    "New data is a product of your own methods and computations in the first place.\n",
    "But how do you turn that data into new TF features?\n",
    "It turns out that the last step is not that difficult.\n",
    "\n",
    "If you can shape your data as a mapping (dictionary) from node numbers (integers) to values\n",
    "(strings or integers), then TF can turn that data into a feature file for you with one command.\n",
    "\n",
    "## Share your new data\n",
    "You can then easily share your new features on GitHub, so that your colleagues everywhere\n",
    "can try it out for themselves.\n",
    "\n",
    "You can add such data on the fly, by passing a `mod={org}/{repo}/{path}` parameter,\n",
    "or a bunch of them separated by commas.\n",
    "\n",
    "If the data is there, it will be auto-downloaded and stored on your machine.\n",
    "\n",
    "Let's do it."
   ]
  },
  {
   "cell_type": "code",
   "execution_count": 1,
   "metadata": {},
   "outputs": [],
   "source": [
    "%load_ext autoreload\n",
    "%autoreload 2"
   ]
  },
  {
   "cell_type": "code",
   "execution_count": 2,
   "metadata": {
    "ExecuteTime": {
     "end_time": "2018-05-24T10:06:39.818664Z",
     "start_time": "2018-05-24T10:06:39.796588Z"
    }
   },
   "outputs": [],
   "source": [
    "import collections\n",
    "import os\n",
    "\n",
    "from tf.app import use\n"
   ]
  },
  {
   "cell_type": "code",
   "execution_count": 3,
   "metadata": {},
   "outputs": [
    {
     "data": {
      "text/html": [
       "<b title=\"local github\">TF-app:</b> <span title=\"repo clone offline under ~/github\">~/github/annotation/app-quran/code</span>"
      ],
      "text/plain": [
       "<IPython.core.display.HTML object>"
      ]
     },
     "metadata": {},
     "output_type": "display_data"
    },
    {
     "data": {
      "text/html": [
       "<b title=\"local github\">data:</b> <span title=\"repo clone offline under ~/github\">~/github/q-ran/quran/tf/0.4</span>"
      ],
      "text/plain": [
       "<IPython.core.display.HTML object>"
      ]
     },
     "metadata": {},
     "output_type": "display_data"
    },
    {
     "data": {
      "text/html": [
       "<b>Text-Fabric:</b> <a target=\"_blank\" href=\"https://annotation.github.io/text-fabric/cheatsheet.html\" title=\"text-fabric-api\">Text-Fabric API 8.3.0</a>, <a target=\"_blank\" href=\"https://github.com/annotation/app-quran\" title=\"quran TF-app\">app-quran</a>, <a target=\"_blank\" href=\"https://annotation.github.io/text-fabric/about/searchusage.html\" title=\"Search Templates Introduction and Reference\">Search Reference</a><br><b>Data:</b> <a target=\"_blank\" href=\"https://github.com/q-ran/quran/blob/master/docs/features.md\" title=\"provenance of Quran\">QURAN</a>, <a target=\"_blank\" href=\"https://annotation.github.io/text-fabric/writing/arabic.html\" title=\"How TF features represent text\">Character table</a>, <a target=\"_blank\" href=\"https://github.com/q-ran/quran/blob/master/docs/features.md\" title=\"QURAN feature documentation\">Feature docs</a><br><b>Features:</b><br><details><summary><b>Quran</b></summary><a target=\"_blank\" href=\"https://github.com/q-ran/quran/blob/master/docs/features.md\" title=\"~/github/q-ran/quran/tf/0.4/a.tf\">a</a><br><a target=\"_blank\" href=\"https://github.com/q-ran/quran/blob/master/docs/features.md\" title=\"~/github/q-ran/quran/tf/0.4/ascii.tf\">ascii</a><br><a target=\"_blank\" href=\"https://github.com/q-ran/quran/blob/master/docs/features.md\" title=\"~/github/q-ran/quran/tf/0.4/ax.tf\">ax</a><br><a target=\"_blank\" href=\"https://github.com/q-ran/quran/blob/master/docs/features.md\" title=\"~/github/q-ran/quran/tf/0.4/case.tf\">case</a><br><a target=\"_blank\" href=\"https://github.com/q-ran/quran/blob/master/docs/features.md\" title=\"~/github/q-ran/quran/tf/0.4/component.tf\">component</a><br><a target=\"_blank\" href=\"https://github.com/q-ran/quran/blob/master/docs/features.md\" title=\"~/github/q-ran/quran/tf/0.4/definite.tf\">definite</a><br><a target=\"_blank\" href=\"https://github.com/q-ran/quran/blob/master/docs/features.md\" title=\"~/github/q-ran/quran/tf/0.4/f.tf\">f</a><br><a target=\"_blank\" href=\"https://github.com/q-ran/quran/blob/master/docs/features.md\" title=\"~/github/q-ran/quran/tf/0.4/formation.tf\">formation</a><br><a target=\"_blank\" href=\"https://github.com/q-ran/quran/blob/master/docs/features.md\" title=\"~/github/q-ran/quran/tf/0.4/fx.tf\">fx</a><br><a target=\"_blank\" href=\"https://github.com/q-ran/quran/blob/master/docs/features.md\" title=\"~/github/q-ran/quran/tf/0.4/gn.tf\">gn</a><br><a target=\"_blank\" href=\"https://github.com/q-ran/quran/blob/master/docs/features.md\" title=\"~/github/q-ran/quran/tf/0.4/interjection.tf\">interjection</a><br><a target=\"_blank\" href=\"https://github.com/q-ran/quran/blob/master/docs/features.md\" title=\"~/github/q-ran/quran/tf/0.4/l.tf\">l</a><br><a target=\"_blank\" href=\"https://github.com/q-ran/quran/blob/master/docs/features.md\" title=\"~/github/q-ran/quran/tf/0.4/lemma.tf\">lemma</a><br><a target=\"_blank\" href=\"https://github.com/q-ran/quran/blob/master/docs/features.md\" title=\"~/github/q-ran/quran/tf/0.4/lx.tf\">lx</a><br><a target=\"_blank\" href=\"https://github.com/q-ran/quran/blob/master/docs/features.md\" title=\"~/github/q-ran/quran/tf/0.4/mood.tf\">mood</a><br><a target=\"_blank\" href=\"https://github.com/q-ran/quran/blob/master/docs/features.md\" title=\"~/github/q-ran/quran/tf/0.4/n.tf\">n</a><br><a target=\"_blank\" href=\"https://github.com/q-ran/quran/blob/master/docs/features.md\" title=\"~/github/q-ran/quran/tf/0.4/name.tf\">name</a><br><a target=\"_blank\" href=\"https://github.com/q-ran/quran/blob/master/docs/features.md\" title=\"~/github/q-ran/quran/tf/0.4/name@en.tf\">name@ll</a><br><a target=\"_blank\" href=\"https://github.com/q-ran/quran/blob/master/docs/features.md\" title=\"~/github/q-ran/quran/tf/0.4/nameAscii.tf\">nameAscii</a><br><a target=\"_blank\" href=\"https://github.com/q-ran/quran/blob/master/docs/features.md\" title=\"~/github/q-ran/quran/tf/0.4/nameTrans.tf\">nameTrans</a><br><a target=\"_blank\" href=\"https://github.com/q-ran/quran/blob/master/docs/features.md\" title=\"~/github/q-ran/quran/tf/0.4/nu.tf\">nu</a><br><a target=\"_blank\" href=\"https://github.com/q-ran/quran/blob/master/docs/features.md\" title=\"~/github/q-ran/quran/tf/0.4/number.tf\">number</a><br><a target=\"_blank\" href=\"https://github.com/q-ran/quran/blob/master/docs/features.md\" title=\"~/github/q-ran/quran/tf/0.4/order.tf\">order</a><br><a target=\"_blank\" href=\"https://github.com/q-ran/quran/blob/master/docs/features.md\" title=\"~/github/q-ran/quran/tf/0.4/otype.tf\">otype</a><br><a target=\"_blank\" href=\"https://github.com/q-ran/quran/blob/master/docs/features.md\" title=\"~/github/q-ran/quran/tf/0.4/pos.tf\">pos</a><br><a target=\"_blank\" href=\"https://github.com/q-ran/quran/blob/master/docs/features.md\" title=\"~/github/q-ran/quran/tf/0.4/posx.tf\">posx</a><br><a target=\"_blank\" href=\"https://github.com/q-ran/quran/blob/master/docs/features.md\" title=\"~/github/q-ran/quran/tf/0.4/ps.tf\">ps</a><br><a target=\"_blank\" href=\"https://github.com/q-ran/quran/blob/master/docs/features.md\" title=\"~/github/q-ran/quran/tf/0.4/root.tf\">root</a><br><a target=\"_blank\" href=\"https://github.com/q-ran/quran/blob/master/docs/features.md\" title=\"~/github/q-ran/quran/tf/0.4/sp.tf\">sp</a><br><a target=\"_blank\" href=\"https://github.com/q-ran/quran/blob/master/docs/features.md\" title=\"~/github/q-ran/quran/tf/0.4/space.tf\">space</a><br><a target=\"_blank\" href=\"https://github.com/q-ran/quran/blob/master/docs/features.md\" title=\"~/github/q-ran/quran/tf/0.4/tense.tf\">tense</a><br><a target=\"_blank\" href=\"https://github.com/q-ran/quran/blob/master/docs/features.md\" title=\"~/github/q-ran/quran/tf/0.4/translation@en.tf\">translation@ll</a><br><a target=\"_blank\" href=\"https://github.com/q-ran/quran/blob/master/docs/features.md\" title=\"~/github/q-ran/quran/tf/0.4/type.tf\">type</a><br><a target=\"_blank\" href=\"https://github.com/q-ran/quran/blob/master/docs/features.md\" title=\"~/github/q-ran/quran/tf/0.4/unicode.tf\">unicode</a><br><a target=\"_blank\" href=\"https://github.com/q-ran/quran/blob/master/docs/features.md\" title=\"~/github/q-ran/quran/tf/0.4/voice.tf\">voice</a><br><a target=\"_blank\" href=\"https://github.com/q-ran/quran/blob/master/docs/features.md\" title=\"~/github/q-ran/quran/tf/0.4/w.tf\">w</a><br><a target=\"_blank\" href=\"https://github.com/q-ran/quran/blob/master/docs/features.md\" title=\"~/github/q-ran/quran/tf/0.4/wx.tf\">wx</a><br><b><i><a target=\"_blank\" href=\"https://github.com/q-ran/quran/blob/master/docs/features.md\" title=\"~/github/q-ran/quran/tf/0.4/oslots.tf\">oslots</a></i></b><br></details>"
      ],
      "text/plain": [
       "<IPython.core.display.HTML object>"
      ]
     },
     "metadata": {},
     "output_type": "display_data"
    },
    {
     "data": {
      "text/html": [
       "<style>tr.tf.ltr, td.tf.ltr, th.tf.ltr { text-align: left ! important;}\n",
       "tr.tf.rtl, td.tf.rtl, th.tf.rtl { text-align: right ! important;}\n",
       "@font-face {\n",
       "  font-family: \"Ezra SIL\";\n",
       "  src: local('Ezra SIL'), local('EzraSIL'),\n",
       "    url('/server/static/fonts/SILEOT.woff') format('woff'),\n",
       "    url('https://github.com/annotation/text-fabric/blob/master/tf/server/static/fonts/SILEOT.woff?raw=true') format('woff');\n",
       "}\n",
       "\n",
       "@font-face {\n",
       "  font-family: \"SBL Hebrew\";\n",
       "  src: local('SBL Hebrew'), local('SBLHebrew'),\n",
       "    url('/server/static/fonts/SBL_Hbrw.woff') format('woff'),\n",
       "    url('https://github.com/annotation/text-fabric/blob/master/tf/server/static/fonts/SBL_Hbrw.woff?raw=true') format('woff');\n",
       "}\n",
       "\n",
       "@font-face {\n",
       "  font-family: \"Estrangelo Edessa\";\n",
       "  src: local('Estrangelo Edessa'), local('EstrangeloEdessa');\n",
       "    url('/server/static/fonts/SyrCOMEdessa.woff') format('woff'),\n",
       "    url('https://github.com/annotation/text-fabric/blob/master/tf/server/static/fonts/SyrCOMEdessa.woff?raw=true') format('woff');\n",
       "}\n",
       "\n",
       "@font-face {\n",
       "  font-family: AmiriQuran;\n",
       "  font-style: normal;\n",
       "  font-weight: 400;\n",
       "  src: local('Amiri Quran'), local('AmiriQuran'),\n",
       "    url('/server/static/fonts/AmiriQuran.woff') format('woff'),\n",
       "    url('https://github.com/annotation/text-fabric/blob/master/tf/server/static/fonts/AmiriQuran.woff?raw=true') format('woff');\n",
       "}\n",
       "\n",
       "@font-face {\n",
       "  font-family: AmiriQuranColored;\n",
       "  font-style: normal;\n",
       "  font-weight: 400;\n",
       "  src: local('Amiri Quran Colored'), local('AmiriQuranColored'),\n",
       "    url('/server/static/fonts/AmiriQuranColored.woff') format('woff'),\n",
       "    url('https://github.com/annotation/text-fabric/blob/master/tf/server/static/fonts/AmiriQuranColored.woff?raw=true') format('woff');\n",
       "}\n",
       "\n",
       "@font-face {\n",
       "  font-family: \"Santakku\";\n",
       "  src: local('Santakku'),\n",
       "    url('/server/static/fonts/Santakku.woff') format('woff'),\n",
       "    url('https://github.com/annotation/text-fabric/blob/master/tf/server/static/fonts/Santakku.woff?raw=true') format('woff');\n",
       "}\n",
       "\n",
       "@font-face {\n",
       "  font-family: \"SantakkuM\";\n",
       "  src: local('SantakkuM'),\n",
       "    url('/server/static/fonts/SantakkuM.woff') format('woff'),\n",
       "    url('https://github.com/annotation/text-fabric/blob/master/tf/server/static/fonts/SantakkuM.woff?raw=true') format('woff');\n",
       "}\n",
       "/* bypassing some classical notebook settings */\n",
       "div#notebook {\n",
       "  line-height: unset;\n",
       "}\n",
       "/* neutral text */\n",
       ".txtn,.txtn a:visited,.txtn a:link {\n",
       "    font-family: sans-serif;\n",
       "    font-size: medium;\n",
       "    direction: ltr;\n",
       "    text-decoration: none;\n",
       "    color: var(--text-color);\n",
       "}\n",
       "/* transcription text */\n",
       ".txtt,.txtt a:visited,.txtt a:link {\n",
       "    font-family: monospace;\n",
       "    font-size: medium;\n",
       "    direction: ltr;\n",
       "    text-decoration: none;\n",
       "    color: var(--text-color);\n",
       "}\n",
       "/* source text */\n",
       ".txto,.txto a:visited,.txto a:link {\n",
       "    font-family: serif;\n",
       "    font-size: medium;\n",
       "    direction: ltr;\n",
       "    text-decoration: none;\n",
       "    color: var(--text-color);\n",
       "}\n",
       "/* phonetic text */\n",
       ".txtp,.txtp a:visited,.txtp a:link {\n",
       "    font-family: Gentium, sans-serif;\n",
       "    font-size: medium;\n",
       "    direction: ltr;\n",
       "    text-decoration: none;\n",
       "    color: var(--text-color);\n",
       "}\n",
       "/* original script text */\n",
       ".txtu,.txtu a:visited,.txtu a:link {\n",
       "    font-family: Gentium, sans-serif;\n",
       "    font-size: medium;\n",
       "    text-decoration: none;\n",
       "    color: var(--text-color);\n",
       "}\n",
       "/* hebrew */\n",
       ".txtu.hbo,.lex.hbo {\n",
       "    font-family: \"Ezra SIL\", \"SBL Hebrew\", sans-serif;\n",
       "    font-size: large;\n",
       "    direction: rtl ! important;\n",
       "    unicode-bidi: embed;\n",
       "}\n",
       "/* syriac */\n",
       ".txtu.syc,.lex.syc {\n",
       "    font-family: \"Estrangelo Edessa\", sans-serif;\n",
       "    font-size: medium;\n",
       "    direction: rtl ! important;\n",
       "    unicode-bidi: embed;\n",
       "}\n",
       "/* neo aramaic */\n",
       ".txtu.cld,.lex.cld {\n",
       "    font-family: \"CharisSIL-R\", sans-serif;\n",
       "    font-size: medium;\n",
       "    direction: ltr ! important;\n",
       "    unicode-bidi: embed;\n",
       "}\n",
       "/* standard arabic */\n",
       ".txtu.ara,.lex.ara {\n",
       "    font-family: \"AmiriQuran\", sans-serif;\n",
       "    font-size: large;\n",
       "    direction: rtl ! important;\n",
       "    unicode-bidi: embed;\n",
       "}\n",
       "/* cuneiform */\n",
       ".txtu.akk,.lex.akk {\n",
       "    font-family: Santakku, sans-serif;\n",
       "    font-size: large;\n",
       "    direction: ltr ! important;\n",
       "    unicode-bidi: embed;\n",
       "}\n",
       "/* greek */\n",
       ".txtu.grc,.lex.grc a:link {\n",
       "    font-family: Gentium, sans-serif;\n",
       "    font-size: medium;\n",
       "    direction: ltr ! important;\n",
       "    unicode-bidi: embed;\n",
       "}\n",
       "a:hover {\n",
       "    text-decoration: underline | important;\n",
       "    color: #0000ff | important;\n",
       "}\n",
       ".ltr {\n",
       "    direction: ltr ! important;\n",
       "}\n",
       ".rtl {\n",
       "    direction: rtl ! important;\n",
       "}\n",
       ".features {\n",
       "    font-family: monospace;\n",
       "    font-size: medium;\n",
       "    font-weight: bold;\n",
       "    color: var(--features);\n",
       "    display: flex;\n",
       "    flex-flow: column nowrap;\n",
       "    justify-content: flex-start;\n",
       "    align-items: flex-start;\n",
       "    align-content: flex-start;\n",
       "    padding: 0.1rem;\n",
       "    margin: 0.1rem;\n",
       "    direction: ltr;\n",
       "    border: var(--meta-width) solid var(--meta-color);\n",
       "    border-radius: var(--meta-width);\n",
       "}\n",
       ".features div,.features span {\n",
       "    padding: 0;\n",
       "    margin: -0.1rem 0;\n",
       "}\n",
       ".features .f {\n",
       "    font-family: sans-serif;\n",
       "    font-size: small;\n",
       "    font-weight: normal;\n",
       "    color: #5555bb;\n",
       "}\n",
       ".features .xft {\n",
       "  color: #000000;\n",
       "  background-color: #eeeeee;\n",
       "  font-size: medium;\n",
       "  margin: 0.1rem 0rem;\n",
       "}\n",
       ".features .xft .f {\n",
       "  color: #000000;\n",
       "  background-color: #eeeeee;\n",
       "  font-size: small;\n",
       "  font-weight: normal;\n",
       "}\n",
       ".section {\n",
       "    font-family: sans-serif;\n",
       "    font-size: small;\n",
       "    font-weight: bold;\n",
       "    color: var(--section);\n",
       "    unicode-bidi: embed;\n",
       "    text-align: start;\n",
       "}\n",
       ".structure {\n",
       "    font-family: sans-serif;\n",
       "    font-size: small;\n",
       "    font-weight: bold;\n",
       "    color: var(--structure);\n",
       "    unicode-bidi: embed;\n",
       "    text-align: start;\n",
       "}\n",
       ".comments {\n",
       "    display: flex;\n",
       "    justify-content: flex-start;\n",
       "    align-items: flex-start;\n",
       "    align-content: flex-start;\n",
       "    flex-flow: column nowrap;\n",
       "}\n",
       ".nd, a:link.nd {\n",
       "    font-family: sans-serif;\n",
       "    font-size: small;\n",
       "    color: var(--node);\n",
       "    vertical-align: super;\n",
       "    direction: ltr ! important;\n",
       "    unicode-bidi: embed;\n",
       "}\n",
       ".lex {\n",
       "  color: var(--lex-color);;\n",
       "}\n",
       ".children,.children.ltr {\n",
       "    display: flex;\n",
       "    border: 0;\n",
       "    background-color: #ffffff;\n",
       "    justify-content: flex-start;\n",
       "    align-items: flex-start;\n",
       "    align-content: flex-start;\n",
       "}\n",
       ".children.stretch {\n",
       "    align-items: stretch;\n",
       "}\n",
       ".children.hor {\n",
       "    flex-flow: row nowrap;\n",
       "}\n",
       ".children.hor.wrap {\n",
       "    flex-flow: row wrap;\n",
       "}\n",
       ".children.ver {\n",
       "    flex-flow: column nowrap;\n",
       "}\n",
       ".children.ver.wrap {\n",
       "    flex-flow: column wrap;\n",
       "}\n",
       ".contnr {\n",
       "    width: fit-content;\n",
       "    display: flex;\n",
       "    justify-content: flex-start;\n",
       "    align-items: flex-start;\n",
       "    align-content: flex-start;\n",
       "    flex-flow: column nowrap;\n",
       "    background: #ffffff none repeat scroll 0 0;\n",
       "    padding:  0.5rem 0.1rem 0.1rem 0.1rem;\n",
       "    margin: 0.8rem 0.1rem 0.1rem 0.1rem;\n",
       "    border-style: solid;\n",
       "    font-size: small;\n",
       "}\n",
       ".contnr.trm {\n",
       "    background-attachment: local;\n",
       "}\n",
       ".contnr.cnul {\n",
       "    padding:  0;\n",
       "    margin: 0;\n",
       "    border-style: solid;\n",
       "    font-size: xx-small;\n",
       "}\n",
       ".contnr.cnul,.lbl.cnul {\n",
       "    border-color: var(--border-color-nul);\n",
       "    border-width: var(--border-width-nul);\n",
       "    border-radius: var(--border-width-nul);\n",
       "}\n",
       ".contnr.c0,.lbl.c0 {\n",
       "    border-color: var(--border-color0);\n",
       "    border-width: var(--border-width0);\n",
       "    border-radius: var(--border-width0);\n",
       "}\n",
       ".contnr.c1,.lbl.c1 {\n",
       "    border-color: var(--border-color1);\n",
       "    border-width: var(--border-width1);\n",
       "    border-radius: var(--border-width1);\n",
       "}\n",
       ".contnr.c2,.lbl.c2 {\n",
       "    border-color: var(--border-color2);\n",
       "    border-width: var(--border-width2);\n",
       "    border-radius: var(--border-width2);\n",
       "}\n",
       ".contnr.c3,.lbl.c3 {\n",
       "    border-color: var(--border-color3);\n",
       "    border-width: var(--border-width3);\n",
       "    border-radius: var(--border-width3);\n",
       "}\n",
       ".contnr.c4,.lbl.c4 {\n",
       "    border-color: var(--border-color4);\n",
       "    border-width: var(--border-width4);\n",
       "    border-radius: var(--border-width4);\n",
       "}\n",
       "span.plain {\n",
       "    display: inline-block;\n",
       "    white-space: pre-wrap;\n",
       "}\n",
       ".plain {\n",
       "    background-color: #ffffff;\n",
       "}\n",
       ".plain.l,.contnr.l,.contnr.l>.lbl {\n",
       "    border-left-style: dotted\n",
       "}\n",
       ".plain.r,.contnr.r,.contnr.r>.lbl {\n",
       "    border-right-style: dotted\n",
       "}\n",
       ".plain.lno,.contnr.lno,.contnr.lno>.lbl {\n",
       "    border-left-style: none\n",
       "}\n",
       ".plain.rno,.contnr.rno,.contnr.rno>.lbl {\n",
       "    border-right-style: none\n",
       "}\n",
       ".plain.l {\n",
       "    padding-left: 0.2rem;\n",
       "    margin-left: 0.1rem;\n",
       "    border-width: var(--border-width-plain);\n",
       "}\n",
       ".plain.r {\n",
       "    padding-right: 0.2rem;\n",
       "    margin-right: 0.1rem;\n",
       "    border-width: var(--border-width-plain);\n",
       "}\n",
       ".lbl {\n",
       "    font-family: monospace;\n",
       "    margin-top: -1.2rem;\n",
       "    margin-left: 1rem;\n",
       "    background: #ffffff none repeat scroll 0 0;\n",
       "    padding: 0 0.3rem;\n",
       "    border-style: solid;\n",
       "    display: block;\n",
       "    color: var(--label)\n",
       "}\n",
       ".lbl.trm {\n",
       "    background-attachment: local;\n",
       "    margin-top: 0.1rem;\n",
       "    margin-left: 0.1rem;\n",
       "    padding: 0.1rem 0.1rem;\n",
       "    border-style: none;\n",
       "}\n",
       ".lbl.cnul {\n",
       "    font-size: xx-small;\n",
       "}\n",
       ".lbl.c0 {\n",
       "    font-size: small;\n",
       "}\n",
       ".lbl.c1 {\n",
       "    font-size: small;\n",
       "}\n",
       ".lbl.c2 {\n",
       "    font-size: medium;\n",
       "}\n",
       ".lbl.c3 {\n",
       "    font-size: medium;\n",
       "}\n",
       ".lbl.c4 {\n",
       "    font-size: large;\n",
       "}\n",
       ".occs, a:link.occs {\n",
       "    font-size: small;\n",
       "}\n",
       "\n",
       "/* PROVENANCE */\n",
       "\n",
       "div.prov {\n",
       "\tmargin: 2rem;\n",
       "\tpadding: 1rem;\n",
       "\tborder: 0.1rem solid var(--fog-rim);\n",
       "}\n",
       "div.pline {\n",
       "\tdisplay: flex;\n",
       "\tflex-flow: row nowrap;\n",
       "\tjustify-content: stretch;\n",
       "\talign-items: baseline;\n",
       "}\n",
       "div.p2line {\n",
       "\tmargin-left: 2em;\n",
       "\tdisplay: flex;\n",
       "\tflex-flow: row nowrap;\n",
       "\tjustify-content: stretch;\n",
       "\talign-items: baseline;\n",
       "}\n",
       "div.psline {\n",
       "\tdisplay: flex;\n",
       "\tflex-flow: row nowrap;\n",
       "\tjustify-content: stretch;\n",
       "\talign-items: baseline;\n",
       "\tbackground-color: var(--gold-mist-back);\n",
       "}\n",
       "div.pname {\n",
       "\tflex: 0 0 5rem;\n",
       "\tfont-weight: bold;\n",
       "}\n",
       "div.pval {\n",
       "    flex: 1 1 auto;\n",
       "}\n",
       "\n",
       ":root {\n",
       "\t--node:               hsla(120, 100%,  20%, 1.0  );\n",
       "\t--label:              hsla(  0, 100%,  20%, 1.0  );\n",
       "\t--section:            hsla(  0, 100%,  25%, 1.0  );\n",
       "\t--structure:          hsla(120, 100%,  25%, 1.0  );\n",
       "\t--features:           hsla(  0,   0%,  30%, 1.0  );\n",
       "  --text-color:         hsla( 60,  80%,  10%, 1.0  );\n",
       "  --lex-color:          hsla(220,  90%,  60%, 1.0  );\n",
       "  --meta-color:         hsla(  0,   0%,  90%, 0.7  );\n",
       "  --meta-width:         0.15rem;\n",
       "  --border-color-nul:   hsla(  0,   0%,  90%, 0.5  );\n",
       "  --border-color0:      hsla(  0,   0%,  90%, 0.9  );\n",
       "  --border-color1:      hsla(  0,   0%,  80%, 0.9  );\n",
       "  --border-color2:      hsla(  0,   0%,  70%, 0.9  );\n",
       "  --border-color3:      hsla(  0,   0%,  80%, 0.8  );\n",
       "  --border-color4:      hsla(  0,   0%,  60%, 0.9  );\n",
       "  --border-width-nul:   0.1rem;\n",
       "  --border-width0:      0.1rem;\n",
       "  --border-width1:      0.15rem;\n",
       "  --border-width2:      0.2rem;\n",
       "  --border-width3:      0.3rem;\n",
       "  --border-width4:      0.25rem;\n",
       "  --border-width-plain: 0.1rem;\n",
       "}\n",
       ".hl {\n",
       "  background-color: var(--hl-strong);\n",
       "}\n",
       "span.hl {\n",
       "\tbackground-color: var(--hl-strong);\n",
       "\tborder-width: 0;\n",
       "\tborder-radius: 0.1rem;\n",
       "\tborder-style: solid;\n",
       "}\n",
       "div.contnr.hl,div.lbl.hl {\n",
       "  background-color: var(--hl-strong);\n",
       "}\n",
       "div.contnr.hl {\n",
       "  border-color: var(--hl-rim) ! important;\n",
       "\tborder-width: 0.2rem ! important;\n",
       "}\n",
       "\n",
       "span.hlbx {\n",
       "\tborder-color: var(--hl-rim);\n",
       "\tborder-width: 0.2rem ! important;\n",
       "\tborder-style: solid;\n",
       "\tborder-radius: 0.3rem;\n",
       "  padding: 0.2rem;\n",
       "  margin: 0.2rem;\n",
       "}\n",
       "\n",
       "span.plain {\n",
       "  display: inline-block;\n",
       "  white-space: pre-wrap;\n",
       "}\n",
       "\n",
       ":root {\n",
       "\t--hl-strong:        hsla( 60, 100%,  70%, 0.9  );\n",
       "\t--hl-rim:           hsla( 55,  80%,  50%, 1.0  );\n",
       "}\n",
       "</style>"
      ],
      "text/plain": [
       "<IPython.core.display.HTML object>"
      ]
     },
     "metadata": {},
     "output_type": "display_data"
    },
    {
     "data": {
      "text/html": [
       "<div><b>Text-Fabric API:</b> names <a target=\"_blank\" href=\"https://annotation.github.io/text-fabric/cheatsheet.html\" title=\"doc\">N F E L T S C TF</a> directly usable</div><hr>"
      ],
      "text/plain": [
       "<IPython.core.display.HTML object>"
      ]
     },
     "metadata": {},
     "output_type": "display_data"
    }
   ],
   "source": [
    "A = use(\"quran:clone\", checkout=\"clone\", hoist=globals())\n",
    "# A = use('quran', hoist=globals())"
   ]
  },
  {
   "cell_type": "markdown",
   "metadata": {},
   "source": [
    "# Making data\n",
    "\n",
    "We illustrate the data creation part by creating a new feature, `sentiment`.\n",
    "\n",
    "It is not very sensical, but it serves to illustrate the workflow.\n",
    "\n",
    "We consider ayas that start with a vocative particle as a positive context,\n",
    "and ayas that start with a resumptive particle as a negative context.\n",
    "\n",
    "For each lemma of a noun, verb, or adjective in the corpus,\n",
    "we count how often it occurs in a positive context,\n",
    "and subtract how many times it occurs in a negative context.\n",
    "\n",
    "The resulting number is the sentiment.\n",
    "\n",
    "We use a query to fetch the postive contexts and the negative contexts."
   ]
  },
  {
   "cell_type": "code",
   "execution_count": 4,
   "metadata": {},
   "outputs": [],
   "source": [
    "contentTypes = set(\"verb noun adjective\".split())\n",
    "contentTypeCrit = \"|\".join(contentTypes)"
   ]
  },
  {
   "cell_type": "code",
   "execution_count": 5,
   "metadata": {},
   "outputs": [],
   "source": [
    "queryP = f\"\"\"\n",
    "aya\n",
    "  =: word posx=vocative\n",
    "  word pos={contentTypeCrit}\n",
    "\"\"\"\n",
    "\n",
    "queryN = f\"\"\"\n",
    "aya\n",
    "  =: word posx=resumption\n",
    "  word pos={contentTypeCrit}\n",
    "\"\"\""
   ]
  },
  {
   "cell_type": "code",
   "execution_count": 6,
   "metadata": {},
   "outputs": [
    {
     "name": "stdout",
     "output_type": "stream",
     "text": [
      "  0.30s 2513 results\n",
      "  0.30s 7351 results\n"
     ]
    }
   ],
   "source": [
    "resultsP = A.search(queryP)\n",
    "resultsN = A.search(queryN)"
   ]
  },
  {
   "cell_type": "markdown",
   "metadata": {},
   "source": [
    "Here are the first few results of both:"
   ]
  },
  {
   "cell_type": "code",
   "execution_count": 7,
   "metadata": {},
   "outputs": [],
   "source": [
    "A.displaySetup(extraFeatures=\"translation@en\")"
   ]
  },
  {
   "cell_type": "code",
   "execution_count": 8,
   "metadata": {},
   "outputs": [
    {
     "data": {
      "text/html": [
       "<p><b>aya</b> <i>1</i></p>"
      ],
      "text/plain": [
       "<IPython.core.display.HTML object>"
      ]
     },
     "metadata": {},
     "output_type": "display_data"
    },
    {
     "data": {
      "text/html": [
       "<div class=\"section rtl\"><a target=\"_blank\" href=\"http://tanzil.net/#2:21\" title=\"show this passage on Tanzil\" sec=\"2:21\">2:21</a></div><div class=\"rtl children\"><div class=\"contnr c3  rtl  \" ><div class=\"lbl c3  \" ><span class=\"nd\">aya</span></div><div class='features'><span class=\"translation@en xft\" ><span class=\"f\">translation@en=</span>O you men, serve your Lord Who created you, and those that were before you; haply so you will be godfearing;</span></div><div class=\"children hor wrap rtl\"><div class=\"contnr c1  rtl  \" ><div class=\"lbl c1  \" ><span class=\"nd\">group</span></div><div class=\"children hor  rtl\"><div class=\"contnr c0 trm rtl  hl\" ><div class=\"lbl c0 trm hl\" ><span class=\"txtu ara\">يَٰٓ</span></div><div class='features'><span class=\"pos xft\" ><span class=\"f\">pos=</span>particle</span><span class=\"posx xft\" ><span class=\"f\">posx=</span>vocative</span></div></div><div class=\"contnr c0 trm rtl  hl\" ><div class=\"lbl c0 trm hl\" ><a target=\"_blank\" href=\"http://tanzil.net\" title=\"show this passage on Tanzil\"><span class=\"txtu ara\">أَيُّهَا </span></a></div><div class='features'><span class=\"pos xft\" ><span class=\"f\">pos=</span>noun</span></div></div></div></div><div class=\"contnr c1  rtl  \" ><div class=\"lbl c1  \" ><span class=\"nd\">group</span></div><div class=\"children hor  rtl\"><div class=\"contnr c0 trm rtl  \" ><div class=\"lbl c0 trm \" ><span class=\"txtu ara\">ٱل</span></div><div class='features'><span class=\"pos xft\" ><span class=\"f\">pos=</span>determiner</span></div></div><div class=\"contnr c0 trm rtl  hl\" ><div class=\"lbl c0 trm hl\" ><a target=\"_blank\" href=\"http://tanzil.net\" title=\"show this passage on Tanzil\"><span class=\"txtu ara\">نَّاسُ </span></a></div><div class='features'><span class=\"pos xft\" ><span class=\"f\">pos=</span>noun</span></div></div></div></div><div class=\"contnr c1  rtl  \" ><div class=\"lbl c1  \" ><span class=\"nd\">group</span></div><div class=\"children hor  rtl\"><div class=\"contnr c0 trm rtl  hl\" ><div class=\"lbl c0 trm hl\" ><a target=\"_blank\" href=\"http://tanzil.net\" title=\"show this passage on Tanzil\"><span class=\"txtu ara\">ٱعْبُدُ</span></a></div><div class='features'><span class=\"pos xft\" ><span class=\"f\">pos=</span>verb</span></div></div><div class=\"contnr c0 trm rtl  \" ><div class=\"lbl c0 trm \" ><span class=\"txtu ara\">وا۟ </span></div><div class='features'><span class=\"pos xft\" ><span class=\"f\">pos=</span>pronoun</span><span class=\"posx xft\" ><span class=\"f\">posx=</span>personal</span></div></div></div></div><div class=\"contnr c1  rtl  \" ><div class=\"lbl c1  \" ><span class=\"nd\">group</span></div><div class=\"children hor  rtl\"><div class=\"contnr c0 trm rtl  hl\" ><div class=\"lbl c0 trm hl\" ><a target=\"_blank\" href=\"http://tanzil.net\" title=\"show this passage on Tanzil\"><span class=\"txtu ara\">رَبَّ</span></a></div><div class='features'><span class=\"pos xft\" ><span class=\"f\">pos=</span>noun</span></div></div><div class=\"contnr c0 trm rtl  \" ><div class=\"lbl c0 trm \" ><span class=\"txtu ara\">كُمُ </span></div><div class='features'><span class=\"pos xft\" ><span class=\"f\">pos=</span>pronoun</span><span class=\"posx xft\" ><span class=\"f\">posx=</span>personal</span></div></div></div></div><div class=\"contnr c1  rtl  \" ><div class=\"lbl c1  \" ><span class=\"nd\">group</span></div><div class=\"children hor  rtl\"><div class=\"contnr c0 trm rtl  \" ><div class=\"lbl c0 trm \" ><a target=\"_blank\" href=\"http://tanzil.net\" title=\"show this passage on Tanzil\"><span class=\"txtu ara\">ٱلَّذِى </span></a></div><div class='features'><span class=\"pos xft\" ><span class=\"f\">pos=</span>pronoun</span><span class=\"posx xft\" ><span class=\"f\">posx=</span>relative</span></div></div></div></div><div class=\"contnr c1  rtl  \" ><div class=\"lbl c1  \" ><span class=\"nd\">group</span></div><div class=\"children hor  rtl\"><div class=\"contnr c0 trm rtl  hl\" ><div class=\"lbl c0 trm hl\" ><a target=\"_blank\" href=\"http://tanzil.net\" title=\"show this passage on Tanzil\"><span class=\"txtu ara\">خَلَقَ</span></a></div><div class='features'><span class=\"pos xft\" ><span class=\"f\">pos=</span>verb</span></div></div><div class=\"contnr c0 trm rtl  \" ><div class=\"lbl c0 trm \" ><span class=\"txtu ara\">كُمْ </span></div><div class='features'><span class=\"pos xft\" ><span class=\"f\">pos=</span>pronoun</span><span class=\"posx xft\" ><span class=\"f\">posx=</span>personal</span></div></div></div></div><div class=\"contnr c1  rtl  \" ><div class=\"lbl c1  \" ><span class=\"nd\">group</span></div><div class=\"children hor  rtl\"><div class=\"contnr c0 trm rtl  \" ><div class=\"lbl c0 trm \" ><span class=\"txtu ara\">وَ</span></div><div class='features'><span class=\"pos xft\" ><span class=\"f\">pos=</span>conjunction</span><span class=\"posx xft\" ><span class=\"f\">posx=</span>coordinating</span></div></div><div class=\"contnr c0 trm rtl  \" ><div class=\"lbl c0 trm \" ><a target=\"_blank\" href=\"http://tanzil.net\" title=\"show this passage on Tanzil\"><span class=\"txtu ara\">ٱلَّذِينَ </span></a></div><div class='features'><span class=\"pos xft\" ><span class=\"f\">pos=</span>pronoun</span><span class=\"posx xft\" ><span class=\"f\">posx=</span>relative</span></div></div></div></div><div class=\"contnr c1  rtl  \" ><div class=\"lbl c1  \" ><span class=\"nd\">group</span></div><div class=\"children hor  rtl\"><div class=\"contnr c0 trm rtl  \" ><div class=\"lbl c0 trm \" ><a target=\"_blank\" href=\"http://tanzil.net\" title=\"show this passage on Tanzil\"><span class=\"txtu ara\">مِن </span></a></div><div class='features'><span class=\"pos xft\" ><span class=\"f\">pos=</span>preposition</span></div></div></div></div><div class=\"contnr c1  rtl  \" ><div class=\"lbl c1  \" ><span class=\"nd\">group</span></div><div class=\"children hor  rtl\"><div class=\"contnr c0 trm rtl  hl\" ><div class=\"lbl c0 trm hl\" ><a target=\"_blank\" href=\"http://tanzil.net\" title=\"show this passage on Tanzil\"><span class=\"txtu ara\">قَبْلِ</span></a></div><div class='features'><span class=\"pos xft\" ><span class=\"f\">pos=</span>noun</span></div></div><div class=\"contnr c0 trm rtl  \" ><div class=\"lbl c0 trm \" ><span class=\"txtu ara\">كُمْ </span></div><div class='features'><span class=\"pos xft\" ><span class=\"f\">pos=</span>pronoun</span><span class=\"posx xft\" ><span class=\"f\">posx=</span>personal</span></div></div></div></div><div class=\"contnr c1  rtl  \" ><div class=\"lbl c1  \" ><span class=\"nd\">group</span></div><div class=\"children hor  rtl\"><div class=\"contnr c0 trm rtl  \" ><div class=\"lbl c0 trm \" ><a target=\"_blank\" href=\"http://tanzil.net\" title=\"show this passage on Tanzil\"><span class=\"txtu ara\">لَعَلَّ</span></a></div><div class='features'><span class=\"pos xft\" ><span class=\"f\">pos=</span>particle</span><span class=\"posx xft\" ><span class=\"f\">posx=</span>accusative</span></div></div><div class=\"contnr c0 trm rtl  \" ><div class=\"lbl c0 trm \" ><span class=\"txtu ara\">كُمْ </span></div><div class='features'><span class=\"pos xft\" ><span class=\"f\">pos=</span>pronoun</span><span class=\"posx xft\" ><span class=\"f\">posx=</span>personal</span></div></div></div></div><div class=\"contnr c1  rtl  \" ><div class=\"lbl c1  \" ><span class=\"nd\">group</span></div><div class=\"children hor  rtl\"><div class=\"contnr c0 trm rtl  hl\" ><div class=\"lbl c0 trm hl\" ><a target=\"_blank\" href=\"http://tanzil.net\" title=\"show this passage on Tanzil\"><span class=\"txtu ara\">تَتَّقُ</span></a></div><div class='features'><span class=\"pos xft\" ><span class=\"f\">pos=</span>verb</span></div></div><div class=\"contnr c0 trm rtl  \" ><div class=\"lbl c0 trm \" ><span class=\"txtu ara\">ونَ</span></div><div class='features'><span class=\"pos xft\" ><span class=\"f\">pos=</span>pronoun</span><span class=\"posx xft\" ><span class=\"f\">posx=</span>personal</span></div></div></div></div></div></div></div>"
      ],
      "text/plain": [
       "<IPython.core.display.HTML object>"
      ]
     },
     "metadata": {},
     "output_type": "display_data"
    },
    {
     "data": {
      "text/html": [
       "<p><b>aya</b> <i>2</i></p>"
      ],
      "text/plain": [
       "<IPython.core.display.HTML object>"
      ]
     },
     "metadata": {},
     "output_type": "display_data"
    },
    {
     "data": {
      "text/html": [
       "<div class=\"section rtl\"><a target=\"_blank\" href=\"http://tanzil.net/#2:40\" title=\"show this passage on Tanzil\" sec=\"2:40\">2:40</a></div><div class=\"rtl children\"><div class=\"contnr c3  rtl  \" ><div class=\"lbl c3  \" ><span class=\"nd\">aya</span></div><div class='features'><span class=\"translation@en xft\" ><span class=\"f\">translation@en=</span>Children of Israel, remember My blessing wherewith I blessed you, and fulfil My covenant and I shall fulfil your covenant; and have awe of Me.</span></div><div class=\"children hor wrap rtl\"><div class=\"contnr c1  rtl  \" ><div class=\"lbl c1  \" ><span class=\"nd\">group</span></div><div class=\"children hor  rtl\"><div class=\"contnr c0 trm rtl  hl\" ><div class=\"lbl c0 trm hl\" ><span class=\"txtu ara\">يَٰ</span></div><div class='features'><span class=\"pos xft\" ><span class=\"f\">pos=</span>particle</span><span class=\"posx xft\" ><span class=\"f\">posx=</span>vocative</span></div></div><div class=\"contnr c0 trm rtl  hl\" ><div class=\"lbl c0 trm hl\" ><a target=\"_blank\" href=\"http://tanzil.net\" title=\"show this passage on Tanzil\"><span class=\"txtu ara\">بَنِىٓ </span></a></div><div class='features'><span class=\"pos xft\" ><span class=\"f\">pos=</span>noun</span></div></div></div></div><div class=\"contnr c1  rtl  \" ><div class=\"lbl c1  \" ><span class=\"nd\">group</span></div><div class=\"children hor  rtl\"><div class=\"contnr c0 trm rtl  hl\" ><div class=\"lbl c0 trm hl\" ><a target=\"_blank\" href=\"http://tanzil.net\" title=\"show this passage on Tanzil\"><span class=\"txtu ara\">إِسْرَٰٓءِيلَ </span></a></div><div class='features'><span class=\"pos xft\" ><span class=\"f\">pos=</span>noun</span><span class=\"posx xft\" ><span class=\"f\">posx=</span>proper</span></div></div></div></div><div class=\"contnr c1  rtl  \" ><div class=\"lbl c1  \" ><span class=\"nd\">group</span></div><div class=\"children hor  rtl\"><div class=\"contnr c0 trm rtl  hl\" ><div class=\"lbl c0 trm hl\" ><a target=\"_blank\" href=\"http://tanzil.net\" title=\"show this passage on Tanzil\"><span class=\"txtu ara\">ٱذْكُرُ</span></a></div><div class='features'><span class=\"pos xft\" ><span class=\"f\">pos=</span>verb</span></div></div><div class=\"contnr c0 trm rtl  \" ><div class=\"lbl c0 trm \" ><span class=\"txtu ara\">وا۟ </span></div><div class='features'><span class=\"pos xft\" ><span class=\"f\">pos=</span>pronoun</span><span class=\"posx xft\" ><span class=\"f\">posx=</span>personal</span></div></div></div></div><div class=\"contnr c1  rtl  \" ><div class=\"lbl c1  \" ><span class=\"nd\">group</span></div><div class=\"children hor  rtl\"><div class=\"contnr c0 trm rtl  hl\" ><div class=\"lbl c0 trm hl\" ><a target=\"_blank\" href=\"http://tanzil.net\" title=\"show this passage on Tanzil\"><span class=\"txtu ara\">نِعْمَتِ</span></a></div><div class='features'><span class=\"pos xft\" ><span class=\"f\">pos=</span>noun</span></div></div><div class=\"contnr c0 trm rtl  \" ><div class=\"lbl c0 trm \" ><span class=\"txtu ara\">ىَ </span></div><div class='features'><span class=\"pos xft\" ><span class=\"f\">pos=</span>pronoun</span><span class=\"posx xft\" ><span class=\"f\">posx=</span>personal</span></div></div></div></div><div class=\"contnr c1  rtl  \" ><div class=\"lbl c1  \" ><span class=\"nd\">group</span></div><div class=\"children hor  rtl\"><div class=\"contnr c0 trm rtl  \" ><div class=\"lbl c0 trm \" ><a target=\"_blank\" href=\"http://tanzil.net\" title=\"show this passage on Tanzil\"><span class=\"txtu ara\">ٱلَّتِىٓ </span></a></div><div class='features'><span class=\"pos xft\" ><span class=\"f\">pos=</span>pronoun</span><span class=\"posx xft\" ><span class=\"f\">posx=</span>relative</span></div></div></div></div><div class=\"contnr c1  rtl  \" ><div class=\"lbl c1  \" ><span class=\"nd\">group</span></div><div class=\"children hor  rtl\"><div class=\"contnr c0 trm rtl  hl\" ><div class=\"lbl c0 trm hl\" ><a target=\"_blank\" href=\"http://tanzil.net\" title=\"show this passage on Tanzil\"><span class=\"txtu ara\">أَنْعَمْ</span></a></div><div class='features'><span class=\"pos xft\" ><span class=\"f\">pos=</span>verb</span></div></div><div class=\"contnr c0 trm rtl  \" ><div class=\"lbl c0 trm \" ><span class=\"txtu ara\">تُ </span></div><div class='features'><span class=\"pos xft\" ><span class=\"f\">pos=</span>pronoun</span><span class=\"posx xft\" ><span class=\"f\">posx=</span>personal</span></div></div></div></div><div class=\"contnr c1  rtl  \" ><div class=\"lbl c1  \" ><span class=\"nd\">group</span></div><div class=\"children hor  rtl\"><div class=\"contnr c0 trm rtl  \" ><div class=\"lbl c0 trm \" ><a target=\"_blank\" href=\"http://tanzil.net\" title=\"show this passage on Tanzil\"><span class=\"txtu ara\">عَلَيْ</span></a></div><div class='features'><span class=\"pos xft\" ><span class=\"f\">pos=</span>preposition</span></div></div><div class=\"contnr c0 trm rtl  \" ><div class=\"lbl c0 trm \" ><span class=\"txtu ara\">كُمْ </span></div><div class='features'><span class=\"pos xft\" ><span class=\"f\">pos=</span>pronoun</span><span class=\"posx xft\" ><span class=\"f\">posx=</span>personal</span></div></div></div></div><div class=\"contnr c1  rtl  \" ><div class=\"lbl c1  \" ><span class=\"nd\">group</span></div><div class=\"children hor  rtl\"><div class=\"contnr c0 trm rtl  \" ><div class=\"lbl c0 trm \" ><span class=\"txtu ara\">وَ</span></div><div class='features'><span class=\"pos xft\" ><span class=\"f\">pos=</span>conjunction</span><span class=\"posx xft\" ><span class=\"f\">posx=</span>coordinating</span></div></div><div class=\"contnr c0 trm rtl  hl\" ><div class=\"lbl c0 trm hl\" ><a target=\"_blank\" href=\"http://tanzil.net\" title=\"show this passage on Tanzil\"><span class=\"txtu ara\">أَوْفُ</span></a></div><div class='features'><span class=\"pos xft\" ><span class=\"f\">pos=</span>verb</span></div></div><div class=\"contnr c0 trm rtl  \" ><div class=\"lbl c0 trm \" ><span class=\"txtu ara\">وا۟ </span></div><div class='features'><span class=\"pos xft\" ><span class=\"f\">pos=</span>pronoun</span><span class=\"posx xft\" ><span class=\"f\">posx=</span>personal</span></div></div></div></div><div class=\"contnr c1  rtl  \" ><div class=\"lbl c1  \" ><span class=\"nd\">group</span></div><div class=\"children hor  rtl\"><div class=\"contnr c0 trm rtl  \" ><div class=\"lbl c0 trm \" ><span class=\"txtu ara\">بِ</span></div><div class='features'><span class=\"pos xft\" ><span class=\"f\">pos=</span>preposition</span></div></div><div class=\"contnr c0 trm rtl  hl\" ><div class=\"lbl c0 trm hl\" ><a target=\"_blank\" href=\"http://tanzil.net\" title=\"show this passage on Tanzil\"><span class=\"txtu ara\">عَهْدِ</span></a></div><div class='features'><span class=\"pos xft\" ><span class=\"f\">pos=</span>noun</span></div></div><div class=\"contnr c0 trm rtl  \" ><div class=\"lbl c0 trm \" ><span class=\"txtu ara\">ىٓ </span></div><div class='features'><span class=\"pos xft\" ><span class=\"f\">pos=</span>pronoun</span><span class=\"posx xft\" ><span class=\"f\">posx=</span>personal</span></div></div></div></div><div class=\"contnr c1  rtl  \" ><div class=\"lbl c1  \" ><span class=\"nd\">group</span></div><div class=\"children hor  rtl\"><div class=\"contnr c0 trm rtl  hl\" ><div class=\"lbl c0 trm hl\" ><a target=\"_blank\" href=\"http://tanzil.net\" title=\"show this passage on Tanzil\"><span class=\"txtu ara\">أُوفِ </span></a></div><div class='features'><span class=\"pos xft\" ><span class=\"f\">pos=</span>verb</span></div></div></div></div><div class=\"contnr c1  rtl  \" ><div class=\"lbl c1  \" ><span class=\"nd\">group</span></div><div class=\"children hor  rtl\"><div class=\"contnr c0 trm rtl  \" ><div class=\"lbl c0 trm \" ><span class=\"txtu ara\">بِ</span></div><div class='features'><span class=\"pos xft\" ><span class=\"f\">pos=</span>preposition</span></div></div><div class=\"contnr c0 trm rtl  hl\" ><div class=\"lbl c0 trm hl\" ><a target=\"_blank\" href=\"http://tanzil.net\" title=\"show this passage on Tanzil\"><span class=\"txtu ara\">عَهْدِ</span></a></div><div class='features'><span class=\"pos xft\" ><span class=\"f\">pos=</span>noun</span></div></div><div class=\"contnr c0 trm rtl  \" ><div class=\"lbl c0 trm \" ><span class=\"txtu ara\">كُمْ </span></div><div class='features'><span class=\"pos xft\" ><span class=\"f\">pos=</span>pronoun</span><span class=\"posx xft\" ><span class=\"f\">posx=</span>personal</span></div></div></div></div><div class=\"contnr c1  rtl  \" ><div class=\"lbl c1  \" ><span class=\"nd\">group</span></div><div class=\"children hor  rtl\"><div class=\"contnr c0 trm rtl  \" ><div class=\"lbl c0 trm \" ><span class=\"txtu ara\">وَ</span></div><div class='features'><span class=\"pos xft\" ><span class=\"f\">pos=</span>conjunction</span><span class=\"posx xft\" ><span class=\"f\">posx=</span>coordinating</span></div></div><div class=\"contnr c0 trm rtl  \" ><div class=\"lbl c0 trm \" ><a target=\"_blank\" href=\"http://tanzil.net\" title=\"show this passage on Tanzil\"><span class=\"txtu ara\">إِيَّٰىَ </span></a></div><div class='features'><span class=\"pos xft\" ><span class=\"f\">pos=</span>pronoun</span><span class=\"posx xft\" ><span class=\"f\">posx=</span>personal</span></div></div></div></div><div class=\"contnr c1  rtl  \" ><div class=\"lbl c1  \" ><span class=\"nd\">group</span></div><div class=\"children hor  rtl\"><div class=\"contnr c0 trm rtl  \" ><div class=\"lbl c0 trm \" ><span class=\"txtu ara\">فَ</span></div><div class='features'><span class=\"pos xft\" ><span class=\"f\">pos=</span>conjunction</span><span class=\"posx xft\" ><span class=\"f\">posx=</span>coordinating</span></div></div><div class=\"contnr c0 trm rtl  hl\" ><div class=\"lbl c0 trm hl\" ><a target=\"_blank\" href=\"http://tanzil.net\" title=\"show this passage on Tanzil\"><span class=\"txtu ara\">ٱرْهَبُ</span></a></div><div class='features'><span class=\"pos xft\" ><span class=\"f\">pos=</span>verb</span></div></div><div class=\"contnr c0 trm rtl  \" ><div class=\"lbl c0 trm \" ><span class=\"txtu ara\">و</span></div><div class='features'><span class=\"pos xft\" ><span class=\"f\">pos=</span>pronoun</span><span class=\"posx xft\" ><span class=\"f\">posx=</span>personal</span></div></div><div class=\"contnr c0 trm rtl  \" ><div class=\"lbl c0 trm \" ><span class=\"txtu ara\">نِ</span></div><div class='features'><span class=\"pos xft\" ><span class=\"f\">pos=</span>pronoun</span><span class=\"posx xft\" ><span class=\"f\">posx=</span>personal</span></div></div></div></div></div></div></div>"
      ],
      "text/plain": [
       "<IPython.core.display.HTML object>"
      ]
     },
     "metadata": {},
     "output_type": "display_data"
    }
   ],
   "source": [
    "A.show(resultsP, end=2, condensed=True)"
   ]
  },
  {
   "cell_type": "code",
   "execution_count": 9,
   "metadata": {},
   "outputs": [
    {
     "data": {
      "text/html": [
       "<p><b>aya</b> <i>1</i></p>"
      ],
      "text/plain": [
       "<IPython.core.display.HTML object>"
      ]
     },
     "metadata": {},
     "output_type": "display_data"
    },
    {
     "data": {
      "text/html": [
       "<div class=\"section rtl\"><a target=\"_blank\" href=\"http://tanzil.net/#2:8\" title=\"show this passage on Tanzil\" sec=\"2:8\">2:8</a></div><div class=\"rtl children\"><div class=\"contnr c3  rtl  \" ><div class=\"lbl c3  \" ><span class=\"nd\">aya</span></div><div class='features'><span class=\"translation@en xft\" ><span class=\"f\">translation@en=</span>And some men there are who say, 'We believe in God and the Last Day'; but they are not believers.</span></div><div class=\"children hor wrap rtl\"><div class=\"contnr c1  rtl  \" ><div class=\"lbl c1  \" ><span class=\"nd\">group</span></div><div class=\"children hor  rtl\"><div class=\"contnr c0 trm rtl  hl\" ><div class=\"lbl c0 trm hl\" ><span class=\"txtu ara\">وَ</span></div><div class='features'><span class=\"pos xft\" ><span class=\"f\">pos=</span>particle</span><span class=\"posx xft\" ><span class=\"f\">posx=</span>resumption</span></div></div><div class=\"contnr c0 trm rtl  \" ><div class=\"lbl c0 trm \" ><a target=\"_blank\" href=\"http://tanzil.net\" title=\"show this passage on Tanzil\"><span class=\"txtu ara\">مِنَ </span></a></div><div class='features'><span class=\"pos xft\" ><span class=\"f\">pos=</span>preposition</span></div></div></div></div><div class=\"contnr c1  rtl  \" ><div class=\"lbl c1  \" ><span class=\"nd\">group</span></div><div class=\"children hor  rtl\"><div class=\"contnr c0 trm rtl  \" ><div class=\"lbl c0 trm \" ><span class=\"txtu ara\">ٱل</span></div><div class='features'><span class=\"pos xft\" ><span class=\"f\">pos=</span>determiner</span></div></div><div class=\"contnr c0 trm rtl  hl\" ><div class=\"lbl c0 trm hl\" ><a target=\"_blank\" href=\"http://tanzil.net\" title=\"show this passage on Tanzil\"><span class=\"txtu ara\">نَّاسِ </span></a></div><div class='features'><span class=\"pos xft\" ><span class=\"f\">pos=</span>noun</span></div></div></div></div><div class=\"contnr c1  rtl  \" ><div class=\"lbl c1  \" ><span class=\"nd\">group</span></div><div class=\"children hor  rtl\"><div class=\"contnr c0 trm rtl  \" ><div class=\"lbl c0 trm \" ><a target=\"_blank\" href=\"http://tanzil.net\" title=\"show this passage on Tanzil\"><span class=\"txtu ara\">مَن </span></a></div><div class='features'><span class=\"pos xft\" ><span class=\"f\">pos=</span>pronoun</span><span class=\"posx xft\" ><span class=\"f\">posx=</span>relative</span></div></div></div></div><div class=\"contnr c1  rtl  \" ><div class=\"lbl c1  \" ><span class=\"nd\">group</span></div><div class=\"children hor  rtl\"><div class=\"contnr c0 trm rtl  hl\" ><div class=\"lbl c0 trm hl\" ><a target=\"_blank\" href=\"http://tanzil.net\" title=\"show this passage on Tanzil\"><span class=\"txtu ara\">يَقُولُ </span></a></div><div class='features'><span class=\"pos xft\" ><span class=\"f\">pos=</span>verb</span></div></div></div></div><div class=\"contnr c1  rtl  \" ><div class=\"lbl c1  \" ><span class=\"nd\">group</span></div><div class=\"children hor  rtl\"><div class=\"contnr c0 trm rtl  hl\" ><div class=\"lbl c0 trm hl\" ><a target=\"_blank\" href=\"http://tanzil.net\" title=\"show this passage on Tanzil\"><span class=\"txtu ara\">ءَامَ</span></a></div><div class='features'><span class=\"pos xft\" ><span class=\"f\">pos=</span>verb</span></div></div><div class=\"contnr c0 trm rtl  \" ><div class=\"lbl c0 trm \" ><span class=\"txtu ara\">نَّا </span></div><div class='features'><span class=\"pos xft\" ><span class=\"f\">pos=</span>pronoun</span><span class=\"posx xft\" ><span class=\"f\">posx=</span>personal</span></div></div></div></div><div class=\"contnr c1  rtl  \" ><div class=\"lbl c1  \" ><span class=\"nd\">group</span></div><div class=\"children hor  rtl\"><div class=\"contnr c0 trm rtl  \" ><div class=\"lbl c0 trm \" ><span class=\"txtu ara\">بِ</span></div><div class='features'><span class=\"pos xft\" ><span class=\"f\">pos=</span>preposition</span></div></div><div class=\"contnr c0 trm rtl  hl\" ><div class=\"lbl c0 trm hl\" ><a target=\"_blank\" href=\"http://tanzil.net\" title=\"show this passage on Tanzil\"><span class=\"txtu ara\">ٱللَّهِ </span></a></div><div class='features'><span class=\"pos xft\" ><span class=\"f\">pos=</span>noun</span><span class=\"posx xft\" ><span class=\"f\">posx=</span>proper</span></div></div></div></div><div class=\"contnr c1  rtl  \" ><div class=\"lbl c1  \" ><span class=\"nd\">group</span></div><div class=\"children hor  rtl\"><div class=\"contnr c0 trm rtl  \" ><div class=\"lbl c0 trm \" ><span class=\"txtu ara\">وَ</span></div><div class='features'><span class=\"pos xft\" ><span class=\"f\">pos=</span>conjunction</span><span class=\"posx xft\" ><span class=\"f\">posx=</span>coordinating</span></div></div><div class=\"contnr c0 trm rtl  \" ><div class=\"lbl c0 trm \" ><span class=\"txtu ara\">بِ</span></div><div class='features'><span class=\"pos xft\" ><span class=\"f\">pos=</span>preposition</span></div></div><div class=\"contnr c0 trm rtl  \" ><div class=\"lbl c0 trm \" ><span class=\"txtu ara\">ٱلْ</span></div><div class='features'><span class=\"pos xft\" ><span class=\"f\">pos=</span>determiner</span></div></div><div class=\"contnr c0 trm rtl  hl\" ><div class=\"lbl c0 trm hl\" ><a target=\"_blank\" href=\"http://tanzil.net\" title=\"show this passage on Tanzil\"><span class=\"txtu ara\">يَوْمِ </span></a></div><div class='features'><span class=\"pos xft\" ><span class=\"f\">pos=</span>noun</span></div></div></div></div><div class=\"contnr c1  rtl  \" ><div class=\"lbl c1  \" ><span class=\"nd\">group</span></div><div class=\"children hor  rtl\"><div class=\"contnr c0 trm rtl  \" ><div class=\"lbl c0 trm \" ><span class=\"txtu ara\">ٱلْ</span></div><div class='features'><span class=\"pos xft\" ><span class=\"f\">pos=</span>determiner</span></div></div><div class=\"contnr c0 trm rtl  hl\" ><div class=\"lbl c0 trm hl\" ><a target=\"_blank\" href=\"http://tanzil.net\" title=\"show this passage on Tanzil\"><span class=\"txtu ara\">ءَاخِرِ </span></a></div><div class='features'><span class=\"pos xft\" ><span class=\"f\">pos=</span>adjective</span></div></div></div></div><div class=\"contnr c1  rtl  \" ><div class=\"lbl c1  \" ><span class=\"nd\">group</span></div><div class=\"children hor  rtl\"><div class=\"contnr c0 trm rtl  \" ><div class=\"lbl c0 trm \" ><span class=\"txtu ara\">وَ</span></div><div class='features'><span class=\"pos xft\" ><span class=\"f\">pos=</span>particle</span><span class=\"posx xft\" ><span class=\"f\">posx=</span>circumstantial</span></div></div><div class=\"contnr c0 trm rtl  \" ><div class=\"lbl c0 trm \" ><a target=\"_blank\" href=\"http://tanzil.net\" title=\"show this passage on Tanzil\"><span class=\"txtu ara\">مَا </span></a></div><div class='features'><span class=\"pos xft\" ><span class=\"f\">pos=</span>particle</span><span class=\"posx xft\" ><span class=\"f\">posx=</span>negative</span></div></div></div></div><div class=\"contnr c1  rtl  \" ><div class=\"lbl c1  \" ><span class=\"nd\">group</span></div><div class=\"children hor  rtl\"><div class=\"contnr c0 trm rtl  \" ><div class=\"lbl c0 trm \" ><span class=\"txtu ara\">هُم </span></div><div class='features'><span class=\"pos xft\" ><span class=\"f\">pos=</span>pronoun</span><span class=\"posx xft\" ><span class=\"f\">posx=</span>personal</span></div></div></div></div><div class=\"contnr c1  rtl  \" ><div class=\"lbl c1  \" ><span class=\"nd\">group</span></div><div class=\"children hor  rtl\"><div class=\"contnr c0 trm rtl  \" ><div class=\"lbl c0 trm \" ><span class=\"txtu ara\">بِ</span></div><div class='features'><span class=\"pos xft\" ><span class=\"f\">pos=</span>preposition</span></div></div><div class=\"contnr c0 trm rtl  hl\" ><div class=\"lbl c0 trm hl\" ><a target=\"_blank\" href=\"http://tanzil.net\" title=\"show this passage on Tanzil\"><span class=\"txtu ara\">مُؤْمِنِينَ</span></a></div><div class='features'><span class=\"pos xft\" ><span class=\"f\">pos=</span>noun</span></div></div></div></div></div></div></div>"
      ],
      "text/plain": [
       "<IPython.core.display.HTML object>"
      ]
     },
     "metadata": {},
     "output_type": "display_data"
    },
    {
     "data": {
      "text/html": [
       "<p><b>aya</b> <i>2</i></p>"
      ],
      "text/plain": [
       "<IPython.core.display.HTML object>"
      ]
     },
     "metadata": {},
     "output_type": "display_data"
    },
    {
     "data": {
      "text/html": [
       "<div class=\"section rtl\"><a target=\"_blank\" href=\"http://tanzil.net/#2:11\" title=\"show this passage on Tanzil\" sec=\"2:11\">2:11</a></div><div class=\"rtl children\"><div class=\"contnr c3  rtl  \" ><div class=\"lbl c3  \" ><span class=\"nd\">aya</span></div><div class='features'><span class=\"translation@en xft\" ><span class=\"f\">translation@en=</span>When it is said to them, 'Do not corruption in the land', they say, 'We are only ones that put things right.'</span></div><div class=\"children hor wrap rtl\"><div class=\"contnr c1  rtl  \" ><div class=\"lbl c1  \" ><span class=\"nd\">group</span></div><div class=\"children hor  rtl\"><div class=\"contnr c0 trm rtl  hl\" ><div class=\"lbl c0 trm hl\" ><span class=\"txtu ara\">وَ</span></div><div class='features'><span class=\"pos xft\" ><span class=\"f\">pos=</span>particle</span><span class=\"posx xft\" ><span class=\"f\">posx=</span>resumption</span></div></div><div class=\"contnr c0 trm rtl  \" ><div class=\"lbl c0 trm \" ><a target=\"_blank\" href=\"http://tanzil.net\" title=\"show this passage on Tanzil\"><span class=\"txtu ara\">إِذَا </span></a></div><div class='features'><span class=\"pos xft\" ><span class=\"f\">pos=</span>adverb</span><span class=\"posx xft\" ><span class=\"f\">posx=</span>time</span></div></div></div></div><div class=\"contnr c1  rtl  \" ><div class=\"lbl c1  \" ><span class=\"nd\">group</span></div><div class=\"children hor  rtl\"><div class=\"contnr c0 trm rtl  hl\" ><div class=\"lbl c0 trm hl\" ><a target=\"_blank\" href=\"http://tanzil.net\" title=\"show this passage on Tanzil\"><span class=\"txtu ara\">قِيلَ </span></a></div><div class='features'><span class=\"pos xft\" ><span class=\"f\">pos=</span>verb</span></div></div></div></div><div class=\"contnr c1  rtl  \" ><div class=\"lbl c1  \" ><span class=\"nd\">group</span></div><div class=\"children hor  rtl\"><div class=\"contnr c0 trm rtl  \" ><div class=\"lbl c0 trm \" ><span class=\"txtu ara\">لَ</span></div><div class='features'><span class=\"pos xft\" ><span class=\"f\">pos=</span>preposition</span></div></div><div class=\"contnr c0 trm rtl  \" ><div class=\"lbl c0 trm \" ><span class=\"txtu ara\">هُمْ </span></div><div class='features'><span class=\"pos xft\" ><span class=\"f\">pos=</span>pronoun</span><span class=\"posx xft\" ><span class=\"f\">posx=</span>personal</span></div></div></div></div><div class=\"contnr c1  rtl  \" ><div class=\"lbl c1  \" ><span class=\"nd\">group</span></div><div class=\"children hor  rtl\"><div class=\"contnr c0 trm rtl  \" ><div class=\"lbl c0 trm \" ><a target=\"_blank\" href=\"http://tanzil.net\" title=\"show this passage on Tanzil\"><span class=\"txtu ara\">لَا </span></a></div><div class='features'><span class=\"pos xft\" ><span class=\"f\">pos=</span>particle</span><span class=\"posx xft\" ><span class=\"f\">posx=</span>prohibition</span></div></div></div></div><div class=\"contnr c1  rtl  \" ><div class=\"lbl c1  \" ><span class=\"nd\">group</span></div><div class=\"children hor  rtl\"><div class=\"contnr c0 trm rtl  hl\" ><div class=\"lbl c0 trm hl\" ><a target=\"_blank\" href=\"http://tanzil.net\" title=\"show this passage on Tanzil\"><span class=\"txtu ara\">تُفْسِدُ</span></a></div><div class='features'><span class=\"pos xft\" ><span class=\"f\">pos=</span>verb</span></div></div><div class=\"contnr c0 trm rtl  \" ><div class=\"lbl c0 trm \" ><span class=\"txtu ara\">وا۟ </span></div><div class='features'><span class=\"pos xft\" ><span class=\"f\">pos=</span>pronoun</span><span class=\"posx xft\" ><span class=\"f\">posx=</span>personal</span></div></div></div></div><div class=\"contnr c1  rtl  \" ><div class=\"lbl c1  \" ><span class=\"nd\">group</span></div><div class=\"children hor  rtl\"><div class=\"contnr c0 trm rtl  \" ><div class=\"lbl c0 trm \" ><a target=\"_blank\" href=\"http://tanzil.net\" title=\"show this passage on Tanzil\"><span class=\"txtu ara\">فِى </span></a></div><div class='features'><span class=\"pos xft\" ><span class=\"f\">pos=</span>preposition</span></div></div></div></div><div class=\"contnr c1  rtl  \" ><div class=\"lbl c1  \" ><span class=\"nd\">group</span></div><div class=\"children hor  rtl\"><div class=\"contnr c0 trm rtl  \" ><div class=\"lbl c0 trm \" ><span class=\"txtu ara\">ٱلْ</span></div><div class='features'><span class=\"pos xft\" ><span class=\"f\">pos=</span>determiner</span></div></div><div class=\"contnr c0 trm rtl  hl\" ><div class=\"lbl c0 trm hl\" ><a target=\"_blank\" href=\"http://tanzil.net\" title=\"show this passage on Tanzil\"><span class=\"txtu ara\">أَرْضِ </span></a></div><div class='features'><span class=\"pos xft\" ><span class=\"f\">pos=</span>noun</span></div></div></div></div><div class=\"contnr c1  rtl  \" ><div class=\"lbl c1  \" ><span class=\"nd\">group</span></div><div class=\"children hor  rtl\"><div class=\"contnr c0 trm rtl  hl\" ><div class=\"lbl c0 trm hl\" ><a target=\"_blank\" href=\"http://tanzil.net\" title=\"show this passage on Tanzil\"><span class=\"txtu ara\">قَالُ</span></a></div><div class='features'><span class=\"pos xft\" ><span class=\"f\">pos=</span>verb</span></div></div><div class=\"contnr c0 trm rtl  \" ><div class=\"lbl c0 trm \" ><span class=\"txtu ara\">وٓا۟ </span></div><div class='features'><span class=\"pos xft\" ><span class=\"f\">pos=</span>pronoun</span><span class=\"posx xft\" ><span class=\"f\">posx=</span>personal</span></div></div></div></div><div class=\"contnr c1  rtl  \" ><div class=\"lbl c1  \" ><span class=\"nd\">group</span></div><div class=\"children hor  rtl\"><div class=\"contnr c0 trm rtl  \" ><div class=\"lbl c0 trm \" ><a target=\"_blank\" href=\"http://tanzil.net\" title=\"show this passage on Tanzil\"><span class=\"txtu ara\">إِنَّ</span></a></div><div class='features'><span class=\"pos xft\" ><span class=\"f\">pos=</span>particle</span><span class=\"posx xft\" ><span class=\"f\">posx=</span>accusative</span></div></div><div class=\"contnr c0 trm rtl  \" ><div class=\"lbl c0 trm \" ><a target=\"_blank\" href=\"http://tanzil.net\" title=\"show this passage on Tanzil\"><span class=\"txtu ara\">مَا </span></a></div><div class='features'><span class=\"pos xft\" ><span class=\"f\">pos=</span>particle</span><span class=\"posx xft\" ><span class=\"f\">posx=</span>preventive</span></div></div></div></div><div class=\"contnr c1  rtl  \" ><div class=\"lbl c1  \" ><span class=\"nd\">group</span></div><div class=\"children hor  rtl\"><div class=\"contnr c0 trm rtl  \" ><div class=\"lbl c0 trm \" ><span class=\"txtu ara\">نَحْنُ </span></div><div class='features'><span class=\"pos xft\" ><span class=\"f\">pos=</span>pronoun</span><span class=\"posx xft\" ><span class=\"f\">posx=</span>personal</span></div></div></div></div><div class=\"contnr c1  rtl  \" ><div class=\"lbl c1  \" ><span class=\"nd\">group</span></div><div class=\"children hor  rtl\"><div class=\"contnr c0 trm rtl  hl\" ><div class=\"lbl c0 trm hl\" ><a target=\"_blank\" href=\"http://tanzil.net\" title=\"show this passage on Tanzil\"><span class=\"txtu ara\">مُصْلِحُونَ</span></a></div><div class='features'><span class=\"pos xft\" ><span class=\"f\">pos=</span>noun</span></div></div></div></div></div></div></div>"
      ],
      "text/plain": [
       "<IPython.core.display.HTML object>"
      ]
     },
     "metadata": {},
     "output_type": "display_data"
    }
   ],
   "source": [
    "A.show(resultsN, end=2, condensed=True)"
   ]
  },
  {
   "cell_type": "markdown",
   "metadata": {},
   "source": [
    "Observe how the positive results indeed have a positive sentiment, and the negative ones are indeed negative.\n",
    "\n",
    "However, we do not attempt at all to weed out the positive words under negation from the negative contexts.\n",
    "\n",
    "So our sentiments have to work against a massive \"pollution\", and are probably not useful."
   ]
  },
  {
   "cell_type": "code",
   "execution_count": 10,
   "metadata": {},
   "outputs": [],
   "source": [
    "sentiment = collections.Counter()\n",
    "\n",
    "for (results, kind) in ((resultsP, 1), (resultsN, -1)):\n",
    "    for (aya, particle, word) in results:\n",
    "        sentiment[F.lemma.v(word)] += kind"
   ]
  },
  {
   "cell_type": "markdown",
   "metadata": {},
   "source": [
    "Let's check what we found: how many lemma's per sentiment."
   ]
  },
  {
   "cell_type": "code",
   "execution_count": 11,
   "metadata": {},
   "outputs": [
    {
     "name": "stdout",
     "output_type": "stream",
     "text": [
      "sentiment  -1 is assigned to  870 lemmas\n",
      "sentiment   1 is assigned to  273 lemmas\n",
      "sentiment  -2 is assigned to  248 lemmas\n",
      "sentiment   0 is assigned to  118 lemmas\n",
      "sentiment  -3 is assigned to  107 lemmas\n",
      "sentiment  -4 is assigned to   87 lemmas\n",
      "sentiment   2 is assigned to   56 lemmas\n",
      "sentiment  -5 is assigned to   53 lemmas\n",
      "sentiment  -6 is assigned to   38 lemmas\n",
      "sentiment  -7 is assigned to   30 lemmas\n",
      "sentiment  -8 is assigned to   20 lemmas\n",
      "sentiment   3 is assigned to   17 lemmas\n",
      "sentiment -10 is assigned to   16 lemmas\n",
      "sentiment  -9 is assigned to   10 lemmas\n",
      "sentiment -13 is assigned to    7 lemmas\n",
      "sentiment -11 is assigned to    7 lemmas\n",
      "sentiment -14 is assigned to    6 lemmas\n",
      "sentiment -12 is assigned to    6 lemmas\n",
      "sentiment -17 is assigned to    5 lemmas\n",
      "sentiment -32 is assigned to    4 lemmas\n",
      "sentiment -21 is assigned to    4 lemmas\n",
      "sentiment -49 is assigned to    3 lemmas\n",
      "sentiment -22 is assigned to    3 lemmas\n",
      "sentiment -18 is assigned to    3 lemmas\n",
      "sentiment -16 is assigned to    3 lemmas\n",
      "sentiment   4 is assigned to    3 lemmas\n",
      "sentiment   5 is assigned to    3 lemmas\n",
      "sentiment -36 is assigned to    2 lemmas\n",
      "sentiment -30 is assigned to    2 lemmas\n",
      "sentiment -25 is assigned to    2 lemmas\n",
      "sentiment -24 is assigned to    2 lemmas\n",
      "sentiment -23 is assigned to    2 lemmas\n",
      "sentiment -233 is assigned to    1 lemmas\n",
      "sentiment -195 is assigned to    1 lemmas\n",
      "sentiment -138 is assigned to    1 lemmas\n",
      "sentiment -130 is assigned to    1 lemmas\n",
      "sentiment -73 is assigned to    1 lemmas\n",
      "sentiment -54 is assigned to    1 lemmas\n",
      "sentiment -45 is assigned to    1 lemmas\n",
      "sentiment -39 is assigned to    1 lemmas\n",
      "sentiment -37 is assigned to    1 lemmas\n",
      "sentiment -34 is assigned to    1 lemmas\n",
      "sentiment -33 is assigned to    1 lemmas\n",
      "sentiment -31 is assigned to    1 lemmas\n",
      "sentiment -26 is assigned to    1 lemmas\n",
      "sentiment -20 is assigned to    1 lemmas\n",
      "sentiment -15 is assigned to    1 lemmas\n",
      "sentiment  11 is assigned to    1 lemmas\n",
      "sentiment  29 is assigned to    1 lemmas\n",
      "sentiment 122 is assigned to    1 lemmas\n"
     ]
    }
   ],
   "source": [
    "sentimentDist = collections.Counter()\n",
    "\n",
    "for (lemma, sent) in sentiment.items():\n",
    "    sentimentDist[sent] += 1\n",
    "\n",
    "for (sent, amount) in sorted(\n",
    "    sentimentDist.items(),\n",
    "    key=lambda x: (-x[1], x[0]),\n",
    "):\n",
    "    print(f\"sentiment {sent:>3} is assigned to {amount:>4} lemmas\")"
   ]
  },
  {
   "cell_type": "markdown",
   "metadata": {},
   "source": [
    "We show the most negative and most positive sentiments in context."
   ]
  },
  {
   "cell_type": "code",
   "execution_count": 12,
   "metadata": {},
   "outputs": [
    {
     "name": "stdout",
     "output_type": "stream",
     "text": [
      "929 extremely positive word occurrences\n",
      "6650 extremely negative word occurrences\n"
     ]
    }
   ],
   "source": [
    "negaThreshold = -100\n",
    "posiThreshold = 4\n",
    "\n",
    "xPlemmas = {lemma for lemma in sentiment if sentiment[lemma] >= posiThreshold}\n",
    "xNlemmas = {lemma for lemma in sentiment if sentiment[lemma] <= negaThreshold}\n",
    "\n",
    "xPwords = [\n",
    "    w\n",
    "    for w in F.otype.s(\"word\")\n",
    "    if F.lemma.v(w) in xPlemmas and F.pos.v(w) in contentTypes\n",
    "]\n",
    "xNwords = [\n",
    "    w\n",
    "    for w in F.otype.s(\"word\")\n",
    "    if F.lemma.v(w) in xNlemmas and F.pos.v(w) in contentTypes\n",
    "]\n",
    "\n",
    "print(f\"{len(xPwords)} extremely positive word occurrences\")\n",
    "print(f\"{len(xNwords)} extremely negative word occurrences\")"
   ]
  },
  {
   "cell_type": "markdown",
   "metadata": {},
   "source": [
    "We put the words in their ayas, and show a few."
   ]
  },
  {
   "cell_type": "code",
   "execution_count": 13,
   "metadata": {},
   "outputs": [
    {
     "name": "stdout",
     "output_type": "stream",
     "text": [
      "692 ayas with extremely positive word occurrences\n",
      "3558 ayas with extremely negative word occurrences\n"
     ]
    }
   ],
   "source": [
    "xPayas = collections.defaultdict(list)\n",
    "xNayas = collections.defaultdict(list)\n",
    "\n",
    "for w in xPwords:\n",
    "    a = L.u(w, otype=\"aya\")[0]\n",
    "    xPayas[a].append(w)\n",
    "\n",
    "for w in xNwords:\n",
    "    a = L.u(w, otype=\"aya\")[0]\n",
    "    xNayas[a].append(w)\n",
    "\n",
    "print(f\"{len(xPayas)} ayas with extremely positive word occurrences\")\n",
    "print(f\"{len(xNayas)} ayas with extremely negative word occurrences\")\n",
    "\n",
    "xPtuples = [(a, *words) for (a, words) in sorted(xPayas.items())]\n",
    "xNtuples = [(a, *words) for (a, words) in sorted(xNayas.items())]"
   ]
  },
  {
   "cell_type": "markdown",
   "metadata": {},
   "source": [
    "We show three ayas of each category"
   ]
  },
  {
   "cell_type": "code",
   "execution_count": 14,
   "metadata": {},
   "outputs": [
    {
     "data": {
      "text/html": [
       "<p><b>result</b> <i>1</i></p>"
      ],
      "text/plain": [
       "<IPython.core.display.HTML object>"
      ]
     },
     "metadata": {},
     "output_type": "display_data"
    },
    {
     "data": {
      "text/html": [
       "<div class=\"section rtl\"><a target=\"_blank\" href=\"http://tanzil.net/#2:3\" title=\"show this passage on Tanzil\" sec=\"2:3\">2:3</a></div><div class=\"rtl children\"><div class=\"contnr c3  rtl  \" ><div class=\"lbl c3  \" ><span class=\"nd\">aya</span></div><div class='features'><span class=\"translation@en xft\" ><span class=\"f\">translation@en=</span>who believe in the Unseen, and perform the prayer, and expend of that We have provided them;</span></div><div class=\"children hor wrap rtl\"><div class=\"contnr c1  rtl  \" ><div class=\"lbl c1  \" ><span class=\"nd\">group</span></div><div class=\"children hor  rtl\"><div class=\"contnr c0 trm rtl  \" ><div class=\"lbl c0 trm \" ><a target=\"_blank\" href=\"http://tanzil.net\" title=\"show this passage on Tanzil\"><span class=\"txtu ara\">ٱلَّذِينَ </span></a></div><div class='features'><span class=\"pos xft\" ><span class=\"f\">pos=</span>pronoun</span><span class=\"posx xft\" ><span class=\"f\">posx=</span>relative</span></div></div></div></div><div class=\"contnr c1  rtl  \" ><div class=\"lbl c1  \" ><span class=\"nd\">group</span></div><div class=\"children hor  rtl\"><div class=\"contnr c0 trm rtl  hl\" ><div class=\"lbl c0 trm hl\" ><a target=\"_blank\" href=\"http://tanzil.net\" title=\"show this passage on Tanzil\"><span class=\"txtu ara\">يُؤْمِنُ</span></a></div><div class='features'><span class=\"pos xft\" ><span class=\"f\">pos=</span>verb</span></div></div><div class=\"contnr c0 trm rtl  \" ><div class=\"lbl c0 trm \" ><span class=\"txtu ara\">ونَ </span></div><div class='features'><span class=\"pos xft\" ><span class=\"f\">pos=</span>pronoun</span><span class=\"posx xft\" ><span class=\"f\">posx=</span>personal</span></div></div></div></div><div class=\"contnr c1  rtl  \" ><div class=\"lbl c1  \" ><span class=\"nd\">group</span></div><div class=\"children hor  rtl\"><div class=\"contnr c0 trm rtl  \" ><div class=\"lbl c0 trm \" ><span class=\"txtu ara\">بِ</span></div><div class='features'><span class=\"pos xft\" ><span class=\"f\">pos=</span>preposition</span></div></div><div class=\"contnr c0 trm rtl  \" ><div class=\"lbl c0 trm \" ><span class=\"txtu ara\">ٱلْ</span></div><div class='features'><span class=\"pos xft\" ><span class=\"f\">pos=</span>determiner</span></div></div><div class=\"contnr c0 trm rtl  \" ><div class=\"lbl c0 trm \" ><a target=\"_blank\" href=\"http://tanzil.net\" title=\"show this passage on Tanzil\"><span class=\"txtu ara\">غَيْبِ </span></a></div><div class='features'><span class=\"pos xft\" ><span class=\"f\">pos=</span>noun</span></div></div></div></div><div class=\"contnr c1  rtl  \" ><div class=\"lbl c1  \" ><span class=\"nd\">group</span></div><div class=\"children hor  rtl\"><div class=\"contnr c0 trm rtl  \" ><div class=\"lbl c0 trm \" ><span class=\"txtu ara\">وَ</span></div><div class='features'><span class=\"pos xft\" ><span class=\"f\">pos=</span>conjunction</span><span class=\"posx xft\" ><span class=\"f\">posx=</span>coordinating</span></div></div><div class=\"contnr c0 trm rtl  \" ><div class=\"lbl c0 trm \" ><a target=\"_blank\" href=\"http://tanzil.net\" title=\"show this passage on Tanzil\"><span class=\"txtu ara\">يُقِيمُ</span></a></div><div class='features'><span class=\"pos xft\" ><span class=\"f\">pos=</span>verb</span></div></div><div class=\"contnr c0 trm rtl  \" ><div class=\"lbl c0 trm \" ><span class=\"txtu ara\">ونَ </span></div><div class='features'><span class=\"pos xft\" ><span class=\"f\">pos=</span>pronoun</span><span class=\"posx xft\" ><span class=\"f\">posx=</span>personal</span></div></div></div></div><div class=\"contnr c1  rtl  \" ><div class=\"lbl c1  \" ><span class=\"nd\">group</span></div><div class=\"children hor  rtl\"><div class=\"contnr c0 trm rtl  \" ><div class=\"lbl c0 trm \" ><span class=\"txtu ara\">ٱل</span></div><div class='features'><span class=\"pos xft\" ><span class=\"f\">pos=</span>determiner</span></div></div><div class=\"contnr c0 trm rtl  \" ><div class=\"lbl c0 trm \" ><a target=\"_blank\" href=\"http://tanzil.net\" title=\"show this passage on Tanzil\"><span class=\"txtu ara\">صَّلَوٰةَ </span></a></div><div class='features'><span class=\"pos xft\" ><span class=\"f\">pos=</span>noun</span></div></div></div></div><div class=\"contnr c1  rtl  \" ><div class=\"lbl c1  \" ><span class=\"nd\">group</span></div><div class=\"children hor  rtl\"><div class=\"contnr c0 trm rtl  \" ><div class=\"lbl c0 trm \" ><span class=\"txtu ara\">وَ</span></div><div class='features'><span class=\"pos xft\" ><span class=\"f\">pos=</span>particle</span><span class=\"posx xft\" ><span class=\"f\">posx=</span>resumption</span></div></div><div class=\"contnr c0 trm rtl  \" ><div class=\"lbl c0 trm \" ><a target=\"_blank\" href=\"http://tanzil.net\" title=\"show this passage on Tanzil\"><span class=\"txtu ara\">مِ</span></a></div><div class='features'><span class=\"pos xft\" ><span class=\"f\">pos=</span>preposition</span></div></div><div class=\"contnr c0 trm rtl  \" ><div class=\"lbl c0 trm \" ><a target=\"_blank\" href=\"http://tanzil.net\" title=\"show this passage on Tanzil\"><span class=\"txtu ara\">مَّا </span></a></div><div class='features'><span class=\"pos xft\" ><span class=\"f\">pos=</span>pronoun</span><span class=\"posx xft\" ><span class=\"f\">posx=</span>relative</span></div></div></div></div><div class=\"contnr c1  rtl  \" ><div class=\"lbl c1  \" ><span class=\"nd\">group</span></div><div class=\"children hor  rtl\"><div class=\"contnr c0 trm rtl  \" ><div class=\"lbl c0 trm \" ><a target=\"_blank\" href=\"http://tanzil.net\" title=\"show this passage on Tanzil\"><span class=\"txtu ara\">رَزَقْ</span></a></div><div class='features'><span class=\"pos xft\" ><span class=\"f\">pos=</span>verb</span></div></div><div class=\"contnr c0 trm rtl  \" ><div class=\"lbl c0 trm \" ><span class=\"txtu ara\">نَٰ</span></div><div class='features'><span class=\"pos xft\" ><span class=\"f\">pos=</span>pronoun</span><span class=\"posx xft\" ><span class=\"f\">posx=</span>personal</span></div></div><div class=\"contnr c0 trm rtl  \" ><div class=\"lbl c0 trm \" ><span class=\"txtu ara\">هُمْ </span></div><div class='features'><span class=\"pos xft\" ><span class=\"f\">pos=</span>pronoun</span><span class=\"posx xft\" ><span class=\"f\">posx=</span>personal</span></div></div></div></div><div class=\"contnr c1  rtl  \" ><div class=\"lbl c1  \" ><span class=\"nd\">group</span></div><div class=\"children hor  rtl\"><div class=\"contnr c0 trm rtl  \" ><div class=\"lbl c0 trm \" ><a target=\"_blank\" href=\"http://tanzil.net\" title=\"show this passage on Tanzil\"><span class=\"txtu ara\">يُنفِقُ</span></a></div><div class='features'><span class=\"pos xft\" ><span class=\"f\">pos=</span>verb</span></div></div><div class=\"contnr c0 trm rtl  \" ><div class=\"lbl c0 trm \" ><span class=\"txtu ara\">ونَ</span></div><div class='features'><span class=\"pos xft\" ><span class=\"f\">pos=</span>pronoun</span><span class=\"posx xft\" ><span class=\"f\">posx=</span>personal</span></div></div></div></div></div></div></div>"
      ],
      "text/plain": [
       "<IPython.core.display.HTML object>"
      ]
     },
     "metadata": {},
     "output_type": "display_data"
    },
    {
     "data": {
      "text/html": [
       "<p><b>result</b> <i>2</i></p>"
      ],
      "text/plain": [
       "<IPython.core.display.HTML object>"
      ]
     },
     "metadata": {},
     "output_type": "display_data"
    },
    {
     "data": {
      "text/html": [
       "<div class=\"section rtl\"><a target=\"_blank\" href=\"http://tanzil.net/#2:4\" title=\"show this passage on Tanzil\" sec=\"2:4\">2:4</a></div><div class=\"rtl children\"><div class=\"contnr c3  rtl  \" ><div class=\"lbl c3  \" ><span class=\"nd\">aya</span></div><div class='features'><span class=\"translation@en xft\" ><span class=\"f\">translation@en=</span>who believe in what has been sent down to thee and what has been sent down before thee, and have faith in the Hereafter;</span></div><div class=\"children hor wrap rtl\"><div class=\"contnr c1  rtl  \" ><div class=\"lbl c1  \" ><span class=\"nd\">group</span></div><div class=\"children hor  rtl\"><div class=\"contnr c0 trm rtl  \" ><div class=\"lbl c0 trm \" ><span class=\"txtu ara\">وَ</span></div><div class='features'><span class=\"pos xft\" ><span class=\"f\">pos=</span>conjunction</span><span class=\"posx xft\" ><span class=\"f\">posx=</span>coordinating</span></div></div><div class=\"contnr c0 trm rtl  \" ><div class=\"lbl c0 trm \" ><a target=\"_blank\" href=\"http://tanzil.net\" title=\"show this passage on Tanzil\"><span class=\"txtu ara\">ٱلَّذِينَ </span></a></div><div class='features'><span class=\"pos xft\" ><span class=\"f\">pos=</span>pronoun</span><span class=\"posx xft\" ><span class=\"f\">posx=</span>relative</span></div></div></div></div><div class=\"contnr c1  rtl  \" ><div class=\"lbl c1  \" ><span class=\"nd\">group</span></div><div class=\"children hor  rtl\"><div class=\"contnr c0 trm rtl  hl\" ><div class=\"lbl c0 trm hl\" ><a target=\"_blank\" href=\"http://tanzil.net\" title=\"show this passage on Tanzil\"><span class=\"txtu ara\">يُؤْمِنُ</span></a></div><div class='features'><span class=\"pos xft\" ><span class=\"f\">pos=</span>verb</span></div></div><div class=\"contnr c0 trm rtl  \" ><div class=\"lbl c0 trm \" ><span class=\"txtu ara\">ونَ </span></div><div class='features'><span class=\"pos xft\" ><span class=\"f\">pos=</span>pronoun</span><span class=\"posx xft\" ><span class=\"f\">posx=</span>personal</span></div></div></div></div><div class=\"contnr c1  rtl  \" ><div class=\"lbl c1  \" ><span class=\"nd\">group</span></div><div class=\"children hor  rtl\"><div class=\"contnr c0 trm rtl  \" ><div class=\"lbl c0 trm \" ><span class=\"txtu ara\">بِ</span></div><div class='features'><span class=\"pos xft\" ><span class=\"f\">pos=</span>preposition</span></div></div><div class=\"contnr c0 trm rtl  \" ><div class=\"lbl c0 trm \" ><a target=\"_blank\" href=\"http://tanzil.net\" title=\"show this passage on Tanzil\"><span class=\"txtu ara\">مَآ </span></a></div><div class='features'><span class=\"pos xft\" ><span class=\"f\">pos=</span>pronoun</span><span class=\"posx xft\" ><span class=\"f\">posx=</span>relative</span></div></div></div></div><div class=\"contnr c1  rtl  \" ><div class=\"lbl c1  \" ><span class=\"nd\">group</span></div><div class=\"children hor  rtl\"><div class=\"contnr c0 trm rtl  \" ><div class=\"lbl c0 trm \" ><a target=\"_blank\" href=\"http://tanzil.net\" title=\"show this passage on Tanzil\"><span class=\"txtu ara\">أُنزِلَ </span></a></div><div class='features'><span class=\"pos xft\" ><span class=\"f\">pos=</span>verb</span></div></div></div></div><div class=\"contnr c1  rtl  \" ><div class=\"lbl c1  \" ><span class=\"nd\">group</span></div><div class=\"children hor  rtl\"><div class=\"contnr c0 trm rtl  \" ><div class=\"lbl c0 trm \" ><a target=\"_blank\" href=\"http://tanzil.net\" title=\"show this passage on Tanzil\"><span class=\"txtu ara\">إِلَيْ</span></a></div><div class='features'><span class=\"pos xft\" ><span class=\"f\">pos=</span>preposition</span></div></div><div class=\"contnr c0 trm rtl  \" ><div class=\"lbl c0 trm \" ><span class=\"txtu ara\">كَ </span></div><div class='features'><span class=\"pos xft\" ><span class=\"f\">pos=</span>pronoun</span><span class=\"posx xft\" ><span class=\"f\">posx=</span>personal</span></div></div></div></div><div class=\"contnr c1  rtl  \" ><div class=\"lbl c1  \" ><span class=\"nd\">group</span></div><div class=\"children hor  rtl\"><div class=\"contnr c0 trm rtl  \" ><div class=\"lbl c0 trm \" ><span class=\"txtu ara\">وَ</span></div><div class='features'><span class=\"pos xft\" ><span class=\"f\">pos=</span>conjunction</span><span class=\"posx xft\" ><span class=\"f\">posx=</span>coordinating</span></div></div><div class=\"contnr c0 trm rtl  \" ><div class=\"lbl c0 trm \" ><a target=\"_blank\" href=\"http://tanzil.net\" title=\"show this passage on Tanzil\"><span class=\"txtu ara\">مَآ </span></a></div><div class='features'><span class=\"pos xft\" ><span class=\"f\">pos=</span>pronoun</span><span class=\"posx xft\" ><span class=\"f\">posx=</span>relative</span></div></div></div></div><div class=\"contnr c1  rtl  \" ><div class=\"lbl c1  \" ><span class=\"nd\">group</span></div><div class=\"children hor  rtl\"><div class=\"contnr c0 trm rtl  \" ><div class=\"lbl c0 trm \" ><a target=\"_blank\" href=\"http://tanzil.net\" title=\"show this passage on Tanzil\"><span class=\"txtu ara\">أُنزِلَ </span></a></div><div class='features'><span class=\"pos xft\" ><span class=\"f\">pos=</span>verb</span></div></div></div></div><div class=\"contnr c1  rtl  \" ><div class=\"lbl c1  \" ><span class=\"nd\">group</span></div><div class=\"children hor  rtl\"><div class=\"contnr c0 trm rtl  \" ><div class=\"lbl c0 trm \" ><a target=\"_blank\" href=\"http://tanzil.net\" title=\"show this passage on Tanzil\"><span class=\"txtu ara\">مِن </span></a></div><div class='features'><span class=\"pos xft\" ><span class=\"f\">pos=</span>preposition</span></div></div></div></div><div class=\"contnr c1  rtl  \" ><div class=\"lbl c1  \" ><span class=\"nd\">group</span></div><div class=\"children hor  rtl\"><div class=\"contnr c0 trm rtl  \" ><div class=\"lbl c0 trm \" ><a target=\"_blank\" href=\"http://tanzil.net\" title=\"show this passage on Tanzil\"><span class=\"txtu ara\">قَبْلِ</span></a></div><div class='features'><span class=\"pos xft\" ><span class=\"f\">pos=</span>noun</span></div></div><div class=\"contnr c0 trm rtl  \" ><div class=\"lbl c0 trm \" ><span class=\"txtu ara\">كَ </span></div><div class='features'><span class=\"pos xft\" ><span class=\"f\">pos=</span>pronoun</span><span class=\"posx xft\" ><span class=\"f\">posx=</span>personal</span></div></div></div></div><div class=\"contnr c1  rtl  \" ><div class=\"lbl c1  \" ><span class=\"nd\">group</span></div><div class=\"children hor  rtl\"><div class=\"contnr c0 trm rtl  \" ><div class=\"lbl c0 trm \" ><span class=\"txtu ara\">وَ</span></div><div class='features'><span class=\"pos xft\" ><span class=\"f\">pos=</span>particle</span><span class=\"posx xft\" ><span class=\"f\">posx=</span>resumption</span></div></div><div class=\"contnr c0 trm rtl  \" ><div class=\"lbl c0 trm \" ><span class=\"txtu ara\">بِ</span></div><div class='features'><span class=\"pos xft\" ><span class=\"f\">pos=</span>preposition</span></div></div><div class=\"contnr c0 trm rtl  \" ><div class=\"lbl c0 trm \" ><span class=\"txtu ara\">ٱلْ</span></div><div class='features'><span class=\"pos xft\" ><span class=\"f\">pos=</span>determiner</span></div></div><div class=\"contnr c0 trm rtl  \" ><div class=\"lbl c0 trm \" ><a target=\"_blank\" href=\"http://tanzil.net\" title=\"show this passage on Tanzil\"><span class=\"txtu ara\">ءَاخِرَةِ </span></a></div><div class='features'><span class=\"pos xft\" ><span class=\"f\">pos=</span>noun</span></div></div></div></div><div class=\"contnr c1  rtl  \" ><div class=\"lbl c1  \" ><span class=\"nd\">group</span></div><div class=\"children hor  rtl\"><div class=\"contnr c0 trm rtl  \" ><div class=\"lbl c0 trm \" ><span class=\"txtu ara\">هُمْ </span></div><div class='features'><span class=\"pos xft\" ><span class=\"f\">pos=</span>pronoun</span><span class=\"posx xft\" ><span class=\"f\">posx=</span>personal</span></div></div></div></div><div class=\"contnr c1  rtl  \" ><div class=\"lbl c1  \" ><span class=\"nd\">group</span></div><div class=\"children hor  rtl\"><div class=\"contnr c0 trm rtl  \" ><div class=\"lbl c0 trm \" ><a target=\"_blank\" href=\"http://tanzil.net\" title=\"show this passage on Tanzil\"><span class=\"txtu ara\">يُوقِنُ</span></a></div><div class='features'><span class=\"pos xft\" ><span class=\"f\">pos=</span>verb</span></div></div><div class=\"contnr c0 trm rtl  \" ><div class=\"lbl c0 trm \" ><span class=\"txtu ara\">ونَ</span></div><div class='features'><span class=\"pos xft\" ><span class=\"f\">pos=</span>pronoun</span><span class=\"posx xft\" ><span class=\"f\">posx=</span>personal</span></div></div></div></div></div></div></div>"
      ],
      "text/plain": [
       "<IPython.core.display.HTML object>"
      ]
     },
     "metadata": {},
     "output_type": "display_data"
    },
    {
     "data": {
      "text/html": [
       "<p><b>result</b> <i>3</i></p>"
      ],
      "text/plain": [
       "<IPython.core.display.HTML object>"
      ]
     },
     "metadata": {},
     "output_type": "display_data"
    },
    {
     "data": {
      "text/html": [
       "<div class=\"section rtl\"><a target=\"_blank\" href=\"http://tanzil.net/#2:6\" title=\"show this passage on Tanzil\" sec=\"2:6\">2:6</a></div><div class=\"rtl children\"><div class=\"contnr c3  rtl  \" ><div class=\"lbl c3  \" ><span class=\"nd\">aya</span></div><div class='features'><span class=\"translation@en xft\" ><span class=\"f\">translation@en=</span>As for the unbelievers, alike it is to them whether thou hast warned them or hast not warned them, they do not believe.</span></div><div class=\"children hor wrap rtl\"><div class=\"contnr c1  rtl  \" ><div class=\"lbl c1  \" ><span class=\"nd\">group</span></div><div class=\"children hor  rtl\"><div class=\"contnr c0 trm rtl  \" ><div class=\"lbl c0 trm \" ><a target=\"_blank\" href=\"http://tanzil.net\" title=\"show this passage on Tanzil\"><span class=\"txtu ara\">إِنَّ </span></a></div><div class='features'><span class=\"pos xft\" ><span class=\"f\">pos=</span>particle</span><span class=\"posx xft\" ><span class=\"f\">posx=</span>accusative</span></div></div></div></div><div class=\"contnr c1  rtl  \" ><div class=\"lbl c1  \" ><span class=\"nd\">group</span></div><div class=\"children hor  rtl\"><div class=\"contnr c0 trm rtl  \" ><div class=\"lbl c0 trm \" ><a target=\"_blank\" href=\"http://tanzil.net\" title=\"show this passage on Tanzil\"><span class=\"txtu ara\">ٱلَّذِينَ </span></a></div><div class='features'><span class=\"pos xft\" ><span class=\"f\">pos=</span>pronoun</span><span class=\"posx xft\" ><span class=\"f\">posx=</span>relative</span></div></div></div></div><div class=\"contnr c1  rtl  \" ><div class=\"lbl c1  \" ><span class=\"nd\">group</span></div><div class=\"children hor  rtl\"><div class=\"contnr c0 trm rtl  \" ><div class=\"lbl c0 trm \" ><a target=\"_blank\" href=\"http://tanzil.net\" title=\"show this passage on Tanzil\"><span class=\"txtu ara\">كَفَرُ</span></a></div><div class='features'><span class=\"pos xft\" ><span class=\"f\">pos=</span>verb</span></div></div><div class=\"contnr c0 trm rtl  \" ><div class=\"lbl c0 trm \" ><span class=\"txtu ara\">وا۟ </span></div><div class='features'><span class=\"pos xft\" ><span class=\"f\">pos=</span>pronoun</span><span class=\"posx xft\" ><span class=\"f\">posx=</span>personal</span></div></div></div></div><div class=\"contnr c1  rtl  \" ><div class=\"lbl c1  \" ><span class=\"nd\">group</span></div><div class=\"children hor  rtl\"><div class=\"contnr c0 trm rtl  \" ><div class=\"lbl c0 trm \" ><a target=\"_blank\" href=\"http://tanzil.net\" title=\"show this passage on Tanzil\"><span class=\"txtu ara\">سَوَآءٌ </span></a></div><div class='features'><span class=\"pos xft\" ><span class=\"f\">pos=</span>noun</span></div></div></div></div><div class=\"contnr c1  rtl  \" ><div class=\"lbl c1  \" ><span class=\"nd\">group</span></div><div class=\"children hor  rtl\"><div class=\"contnr c0 trm rtl  \" ><div class=\"lbl c0 trm \" ><a target=\"_blank\" href=\"http://tanzil.net\" title=\"show this passage on Tanzil\"><span class=\"txtu ara\">عَلَيْ</span></a></div><div class='features'><span class=\"pos xft\" ><span class=\"f\">pos=</span>preposition</span></div></div><div class=\"contnr c0 trm rtl  \" ><div class=\"lbl c0 trm \" ><span class=\"txtu ara\">هِمْ </span></div><div class='features'><span class=\"pos xft\" ><span class=\"f\">pos=</span>pronoun</span><span class=\"posx xft\" ><span class=\"f\">posx=</span>personal</span></div></div></div></div><div class=\"contnr c1  rtl  \" ><div class=\"lbl c1  \" ><span class=\"nd\">group</span></div><div class=\"children hor  rtl\"><div class=\"contnr c0 trm rtl  \" ><div class=\"lbl c0 trm \" ><span class=\"txtu ara\">ءَ</span></div><div class='features'><span class=\"pos xft\" ><span class=\"f\">pos=</span>particle</span><span class=\"posx xft\" ><span class=\"f\">posx=</span>equalization</span></div></div><div class=\"contnr c0 trm rtl  \" ><div class=\"lbl c0 trm \" ><a target=\"_blank\" href=\"http://tanzil.net\" title=\"show this passage on Tanzil\"><span class=\"txtu ara\">أَنذَرْ</span></a></div><div class='features'><span class=\"pos xft\" ><span class=\"f\">pos=</span>verb</span></div></div><div class=\"contnr c0 trm rtl  \" ><div class=\"lbl c0 trm \" ><span class=\"txtu ara\">تَ</span></div><div class='features'><span class=\"pos xft\" ><span class=\"f\">pos=</span>pronoun</span><span class=\"posx xft\" ><span class=\"f\">posx=</span>personal</span></div></div><div class=\"contnr c0 trm rtl  \" ><div class=\"lbl c0 trm \" ><span class=\"txtu ara\">هُمْ </span></div><div class='features'><span class=\"pos xft\" ><span class=\"f\">pos=</span>pronoun</span><span class=\"posx xft\" ><span class=\"f\">posx=</span>personal</span></div></div></div></div><div class=\"contnr c1  rtl  \" ><div class=\"lbl c1  \" ><span class=\"nd\">group</span></div><div class=\"children hor  rtl\"><div class=\"contnr c0 trm rtl  \" ><div class=\"lbl c0 trm \" ><a target=\"_blank\" href=\"http://tanzil.net\" title=\"show this passage on Tanzil\"><span class=\"txtu ara\">أَمْ </span></a></div><div class='features'><span class=\"pos xft\" ><span class=\"f\">pos=</span>conjunction</span><span class=\"posx xft\" ><span class=\"f\">posx=</span>coordinating</span></div></div></div></div><div class=\"contnr c1  rtl  \" ><div class=\"lbl c1  \" ><span class=\"nd\">group</span></div><div class=\"children hor  rtl\"><div class=\"contnr c0 trm rtl  \" ><div class=\"lbl c0 trm \" ><a target=\"_blank\" href=\"http://tanzil.net\" title=\"show this passage on Tanzil\"><span class=\"txtu ara\">لَمْ </span></a></div><div class='features'><span class=\"pos xft\" ><span class=\"f\">pos=</span>particle</span><span class=\"posx xft\" ><span class=\"f\">posx=</span>negative</span></div></div></div></div><div class=\"contnr c1  rtl  \" ><div class=\"lbl c1  \" ><span class=\"nd\">group</span></div><div class=\"children hor  rtl\"><div class=\"contnr c0 trm rtl  \" ><div class=\"lbl c0 trm \" ><a target=\"_blank\" href=\"http://tanzil.net\" title=\"show this passage on Tanzil\"><span class=\"txtu ara\">تُنذِرْ</span></a></div><div class='features'><span class=\"pos xft\" ><span class=\"f\">pos=</span>verb</span></div></div><div class=\"contnr c0 trm rtl  \" ><div class=\"lbl c0 trm \" ><span class=\"txtu ara\">هُمْ </span></div><div class='features'><span class=\"pos xft\" ><span class=\"f\">pos=</span>pronoun</span><span class=\"posx xft\" ><span class=\"f\">posx=</span>personal</span></div></div></div></div><div class=\"contnr c1  rtl  \" ><div class=\"lbl c1  \" ><span class=\"nd\">group</span></div><div class=\"children hor  rtl\"><div class=\"contnr c0 trm rtl  \" ><div class=\"lbl c0 trm \" ><a target=\"_blank\" href=\"http://tanzil.net\" title=\"show this passage on Tanzil\"><span class=\"txtu ara\">لَا </span></a></div><div class='features'><span class=\"pos xft\" ><span class=\"f\">pos=</span>particle</span><span class=\"posx xft\" ><span class=\"f\">posx=</span>negative</span></div></div></div></div><div class=\"contnr c1  rtl  \" ><div class=\"lbl c1  \" ><span class=\"nd\">group</span></div><div class=\"children hor  rtl\"><div class=\"contnr c0 trm rtl  hl\" ><div class=\"lbl c0 trm hl\" ><a target=\"_blank\" href=\"http://tanzil.net\" title=\"show this passage on Tanzil\"><span class=\"txtu ara\">يُؤْمِنُ</span></a></div><div class='features'><span class=\"pos xft\" ><span class=\"f\">pos=</span>verb</span></div></div><div class=\"contnr c0 trm rtl  \" ><div class=\"lbl c0 trm \" ><span class=\"txtu ara\">ونَ</span></div><div class='features'><span class=\"pos xft\" ><span class=\"f\">pos=</span>pronoun</span><span class=\"posx xft\" ><span class=\"f\">posx=</span>personal</span></div></div></div></div></div></div></div>"
      ],
      "text/plain": [
       "<IPython.core.display.HTML object>"
      ]
     },
     "metadata": {},
     "output_type": "display_data"
    }
   ],
   "source": [
    "A.show(xPtuples, end=3)"
   ]
  },
  {
   "cell_type": "code",
   "execution_count": 15,
   "metadata": {},
   "outputs": [
    {
     "data": {
      "text/html": [
       "<p><b>result</b> <i>1</i></p>"
      ],
      "text/plain": [
       "<IPython.core.display.HTML object>"
      ]
     },
     "metadata": {},
     "output_type": "display_data"
    },
    {
     "data": {
      "text/html": [
       "<div class=\"section rtl\"><a target=\"_blank\" href=\"http://tanzil.net/#1:1\" title=\"show this passage on Tanzil\" sec=\"1:1\">1:1</a></div><div class=\"rtl children\"><div class=\"contnr c3  rtl  \" ><div class=\"lbl c3  \" ><span class=\"nd\">aya</span></div><div class='features'><span class=\"translation@en xft\" ><span class=\"f\">translation@en=</span>In the Name of God, the Merciful, the Compassionate</span></div><div class=\"children hor wrap rtl\"><div class=\"contnr c1  rtl  \" ><div class=\"lbl c1  \" ><span class=\"nd\">group</span></div><div class=\"children hor  rtl\"><div class=\"contnr c0 trm rtl  \" ><div class=\"lbl c0 trm \" ><span class=\"txtu ara\">بِ</span></div><div class='features'><span class=\"pos xft\" ><span class=\"f\">pos=</span>preposition</span></div></div><div class=\"contnr c0 trm rtl  \" ><div class=\"lbl c0 trm \" ><a target=\"_blank\" href=\"http://tanzil.net\" title=\"show this passage on Tanzil\"><span class=\"txtu ara\">سْمِ </span></a></div><div class='features'><span class=\"pos xft\" ><span class=\"f\">pos=</span>noun</span></div></div></div></div><div class=\"contnr c1  rtl  \" ><div class=\"lbl c1  \" ><span class=\"nd\">group</span></div><div class=\"children hor  rtl\"><div class=\"contnr c0 trm rtl  hl\" ><div class=\"lbl c0 trm hl\" ><a target=\"_blank\" href=\"http://tanzil.net\" title=\"show this passage on Tanzil\"><span class=\"txtu ara\">ٱللَّهِ </span></a></div><div class='features'><span class=\"pos xft\" ><span class=\"f\">pos=</span>noun</span><span class=\"posx xft\" ><span class=\"f\">posx=</span>proper</span></div></div></div></div><div class=\"contnr c1  rtl  \" ><div class=\"lbl c1  \" ><span class=\"nd\">group</span></div><div class=\"children hor  rtl\"><div class=\"contnr c0 trm rtl  \" ><div class=\"lbl c0 trm \" ><span class=\"txtu ara\">ٱل</span></div><div class='features'><span class=\"pos xft\" ><span class=\"f\">pos=</span>determiner</span></div></div><div class=\"contnr c0 trm rtl  \" ><div class=\"lbl c0 trm \" ><a target=\"_blank\" href=\"http://tanzil.net\" title=\"show this passage on Tanzil\"><span class=\"txtu ara\">رَّحْمَٰنِ </span></a></div><div class='features'><span class=\"pos xft\" ><span class=\"f\">pos=</span>adjective</span></div></div></div></div><div class=\"contnr c1  rtl  \" ><div class=\"lbl c1  \" ><span class=\"nd\">group</span></div><div class=\"children hor  rtl\"><div class=\"contnr c0 trm rtl  \" ><div class=\"lbl c0 trm \" ><span class=\"txtu ara\">ٱل</span></div><div class='features'><span class=\"pos xft\" ><span class=\"f\">pos=</span>determiner</span></div></div><div class=\"contnr c0 trm rtl  \" ><div class=\"lbl c0 trm \" ><a target=\"_blank\" href=\"http://tanzil.net\" title=\"show this passage on Tanzil\"><span class=\"txtu ara\">رَّحِيمِ</span></a></div><div class='features'><span class=\"pos xft\" ><span class=\"f\">pos=</span>adjective</span></div></div></div></div></div></div></div>"
      ],
      "text/plain": [
       "<IPython.core.display.HTML object>"
      ]
     },
     "metadata": {},
     "output_type": "display_data"
    },
    {
     "data": {
      "text/html": [
       "<p><b>result</b> <i>2</i></p>"
      ],
      "text/plain": [
       "<IPython.core.display.HTML object>"
      ]
     },
     "metadata": {},
     "output_type": "display_data"
    },
    {
     "data": {
      "text/html": [
       "<div class=\"section rtl\"><a target=\"_blank\" href=\"http://tanzil.net/#1:2\" title=\"show this passage on Tanzil\" sec=\"1:2\">1:2</a></div><div class=\"rtl children\"><div class=\"contnr c3  rtl  \" ><div class=\"lbl c3  \" ><span class=\"nd\">aya</span></div><div class='features'><span class=\"translation@en xft\" ><span class=\"f\">translation@en=</span>Praise belongs to God, the Lord of all Being,</span></div><div class=\"children hor wrap rtl\"><div class=\"contnr c1  rtl  \" ><div class=\"lbl c1  \" ><span class=\"nd\">group</span></div><div class=\"children hor  rtl\"><div class=\"contnr c0 trm rtl  \" ><div class=\"lbl c0 trm \" ><span class=\"txtu ara\">ٱلْ</span></div><div class='features'><span class=\"pos xft\" ><span class=\"f\">pos=</span>determiner</span></div></div><div class=\"contnr c0 trm rtl  \" ><div class=\"lbl c0 trm \" ><a target=\"_blank\" href=\"http://tanzil.net\" title=\"show this passage on Tanzil\"><span class=\"txtu ara\">حَمْدُ </span></a></div><div class='features'><span class=\"pos xft\" ><span class=\"f\">pos=</span>noun</span></div></div></div></div><div class=\"contnr c1  rtl  \" ><div class=\"lbl c1  \" ><span class=\"nd\">group</span></div><div class=\"children hor  rtl\"><div class=\"contnr c0 trm rtl  \" ><div class=\"lbl c0 trm \" ><span class=\"txtu ara\">لِ</span></div><div class='features'><span class=\"pos xft\" ><span class=\"f\">pos=</span>preposition</span></div></div><div class=\"contnr c0 trm rtl  hl\" ><div class=\"lbl c0 trm hl\" ><a target=\"_blank\" href=\"http://tanzil.net\" title=\"show this passage on Tanzil\"><span class=\"txtu ara\">لَّهِ </span></a></div><div class='features'><span class=\"pos xft\" ><span class=\"f\">pos=</span>noun</span><span class=\"posx xft\" ><span class=\"f\">posx=</span>proper</span></div></div></div></div><div class=\"contnr c1  rtl  \" ><div class=\"lbl c1  \" ><span class=\"nd\">group</span></div><div class=\"children hor  rtl\"><div class=\"contnr c0 trm rtl  hl\" ><div class=\"lbl c0 trm hl\" ><a target=\"_blank\" href=\"http://tanzil.net\" title=\"show this passage on Tanzil\"><span class=\"txtu ara\">رَبِّ </span></a></div><div class='features'><span class=\"pos xft\" ><span class=\"f\">pos=</span>noun</span></div></div></div></div><div class=\"contnr c1  rtl  \" ><div class=\"lbl c1  \" ><span class=\"nd\">group</span></div><div class=\"children hor  rtl\"><div class=\"contnr c0 trm rtl  \" ><div class=\"lbl c0 trm \" ><span class=\"txtu ara\">ٱلْ</span></div><div class='features'><span class=\"pos xft\" ><span class=\"f\">pos=</span>determiner</span></div></div><div class=\"contnr c0 trm rtl  \" ><div class=\"lbl c0 trm \" ><a target=\"_blank\" href=\"http://tanzil.net\" title=\"show this passage on Tanzil\"><span class=\"txtu ara\">عَٰلَمِينَ</span></a></div><div class='features'><span class=\"pos xft\" ><span class=\"f\">pos=</span>noun</span></div></div></div></div></div></div></div>"
      ],
      "text/plain": [
       "<IPython.core.display.HTML object>"
      ]
     },
     "metadata": {},
     "output_type": "display_data"
    },
    {
     "data": {
      "text/html": [
       "<p><b>result</b> <i>3</i></p>"
      ],
      "text/plain": [
       "<IPython.core.display.HTML object>"
      ]
     },
     "metadata": {},
     "output_type": "display_data"
    },
    {
     "data": {
      "text/html": [
       "<div class=\"section rtl\"><a target=\"_blank\" href=\"http://tanzil.net/#2:5\" title=\"show this passage on Tanzil\" sec=\"2:5\">2:5</a></div><div class=\"rtl children\"><div class=\"contnr c3  rtl  \" ><div class=\"lbl c3  \" ><span class=\"nd\">aya</span></div><div class='features'><span class=\"translation@en xft\" ><span class=\"f\">translation@en=</span>those are upon guidance from their Lord, those are the ones who prosper.</span></div><div class=\"children hor wrap rtl\"><div class=\"contnr c1  rtl  \" ><div class=\"lbl c1  \" ><span class=\"nd\">group</span></div><div class=\"children hor  rtl\"><div class=\"contnr c0 trm rtl  \" ><div class=\"lbl c0 trm \" ><a target=\"_blank\" href=\"http://tanzil.net\" title=\"show this passage on Tanzil\"><span class=\"txtu ara\">أُو۟لَٰٓئِكَ </span></a></div><div class='features'><span class=\"pos xft\" ><span class=\"f\">pos=</span>pronoun</span><span class=\"posx xft\" ><span class=\"f\">posx=</span>demonstrative</span></div></div></div></div><div class=\"contnr c1  rtl  \" ><div class=\"lbl c1  \" ><span class=\"nd\">group</span></div><div class=\"children hor  rtl\"><div class=\"contnr c0 trm rtl  \" ><div class=\"lbl c0 trm \" ><a target=\"_blank\" href=\"http://tanzil.net\" title=\"show this passage on Tanzil\"><span class=\"txtu ara\">عَلَىٰ </span></a></div><div class='features'><span class=\"pos xft\" ><span class=\"f\">pos=</span>preposition</span></div></div></div></div><div class=\"contnr c1  rtl  \" ><div class=\"lbl c1  \" ><span class=\"nd\">group</span></div><div class=\"children hor  rtl\"><div class=\"contnr c0 trm rtl  \" ><div class=\"lbl c0 trm \" ><a target=\"_blank\" href=\"http://tanzil.net\" title=\"show this passage on Tanzil\"><span class=\"txtu ara\">هُدًى </span></a></div><div class='features'><span class=\"pos xft\" ><span class=\"f\">pos=</span>noun</span></div></div></div></div><div class=\"contnr c1  rtl  \" ><div class=\"lbl c1  \" ><span class=\"nd\">group</span></div><div class=\"children hor  rtl\"><div class=\"contnr c0 trm rtl  \" ><div class=\"lbl c0 trm \" ><a target=\"_blank\" href=\"http://tanzil.net\" title=\"show this passage on Tanzil\"><span class=\"txtu ara\">مِّن </span></a></div><div class='features'><span class=\"pos xft\" ><span class=\"f\">pos=</span>preposition</span></div></div></div></div><div class=\"contnr c1  rtl  \" ><div class=\"lbl c1  \" ><span class=\"nd\">group</span></div><div class=\"children hor  rtl\"><div class=\"contnr c0 trm rtl  hl\" ><div class=\"lbl c0 trm hl\" ><a target=\"_blank\" href=\"http://tanzil.net\" title=\"show this passage on Tanzil\"><span class=\"txtu ara\">رَّبِّ</span></a></div><div class='features'><span class=\"pos xft\" ><span class=\"f\">pos=</span>noun</span></div></div><div class=\"contnr c0 trm rtl  \" ><div class=\"lbl c0 trm \" ><span class=\"txtu ara\">هِمْ </span></div><div class='features'><span class=\"pos xft\" ><span class=\"f\">pos=</span>pronoun</span><span class=\"posx xft\" ><span class=\"f\">posx=</span>personal</span></div></div></div></div><div class=\"contnr c1  rtl  \" ><div class=\"lbl c1  \" ><span class=\"nd\">group</span></div><div class=\"children hor  rtl\"><div class=\"contnr c0 trm rtl  \" ><div class=\"lbl c0 trm \" ><span class=\"txtu ara\">وَ</span></div><div class='features'><span class=\"pos xft\" ><span class=\"f\">pos=</span>conjunction</span><span class=\"posx xft\" ><span class=\"f\">posx=</span>coordinating</span></div></div><div class=\"contnr c0 trm rtl  \" ><div class=\"lbl c0 trm \" ><a target=\"_blank\" href=\"http://tanzil.net\" title=\"show this passage on Tanzil\"><span class=\"txtu ara\">أُو۟لَٰٓئِكَ </span></a></div><div class='features'><span class=\"pos xft\" ><span class=\"f\">pos=</span>pronoun</span><span class=\"posx xft\" ><span class=\"f\">posx=</span>demonstrative</span></div></div></div></div><div class=\"contnr c1  rtl  \" ><div class=\"lbl c1  \" ><span class=\"nd\">group</span></div><div class=\"children hor  rtl\"><div class=\"contnr c0 trm rtl  \" ><div class=\"lbl c0 trm \" ><span class=\"txtu ara\">هُمُ </span></div><div class='features'><span class=\"pos xft\" ><span class=\"f\">pos=</span>pronoun</span><span class=\"posx xft\" ><span class=\"f\">posx=</span>personal</span></div></div></div></div><div class=\"contnr c1  rtl  \" ><div class=\"lbl c1  \" ><span class=\"nd\">group</span></div><div class=\"children hor  rtl\"><div class=\"contnr c0 trm rtl  \" ><div class=\"lbl c0 trm \" ><span class=\"txtu ara\">ٱلْ</span></div><div class='features'><span class=\"pos xft\" ><span class=\"f\">pos=</span>determiner</span></div></div><div class=\"contnr c0 trm rtl  \" ><div class=\"lbl c0 trm \" ><a target=\"_blank\" href=\"http://tanzil.net\" title=\"show this passage on Tanzil\"><span class=\"txtu ara\">مُفْلِحُونَ</span></a></div><div class='features'><span class=\"pos xft\" ><span class=\"f\">pos=</span>noun</span></div></div></div></div></div></div></div>"
      ],
      "text/plain": [
       "<IPython.core.display.HTML object>"
      ]
     },
     "metadata": {},
     "output_type": "display_data"
    }
   ],
   "source": [
    "A.show(xNtuples, end=3)"
   ]
  },
  {
   "cell_type": "markdown",
   "metadata": {},
   "source": [
    "Probably Allah has a negative sentiment because He occurs in many negative contexts as a punisher.\n",
    "\n",
    "Anyway, we do not try to be sophisticated here.\n",
    "\n",
    "We move on to export this sentiment feature."
   ]
  },
  {
   "cell_type": "markdown",
   "metadata": {},
   "source": [
    "# Saving data\n",
    "\n",
    "The [documentation](https://annotation.github.io/text-fabric/tf/core/fabric.html#tf.core.fabric.FabricCore.save) explains how to save this data into a text-fabric\n",
    "data file.\n",
    "\n",
    "We choose a location where to save it, the `exercises` repository in the `q-ran` organization, in the folder `mining`.\n",
    "\n",
    "In order to do this, we restart the TF api, but now with the desired output location in the `locations` parameter."
   ]
  },
  {
   "cell_type": "code",
   "execution_count": 17,
   "metadata": {},
   "outputs": [],
   "source": [
    "GITHUB = os.path.expanduser(\"~/github\")\n",
    "ORG = \"q-ran\"\n",
    "REPO = \"exercises\"\n",
    "PATH = \"mining\"\n",
    "VERSION = A.version"
   ]
  },
  {
   "cell_type": "markdown",
   "metadata": {},
   "source": [
    "Note the version: we have built the version against a specific version of the data:"
   ]
  },
  {
   "cell_type": "code",
   "execution_count": 18,
   "metadata": {},
   "outputs": [
    {
     "data": {
      "text/plain": [
       "'0.4'"
      ]
     },
     "execution_count": 18,
     "metadata": {},
     "output_type": "execute_result"
    }
   ],
   "source": [
    "A.version"
   ]
  },
  {
   "cell_type": "markdown",
   "metadata": {},
   "source": [
    "Later on, we pass this version on, so that users of our data will get the shared data in exactly the same version as their core data."
   ]
  },
  {
   "cell_type": "markdown",
   "metadata": {},
   "source": [
    "We have to specify a bit of metadata for this feature:"
   ]
  },
  {
   "cell_type": "code",
   "execution_count": 19,
   "metadata": {},
   "outputs": [],
   "source": [
    "metaData = {\n",
    "    \"sentiment\": dict(\n",
    "        valueType=\"int\",\n",
    "        description=\"crude sentiments in the Quran\",\n",
    "        creator=\"Dirk Roorda\",\n",
    "    ),\n",
    "}\n",
    "\n",
    "sentimentData = {\n",
    "    w: sentiment[F.lemma.v(w)]\n",
    "    for w in F.otype.s(\"word\")\n",
    "    if F.lemma.v(w) in sentiment and F.pos.v(w) in contentTypes\n",
    "}"
   ]
  },
  {
   "cell_type": "markdown",
   "metadata": {},
   "source": [
    "Now we can give the save command:"
   ]
  },
  {
   "cell_type": "code",
   "execution_count": 20,
   "metadata": {},
   "outputs": [
    {
     "name": "stdout",
     "output_type": "stream",
     "text": [
      "  0.00s Exporting 1 node and 0 edge and 0 config features to ~/github/q-ran/exercises/mining/tf/0.4:\n",
      "   |     0.07s T sentiment            to ~/github/q-ran/exercises/mining/tf/0.4\n",
      "  0.07s Exported 1 node features and 0 edge features and 0 config features to ~/github/q-ran/exercises/mining/tf/0.4\n"
     ]
    },
    {
     "data": {
      "text/plain": [
       "True"
      ]
     },
     "execution_count": 20,
     "metadata": {},
     "output_type": "execute_result"
    }
   ],
   "source": [
    "TF.save(\n",
    "    nodeFeatures=dict(sentiment=sentimentData),\n",
    "    metaData=metaData,\n",
    "    location=f\"{GITHUB}/{ORG}/{REPO}/{PATH}/tf\",\n",
    "    module=VERSION,\n",
    ")"
   ]
  },
  {
   "cell_type": "markdown",
   "metadata": {},
   "source": [
    "# Sharing data\n",
    "\n",
    "How to share your own data is explained in the\n",
    "[documentation](https://annotation.github.io/text-fabric/tf/about/datasharing.html).\n",
    "\n",
    "Here we show it step by step for the `sentiment` feature."
   ]
  },
  {
   "cell_type": "markdown",
   "metadata": {},
   "source": [
    "## Zip the data\n",
    "\n",
    "We need to zip the data in exactly the right directory structure. Text-Fabric can do that for us:"
   ]
  },
  {
   "cell_type": "code",
   "execution_count": 21,
   "metadata": {},
   "outputs": [
    {
     "name": "stdout",
     "output_type": "stream",
     "text": [
      "True\n",
      "Create release data for q-ran/exercises/mining/tf\n",
      "Found 2 versions\n",
      "zip files end up in ~/Downloads/q-ran-release/exercises\n",
      "zipping q-ran/exercises            0.3 with   1 features ==> mining-tf-0.3.zip\n",
      "zipping q-ran/exercises            0.4 with   1 features ==> mining-tf-0.4.zip\n"
     ]
    }
   ],
   "source": [
    "%%sh\n",
    "\n",
    "text-fabric-zip q-ran/exercises/mining/tf"
   ]
  },
  {
   "cell_type": "markdown",
   "metadata": {},
   "source": [
    "Now you have the file in the desired structure in your Downloads folder.\n",
    "\n",
    "## Put the data on Github\n",
    "\n",
    "The next thing is: make a new release in your Github directory, in this case Nino-cunei/exercises, and attach\n",
    "the zip file as a binary.\n",
    "\n",
    "You have to do this in your web browser, on the Github website.\n",
    "\n",
    "Here is the result for our case:\n",
    "\n",
    "![release](images/release.png)"
   ]
  },
  {
   "cell_type": "markdown",
   "metadata": {},
   "source": [
    "# Use the data\n",
    "\n",
    "We can use the data by calling it up when we say `use('quran', ...)`.\n",
    "\n",
    "Here is how:"
   ]
  },
  {
   "cell_type": "code",
   "execution_count": 22,
   "metadata": {},
   "outputs": [
    {
     "data": {
      "text/html": [
       "<b title=\"local github\">TF-app:</b> <span title=\"repo clone offline under ~/github\">~/github/annotation/app-quran/code</span>"
      ],
      "text/plain": [
       "<IPython.core.display.HTML object>"
      ]
     },
     "metadata": {},
     "output_type": "display_data"
    },
    {
     "data": {
      "text/html": [
       "<b title=\"local github\">data:</b> <span title=\"repo clone offline under ~/github\">~/github/q-ran/quran/tf/0.4</span>"
      ],
      "text/plain": [
       "<IPython.core.display.HTML object>"
      ]
     },
     "metadata": {},
     "output_type": "display_data"
    },
    {
     "data": {
      "text/html": [
       "<b title=\"local github\">data:</b> <span title=\"repo clone offline under ~/github\">~/github/q-ran/exercises/mining/tf/0.4</span>"
      ],
      "text/plain": [
       "<IPython.core.display.HTML object>"
      ]
     },
     "metadata": {},
     "output_type": "display_data"
    },
    {
     "name": "stdout",
     "output_type": "stream",
     "text": [
      "   |     0.11s T sentiment            from ~/github/q-ran/exercises/mining/tf/0.4\n"
     ]
    },
    {
     "data": {
      "text/html": [
       "<b>Text-Fabric:</b> <a target=\"_blank\" href=\"https://annotation.github.io/text-fabric/cheatsheet.html\" title=\"text-fabric-api\">Text-Fabric API 8.3.0</a>, <a target=\"_blank\" href=\"https://github.com/annotation/app-quran\" title=\"quran TF-app\">app-quran</a>, <a target=\"_blank\" href=\"https://annotation.github.io/text-fabric/about/searchusage.html\" title=\"Search Templates Introduction and Reference\">Search Reference</a><br><b>Data:</b> <a target=\"_blank\" href=\"https://github.com/q-ran/quran/blob/master/docs/features.md\" title=\"provenance of Quran\">QURAN</a>, <a target=\"_blank\" href=\"https://annotation.github.io/text-fabric/writing/arabic.html\" title=\"How TF features represent text\">Character table</a>, <a target=\"_blank\" href=\"https://github.com/q-ran/quran/blob/master/docs/features.md\" title=\"QURAN feature documentation\">Feature docs</a><br><b>Features:</b><br><details><summary><b>q-ran/exercises/mining/tf</b></summary><a target=\"_blank\" href=\"https://github.com/q-ran/exercises/tree/master/mining/tf\" title=\"~/github/q-ran/exercises/mining/tf/0.4/sentiment.tf\">sentiment</a><br></details><details><summary><b>Quran</b></summary><a target=\"_blank\" href=\"https://github.com/q-ran/quran/blob/master/docs/features.md\" title=\"~/github/q-ran/quran/tf/0.4/a.tf\">a</a><br><a target=\"_blank\" href=\"https://github.com/q-ran/quran/blob/master/docs/features.md\" title=\"~/github/q-ran/quran/tf/0.4/ascii.tf\">ascii</a><br><a target=\"_blank\" href=\"https://github.com/q-ran/quran/blob/master/docs/features.md\" title=\"~/github/q-ran/quran/tf/0.4/ax.tf\">ax</a><br><a target=\"_blank\" href=\"https://github.com/q-ran/quran/blob/master/docs/features.md\" title=\"~/github/q-ran/quran/tf/0.4/case.tf\">case</a><br><a target=\"_blank\" href=\"https://github.com/q-ran/quran/blob/master/docs/features.md\" title=\"~/github/q-ran/quran/tf/0.4/component.tf\">component</a><br><a target=\"_blank\" href=\"https://github.com/q-ran/quran/blob/master/docs/features.md\" title=\"~/github/q-ran/quran/tf/0.4/definite.tf\">definite</a><br><a target=\"_blank\" href=\"https://github.com/q-ran/quran/blob/master/docs/features.md\" title=\"~/github/q-ran/quran/tf/0.4/f.tf\">f</a><br><a target=\"_blank\" href=\"https://github.com/q-ran/quran/blob/master/docs/features.md\" title=\"~/github/q-ran/quran/tf/0.4/formation.tf\">formation</a><br><a target=\"_blank\" href=\"https://github.com/q-ran/quran/blob/master/docs/features.md\" title=\"~/github/q-ran/quran/tf/0.4/fx.tf\">fx</a><br><a target=\"_blank\" href=\"https://github.com/q-ran/quran/blob/master/docs/features.md\" title=\"~/github/q-ran/quran/tf/0.4/gn.tf\">gn</a><br><a target=\"_blank\" href=\"https://github.com/q-ran/quran/blob/master/docs/features.md\" title=\"~/github/q-ran/quran/tf/0.4/interjection.tf\">interjection</a><br><a target=\"_blank\" href=\"https://github.com/q-ran/quran/blob/master/docs/features.md\" title=\"~/github/q-ran/quran/tf/0.4/l.tf\">l</a><br><a target=\"_blank\" href=\"https://github.com/q-ran/quran/blob/master/docs/features.md\" title=\"~/github/q-ran/quran/tf/0.4/lemma.tf\">lemma</a><br><a target=\"_blank\" href=\"https://github.com/q-ran/quran/blob/master/docs/features.md\" title=\"~/github/q-ran/quran/tf/0.4/lx.tf\">lx</a><br><a target=\"_blank\" href=\"https://github.com/q-ran/quran/blob/master/docs/features.md\" title=\"~/github/q-ran/quran/tf/0.4/mood.tf\">mood</a><br><a target=\"_blank\" href=\"https://github.com/q-ran/quran/blob/master/docs/features.md\" title=\"~/github/q-ran/quran/tf/0.4/n.tf\">n</a><br><a target=\"_blank\" href=\"https://github.com/q-ran/quran/blob/master/docs/features.md\" title=\"~/github/q-ran/quran/tf/0.4/name.tf\">name</a><br><a target=\"_blank\" href=\"https://github.com/q-ran/quran/blob/master/docs/features.md\" title=\"~/github/q-ran/quran/tf/0.4/name@en.tf\">name@ll</a><br><a target=\"_blank\" href=\"https://github.com/q-ran/quran/blob/master/docs/features.md\" title=\"~/github/q-ran/quran/tf/0.4/nameAscii.tf\">nameAscii</a><br><a target=\"_blank\" href=\"https://github.com/q-ran/quran/blob/master/docs/features.md\" title=\"~/github/q-ran/quran/tf/0.4/nameTrans.tf\">nameTrans</a><br><a target=\"_blank\" href=\"https://github.com/q-ran/quran/blob/master/docs/features.md\" title=\"~/github/q-ran/quran/tf/0.4/nu.tf\">nu</a><br><a target=\"_blank\" href=\"https://github.com/q-ran/quran/blob/master/docs/features.md\" title=\"~/github/q-ran/quran/tf/0.4/number.tf\">number</a><br><a target=\"_blank\" href=\"https://github.com/q-ran/quran/blob/master/docs/features.md\" title=\"~/github/q-ran/quran/tf/0.4/order.tf\">order</a><br><a target=\"_blank\" href=\"https://github.com/q-ran/quran/blob/master/docs/features.md\" title=\"~/github/q-ran/quran/tf/0.4/otype.tf\">otype</a><br><a target=\"_blank\" href=\"https://github.com/q-ran/quran/blob/master/docs/features.md\" title=\"~/github/q-ran/quran/tf/0.4/pos.tf\">pos</a><br><a target=\"_blank\" href=\"https://github.com/q-ran/quran/blob/master/docs/features.md\" title=\"~/github/q-ran/quran/tf/0.4/posx.tf\">posx</a><br><a target=\"_blank\" href=\"https://github.com/q-ran/quran/blob/master/docs/features.md\" title=\"~/github/q-ran/quran/tf/0.4/ps.tf\">ps</a><br><a target=\"_blank\" href=\"https://github.com/q-ran/quran/blob/master/docs/features.md\" title=\"~/github/q-ran/quran/tf/0.4/root.tf\">root</a><br><a target=\"_blank\" href=\"https://github.com/q-ran/quran/blob/master/docs/features.md\" title=\"~/github/q-ran/quran/tf/0.4/sp.tf\">sp</a><br><a target=\"_blank\" href=\"https://github.com/q-ran/quran/blob/master/docs/features.md\" title=\"~/github/q-ran/quran/tf/0.4/space.tf\">space</a><br><a target=\"_blank\" href=\"https://github.com/q-ran/quran/blob/master/docs/features.md\" title=\"~/github/q-ran/quran/tf/0.4/tense.tf\">tense</a><br><a target=\"_blank\" href=\"https://github.com/q-ran/quran/blob/master/docs/features.md\" title=\"~/github/q-ran/quran/tf/0.4/translation@en.tf\">translation@ll</a><br><a target=\"_blank\" href=\"https://github.com/q-ran/quran/blob/master/docs/features.md\" title=\"~/github/q-ran/quran/tf/0.4/type.tf\">type</a><br><a target=\"_blank\" href=\"https://github.com/q-ran/quran/blob/master/docs/features.md\" title=\"~/github/q-ran/quran/tf/0.4/unicode.tf\">unicode</a><br><a target=\"_blank\" href=\"https://github.com/q-ran/quran/blob/master/docs/features.md\" title=\"~/github/q-ran/quran/tf/0.4/voice.tf\">voice</a><br><a target=\"_blank\" href=\"https://github.com/q-ran/quran/blob/master/docs/features.md\" title=\"~/github/q-ran/quran/tf/0.4/w.tf\">w</a><br><a target=\"_blank\" href=\"https://github.com/q-ran/quran/blob/master/docs/features.md\" title=\"~/github/q-ran/quran/tf/0.4/wx.tf\">wx</a><br><b><i><a target=\"_blank\" href=\"https://github.com/q-ran/quran/blob/master/docs/features.md\" title=\"~/github/q-ran/quran/tf/0.4/oslots.tf\">oslots</a></i></b><br></details>"
      ],
      "text/plain": [
       "<IPython.core.display.HTML object>"
      ]
     },
     "metadata": {},
     "output_type": "display_data"
    },
    {
     "data": {
      "text/html": [
       "<style>tr.tf.ltr, td.tf.ltr, th.tf.ltr { text-align: left ! important;}\n",
       "tr.tf.rtl, td.tf.rtl, th.tf.rtl { text-align: right ! important;}\n",
       "@font-face {\n",
       "  font-family: \"Ezra SIL\";\n",
       "  src: local('Ezra SIL'), local('EzraSIL'),\n",
       "    url('/server/static/fonts/SILEOT.woff') format('woff'),\n",
       "    url('https://github.com/annotation/text-fabric/blob/master/tf/server/static/fonts/SILEOT.woff?raw=true') format('woff');\n",
       "}\n",
       "\n",
       "@font-face {\n",
       "  font-family: \"SBL Hebrew\";\n",
       "  src: local('SBL Hebrew'), local('SBLHebrew'),\n",
       "    url('/server/static/fonts/SBL_Hbrw.woff') format('woff'),\n",
       "    url('https://github.com/annotation/text-fabric/blob/master/tf/server/static/fonts/SBL_Hbrw.woff?raw=true') format('woff');\n",
       "}\n",
       "\n",
       "@font-face {\n",
       "  font-family: \"Estrangelo Edessa\";\n",
       "  src: local('Estrangelo Edessa'), local('EstrangeloEdessa');\n",
       "    url('/server/static/fonts/SyrCOMEdessa.woff') format('woff'),\n",
       "    url('https://github.com/annotation/text-fabric/blob/master/tf/server/static/fonts/SyrCOMEdessa.woff?raw=true') format('woff');\n",
       "}\n",
       "\n",
       "@font-face {\n",
       "  font-family: AmiriQuran;\n",
       "  font-style: normal;\n",
       "  font-weight: 400;\n",
       "  src: local('Amiri Quran'), local('AmiriQuran'),\n",
       "    url('/server/static/fonts/AmiriQuran.woff') format('woff'),\n",
       "    url('https://github.com/annotation/text-fabric/blob/master/tf/server/static/fonts/AmiriQuran.woff?raw=true') format('woff');\n",
       "}\n",
       "\n",
       "@font-face {\n",
       "  font-family: AmiriQuranColored;\n",
       "  font-style: normal;\n",
       "  font-weight: 400;\n",
       "  src: local('Amiri Quran Colored'), local('AmiriQuranColored'),\n",
       "    url('/server/static/fonts/AmiriQuranColored.woff') format('woff'),\n",
       "    url('https://github.com/annotation/text-fabric/blob/master/tf/server/static/fonts/AmiriQuranColored.woff?raw=true') format('woff');\n",
       "}\n",
       "\n",
       "@font-face {\n",
       "  font-family: \"Santakku\";\n",
       "  src: local('Santakku'),\n",
       "    url('/server/static/fonts/Santakku.woff') format('woff'),\n",
       "    url('https://github.com/annotation/text-fabric/blob/master/tf/server/static/fonts/Santakku.woff?raw=true') format('woff');\n",
       "}\n",
       "\n",
       "@font-face {\n",
       "  font-family: \"SantakkuM\";\n",
       "  src: local('SantakkuM'),\n",
       "    url('/server/static/fonts/SantakkuM.woff') format('woff'),\n",
       "    url('https://github.com/annotation/text-fabric/blob/master/tf/server/static/fonts/SantakkuM.woff?raw=true') format('woff');\n",
       "}\n",
       "/* bypassing some classical notebook settings */\n",
       "div#notebook {\n",
       "  line-height: unset;\n",
       "}\n",
       "/* neutral text */\n",
       ".txtn,.txtn a:visited,.txtn a:link {\n",
       "    font-family: sans-serif;\n",
       "    font-size: medium;\n",
       "    direction: ltr;\n",
       "    text-decoration: none;\n",
       "    color: var(--text-color);\n",
       "}\n",
       "/* transcription text */\n",
       ".txtt,.txtt a:visited,.txtt a:link {\n",
       "    font-family: monospace;\n",
       "    font-size: medium;\n",
       "    direction: ltr;\n",
       "    text-decoration: none;\n",
       "    color: var(--text-color);\n",
       "}\n",
       "/* source text */\n",
       ".txto,.txto a:visited,.txto a:link {\n",
       "    font-family: serif;\n",
       "    font-size: medium;\n",
       "    direction: ltr;\n",
       "    text-decoration: none;\n",
       "    color: var(--text-color);\n",
       "}\n",
       "/* phonetic text */\n",
       ".txtp,.txtp a:visited,.txtp a:link {\n",
       "    font-family: Gentium, sans-serif;\n",
       "    font-size: medium;\n",
       "    direction: ltr;\n",
       "    text-decoration: none;\n",
       "    color: var(--text-color);\n",
       "}\n",
       "/* original script text */\n",
       ".txtu,.txtu a:visited,.txtu a:link {\n",
       "    font-family: Gentium, sans-serif;\n",
       "    font-size: medium;\n",
       "    text-decoration: none;\n",
       "    color: var(--text-color);\n",
       "}\n",
       "/* hebrew */\n",
       ".txtu.hbo,.lex.hbo {\n",
       "    font-family: \"Ezra SIL\", \"SBL Hebrew\", sans-serif;\n",
       "    font-size: large;\n",
       "    direction: rtl ! important;\n",
       "    unicode-bidi: embed;\n",
       "}\n",
       "/* syriac */\n",
       ".txtu.syc,.lex.syc {\n",
       "    font-family: \"Estrangelo Edessa\", sans-serif;\n",
       "    font-size: medium;\n",
       "    direction: rtl ! important;\n",
       "    unicode-bidi: embed;\n",
       "}\n",
       "/* neo aramaic */\n",
       ".txtu.cld,.lex.cld {\n",
       "    font-family: \"CharisSIL-R\", sans-serif;\n",
       "    font-size: medium;\n",
       "    direction: ltr ! important;\n",
       "    unicode-bidi: embed;\n",
       "}\n",
       "/* standard arabic */\n",
       ".txtu.ara,.lex.ara {\n",
       "    font-family: \"AmiriQuran\", sans-serif;\n",
       "    font-size: large;\n",
       "    direction: rtl ! important;\n",
       "    unicode-bidi: embed;\n",
       "}\n",
       "/* cuneiform */\n",
       ".txtu.akk,.lex.akk {\n",
       "    font-family: Santakku, sans-serif;\n",
       "    font-size: large;\n",
       "    direction: ltr ! important;\n",
       "    unicode-bidi: embed;\n",
       "}\n",
       "/* greek */\n",
       ".txtu.grc,.lex.grc a:link {\n",
       "    font-family: Gentium, sans-serif;\n",
       "    font-size: medium;\n",
       "    direction: ltr ! important;\n",
       "    unicode-bidi: embed;\n",
       "}\n",
       "a:hover {\n",
       "    text-decoration: underline | important;\n",
       "    color: #0000ff | important;\n",
       "}\n",
       ".ltr {\n",
       "    direction: ltr ! important;\n",
       "}\n",
       ".rtl {\n",
       "    direction: rtl ! important;\n",
       "}\n",
       ".features {\n",
       "    font-family: monospace;\n",
       "    font-size: medium;\n",
       "    font-weight: bold;\n",
       "    color: var(--features);\n",
       "    display: flex;\n",
       "    flex-flow: column nowrap;\n",
       "    justify-content: flex-start;\n",
       "    align-items: flex-start;\n",
       "    align-content: flex-start;\n",
       "    padding: 0.1rem;\n",
       "    margin: 0.1rem;\n",
       "    direction: ltr;\n",
       "    border: var(--meta-width) solid var(--meta-color);\n",
       "    border-radius: var(--meta-width);\n",
       "}\n",
       ".features div,.features span {\n",
       "    padding: 0;\n",
       "    margin: -0.1rem 0;\n",
       "}\n",
       ".features .f {\n",
       "    font-family: sans-serif;\n",
       "    font-size: small;\n",
       "    font-weight: normal;\n",
       "    color: #5555bb;\n",
       "}\n",
       ".features .xft {\n",
       "  color: #000000;\n",
       "  background-color: #eeeeee;\n",
       "  font-size: medium;\n",
       "  margin: 0.1rem 0rem;\n",
       "}\n",
       ".features .xft .f {\n",
       "  color: #000000;\n",
       "  background-color: #eeeeee;\n",
       "  font-size: small;\n",
       "  font-weight: normal;\n",
       "}\n",
       ".section {\n",
       "    font-family: sans-serif;\n",
       "    font-size: small;\n",
       "    font-weight: bold;\n",
       "    color: var(--section);\n",
       "    unicode-bidi: embed;\n",
       "    text-align: start;\n",
       "}\n",
       ".structure {\n",
       "    font-family: sans-serif;\n",
       "    font-size: small;\n",
       "    font-weight: bold;\n",
       "    color: var(--structure);\n",
       "    unicode-bidi: embed;\n",
       "    text-align: start;\n",
       "}\n",
       ".comments {\n",
       "    display: flex;\n",
       "    justify-content: flex-start;\n",
       "    align-items: flex-start;\n",
       "    align-content: flex-start;\n",
       "    flex-flow: column nowrap;\n",
       "}\n",
       ".nd, a:link.nd {\n",
       "    font-family: sans-serif;\n",
       "    font-size: small;\n",
       "    color: var(--node);\n",
       "    vertical-align: super;\n",
       "    direction: ltr ! important;\n",
       "    unicode-bidi: embed;\n",
       "}\n",
       ".lex {\n",
       "  color: var(--lex-color);;\n",
       "}\n",
       ".children,.children.ltr {\n",
       "    display: flex;\n",
       "    border: 0;\n",
       "    background-color: #ffffff;\n",
       "    justify-content: flex-start;\n",
       "    align-items: flex-start;\n",
       "    align-content: flex-start;\n",
       "}\n",
       ".children.stretch {\n",
       "    align-items: stretch;\n",
       "}\n",
       ".children.hor {\n",
       "    flex-flow: row nowrap;\n",
       "}\n",
       ".children.hor.wrap {\n",
       "    flex-flow: row wrap;\n",
       "}\n",
       ".children.ver {\n",
       "    flex-flow: column nowrap;\n",
       "}\n",
       ".children.ver.wrap {\n",
       "    flex-flow: column wrap;\n",
       "}\n",
       ".contnr {\n",
       "    width: fit-content;\n",
       "    display: flex;\n",
       "    justify-content: flex-start;\n",
       "    align-items: flex-start;\n",
       "    align-content: flex-start;\n",
       "    flex-flow: column nowrap;\n",
       "    background: #ffffff none repeat scroll 0 0;\n",
       "    padding:  0.5rem 0.1rem 0.1rem 0.1rem;\n",
       "    margin: 0.8rem 0.1rem 0.1rem 0.1rem;\n",
       "    border-style: solid;\n",
       "    font-size: small;\n",
       "}\n",
       ".contnr.trm {\n",
       "    background-attachment: local;\n",
       "}\n",
       ".contnr.cnul {\n",
       "    padding:  0;\n",
       "    margin: 0;\n",
       "    border-style: solid;\n",
       "    font-size: xx-small;\n",
       "}\n",
       ".contnr.cnul,.lbl.cnul {\n",
       "    border-color: var(--border-color-nul);\n",
       "    border-width: var(--border-width-nul);\n",
       "    border-radius: var(--border-width-nul);\n",
       "}\n",
       ".contnr.c0,.lbl.c0 {\n",
       "    border-color: var(--border-color0);\n",
       "    border-width: var(--border-width0);\n",
       "    border-radius: var(--border-width0);\n",
       "}\n",
       ".contnr.c1,.lbl.c1 {\n",
       "    border-color: var(--border-color1);\n",
       "    border-width: var(--border-width1);\n",
       "    border-radius: var(--border-width1);\n",
       "}\n",
       ".contnr.c2,.lbl.c2 {\n",
       "    border-color: var(--border-color2);\n",
       "    border-width: var(--border-width2);\n",
       "    border-radius: var(--border-width2);\n",
       "}\n",
       ".contnr.c3,.lbl.c3 {\n",
       "    border-color: var(--border-color3);\n",
       "    border-width: var(--border-width3);\n",
       "    border-radius: var(--border-width3);\n",
       "}\n",
       ".contnr.c4,.lbl.c4 {\n",
       "    border-color: var(--border-color4);\n",
       "    border-width: var(--border-width4);\n",
       "    border-radius: var(--border-width4);\n",
       "}\n",
       "span.plain {\n",
       "    display: inline-block;\n",
       "    white-space: pre-wrap;\n",
       "}\n",
       ".plain {\n",
       "    background-color: #ffffff;\n",
       "}\n",
       ".plain.l,.contnr.l,.contnr.l>.lbl {\n",
       "    border-left-style: dotted\n",
       "}\n",
       ".plain.r,.contnr.r,.contnr.r>.lbl {\n",
       "    border-right-style: dotted\n",
       "}\n",
       ".plain.lno,.contnr.lno,.contnr.lno>.lbl {\n",
       "    border-left-style: none\n",
       "}\n",
       ".plain.rno,.contnr.rno,.contnr.rno>.lbl {\n",
       "    border-right-style: none\n",
       "}\n",
       ".plain.l {\n",
       "    padding-left: 0.2rem;\n",
       "    margin-left: 0.1rem;\n",
       "    border-width: var(--border-width-plain);\n",
       "}\n",
       ".plain.r {\n",
       "    padding-right: 0.2rem;\n",
       "    margin-right: 0.1rem;\n",
       "    border-width: var(--border-width-plain);\n",
       "}\n",
       ".lbl {\n",
       "    font-family: monospace;\n",
       "    margin-top: -1.2rem;\n",
       "    margin-left: 1rem;\n",
       "    background: #ffffff none repeat scroll 0 0;\n",
       "    padding: 0 0.3rem;\n",
       "    border-style: solid;\n",
       "    display: block;\n",
       "    color: var(--label)\n",
       "}\n",
       ".lbl.trm {\n",
       "    background-attachment: local;\n",
       "    margin-top: 0.1rem;\n",
       "    margin-left: 0.1rem;\n",
       "    padding: 0.1rem 0.1rem;\n",
       "    border-style: none;\n",
       "}\n",
       ".lbl.cnul {\n",
       "    font-size: xx-small;\n",
       "}\n",
       ".lbl.c0 {\n",
       "    font-size: small;\n",
       "}\n",
       ".lbl.c1 {\n",
       "    font-size: small;\n",
       "}\n",
       ".lbl.c2 {\n",
       "    font-size: medium;\n",
       "}\n",
       ".lbl.c3 {\n",
       "    font-size: medium;\n",
       "}\n",
       ".lbl.c4 {\n",
       "    font-size: large;\n",
       "}\n",
       ".occs, a:link.occs {\n",
       "    font-size: small;\n",
       "}\n",
       "\n",
       "/* PROVENANCE */\n",
       "\n",
       "div.prov {\n",
       "\tmargin: 2rem;\n",
       "\tpadding: 1rem;\n",
       "\tborder: 0.1rem solid var(--fog-rim);\n",
       "}\n",
       "div.pline {\n",
       "\tdisplay: flex;\n",
       "\tflex-flow: row nowrap;\n",
       "\tjustify-content: stretch;\n",
       "\talign-items: baseline;\n",
       "}\n",
       "div.p2line {\n",
       "\tmargin-left: 2em;\n",
       "\tdisplay: flex;\n",
       "\tflex-flow: row nowrap;\n",
       "\tjustify-content: stretch;\n",
       "\talign-items: baseline;\n",
       "}\n",
       "div.psline {\n",
       "\tdisplay: flex;\n",
       "\tflex-flow: row nowrap;\n",
       "\tjustify-content: stretch;\n",
       "\talign-items: baseline;\n",
       "\tbackground-color: var(--gold-mist-back);\n",
       "}\n",
       "div.pname {\n",
       "\tflex: 0 0 5rem;\n",
       "\tfont-weight: bold;\n",
       "}\n",
       "div.pval {\n",
       "    flex: 1 1 auto;\n",
       "}\n",
       "\n",
       ":root {\n",
       "\t--node:               hsla(120, 100%,  20%, 1.0  );\n",
       "\t--label:              hsla(  0, 100%,  20%, 1.0  );\n",
       "\t--section:            hsla(  0, 100%,  25%, 1.0  );\n",
       "\t--structure:          hsla(120, 100%,  25%, 1.0  );\n",
       "\t--features:           hsla(  0,   0%,  30%, 1.0  );\n",
       "  --text-color:         hsla( 60,  80%,  10%, 1.0  );\n",
       "  --lex-color:          hsla(220,  90%,  60%, 1.0  );\n",
       "  --meta-color:         hsla(  0,   0%,  90%, 0.7  );\n",
       "  --meta-width:         0.15rem;\n",
       "  --border-color-nul:   hsla(  0,   0%,  90%, 0.5  );\n",
       "  --border-color0:      hsla(  0,   0%,  90%, 0.9  );\n",
       "  --border-color1:      hsla(  0,   0%,  80%, 0.9  );\n",
       "  --border-color2:      hsla(  0,   0%,  70%, 0.9  );\n",
       "  --border-color3:      hsla(  0,   0%,  80%, 0.8  );\n",
       "  --border-color4:      hsla(  0,   0%,  60%, 0.9  );\n",
       "  --border-width-nul:   0.1rem;\n",
       "  --border-width0:      0.1rem;\n",
       "  --border-width1:      0.15rem;\n",
       "  --border-width2:      0.2rem;\n",
       "  --border-width3:      0.3rem;\n",
       "  --border-width4:      0.25rem;\n",
       "  --border-width-plain: 0.1rem;\n",
       "}\n",
       ".hl {\n",
       "  background-color: var(--hl-strong);\n",
       "}\n",
       "span.hl {\n",
       "\tbackground-color: var(--hl-strong);\n",
       "\tborder-width: 0;\n",
       "\tborder-radius: 0.1rem;\n",
       "\tborder-style: solid;\n",
       "}\n",
       "div.contnr.hl,div.lbl.hl {\n",
       "  background-color: var(--hl-strong);\n",
       "}\n",
       "div.contnr.hl {\n",
       "  border-color: var(--hl-rim) ! important;\n",
       "\tborder-width: 0.2rem ! important;\n",
       "}\n",
       "\n",
       "span.hlbx {\n",
       "\tborder-color: var(--hl-rim);\n",
       "\tborder-width: 0.2rem ! important;\n",
       "\tborder-style: solid;\n",
       "\tborder-radius: 0.3rem;\n",
       "  padding: 0.2rem;\n",
       "  margin: 0.2rem;\n",
       "}\n",
       "\n",
       "span.plain {\n",
       "  display: inline-block;\n",
       "  white-space: pre-wrap;\n",
       "}\n",
       "\n",
       ":root {\n",
       "\t--hl-strong:        hsla( 60, 100%,  70%, 0.9  );\n",
       "\t--hl-rim:           hsla( 55,  80%,  50%, 1.0  );\n",
       "}\n",
       "</style>"
      ],
      "text/plain": [
       "<IPython.core.display.HTML object>"
      ]
     },
     "metadata": {},
     "output_type": "display_data"
    },
    {
     "data": {
      "text/html": [
       "<div><b>Text-Fabric API:</b> names <a target=\"_blank\" href=\"https://annotation.github.io/text-fabric/cheatsheet.html\" title=\"doc\">N F E L T S C TF</a> directly usable</div><hr>"
      ],
      "text/plain": [
       "<IPython.core.display.HTML object>"
      ]
     },
     "metadata": {},
     "output_type": "display_data"
    }
   ],
   "source": [
    "A = use(\n",
    "    \"quran:clone\",\n",
    "    checkout=\"clone\",\n",
    "    hoist=globals(),\n",
    "    mod=\"q-ran/exercises/mining/tf:clone\",\n",
    ")\n",
    "# A = use('quran', hoist=globals(), mod='q-ran/exercises/mining/tf')"
   ]
  },
  {
   "cell_type": "markdown",
   "metadata": {},
   "source": [
    "Above you see a new section in the feature list: **q-ran/exercises/mining/tf** with our foreign feature in it: `sentiment`.\n",
    "\n",
    "Now, suppose did not know much about this feature, then we would like to do a few basic checks:"
   ]
  },
  {
   "cell_type": "code",
   "execution_count": 23,
   "metadata": {},
   "outputs": [
    {
     "data": {
      "text/plain": [
       "((-1, 4509),\n",
       " (-2, 3044),\n",
       " (-233, 2699),\n",
       " (-4, 2368),\n",
       " (-3, 2217),\n",
       " (1, 2040),\n",
       " (-5, 1964),\n",
       " (-7, 1693),\n",
       " (-195, 1618),\n",
       " (-8, 1541),\n",
       " (0, 1517),\n",
       " (-6, 1416),\n",
       " (-10, 1406),\n",
       " (-138, 1358),\n",
       " (-49, 1147),\n",
       " (-130, 975),\n",
       " (-32, 865),\n",
       " (-21, 841),\n",
       " (2, 833),\n",
       " (-13, 696),\n",
       " (-12, 690),\n",
       " (-14, 669),\n",
       " (-36, 662),\n",
       " (-25, 589),\n",
       " (-17, 589),\n",
       " (-9, 577),\n",
       " (-30, 571),\n",
       " (29, 537),\n",
       " (-22, 529),\n",
       " (-11, 431),\n",
       " (-23, 410),\n",
       " (-18, 360),\n",
       " (-45, 358),\n",
       " (-33, 289),\n",
       " (-54, 278),\n",
       " (-37, 271),\n",
       " (-31, 271),\n",
       " (-24, 261),\n",
       " (-16, 245),\n",
       " (-26, 236),\n",
       " (3, 205),\n",
       " (-73, 176),\n",
       " (122, 153),\n",
       " (-34, 136),\n",
       " (-39, 127),\n",
       " (5, 115),\n",
       " (-20, 75),\n",
       " (11, 75),\n",
       " (-15, 72),\n",
       " (4, 49))"
      ]
     },
     "execution_count": 23,
     "metadata": {},
     "output_type": "execute_result"
    }
   ],
   "source": [
    "F.sentiment.freqList()"
   ]
  },
  {
   "cell_type": "markdown",
   "metadata": {},
   "source": [
    "Which nodes have a sentiment feature?"
   ]
  },
  {
   "cell_type": "code",
   "execution_count": 24,
   "metadata": {},
   "outputs": [
    {
     "data": {
      "text/plain": [
       "{'word'}"
      ]
     },
     "execution_count": 24,
     "metadata": {},
     "output_type": "execute_result"
    }
   ],
   "source": [
    "{F.otype.v(n) for n in N.walk() if F.sentiment.v(n)}"
   ]
  },
  {
   "cell_type": "markdown",
   "metadata": {},
   "source": [
    "Only words have the feature.\n",
    "\n",
    "Which part of speech do these words have?"
   ]
  },
  {
   "cell_type": "code",
   "execution_count": 25,
   "metadata": {},
   "outputs": [
    {
     "data": {
      "text/plain": [
       "{'adjective', 'noun', 'verb'}"
      ]
     },
     "execution_count": 25,
     "metadata": {},
     "output_type": "execute_result"
    }
   ],
   "source": [
    "{F.pos.v(n) for n in F.otype.s(\"word\") if F.sentiment.v(n)}"
   ]
  },
  {
   "cell_type": "markdown",
   "metadata": {},
   "source": [
    "Let's have a look at a table of some words with positive sentiments."
   ]
  },
  {
   "cell_type": "code",
   "execution_count": 26,
   "metadata": {},
   "outputs": [
    {
     "name": "stdout",
     "output_type": "stream",
     "text": [
      "  0.13s 4007 results\n"
     ]
    }
   ],
   "source": [
    "results = A.search(\n",
    "    \"\"\"\n",
    "word sentiment>0\n",
    "\"\"\"\n",
    ")"
   ]
  },
  {
   "cell_type": "code",
   "execution_count": 27,
   "metadata": {},
   "outputs": [
    {
     "data": {
      "text/html": [
       "<table><tr class=\"tf rtl\"><th class=\"tf rtl\">n</th><th class=\"tf rtl\">p</th><th class=\"tf rtl\">word</th></tr>\n",
       "<tr class=\"tf rtl\"><td class=\"tf rtl\">1</td><td class=\"tf rtl\"><span class=\"section ltr\"><a target=\"_blank\" href=\"http://tanzil.net/#1:1\" title=\"show this passage on Tanzil\" sec=\"1:1\">1:1</a></span></td><td class=\"tf rtl\"><div class=\"rtl\"><span class=\"plain rtl  hl\" ><span class=\"txtu ara\">رَّحْمَٰنِ </span></span></div></td></tr>\n",
       "<tr class=\"tf rtl\"><td class=\"tf rtl\">2</td><td class=\"tf rtl\"><span class=\"section ltr\"><a target=\"_blank\" href=\"http://tanzil.net/#1:3\" title=\"show this passage on Tanzil\" sec=\"1:3\">1:3</a></span></td><td class=\"tf rtl\"><div class=\"rtl\"><span class=\"plain rtl  hl\" ><span class=\"txtu ara\">رَّحْمَٰنِ </span></span></div></td></tr>\n",
       "<tr class=\"tf rtl\"><td class=\"tf rtl\">3</td><td class=\"tf rtl\"><span class=\"section ltr\"><a target=\"_blank\" href=\"http://tanzil.net/#1:5\" title=\"show this passage on Tanzil\" sec=\"1:5\">1:5</a></span></td><td class=\"tf rtl\"><div class=\"rtl\"><span class=\"plain rtl  hl\" ><span class=\"txtu ara\">نَسْتَعِينُ</span></span></div></td></tr>\n",
       "<tr class=\"tf rtl\"><td class=\"tf rtl\">4</td><td class=\"tf rtl\"><span class=\"section ltr\"><a target=\"_blank\" href=\"http://tanzil.net/#2:3\" title=\"show this passage on Tanzil\" sec=\"2:3\">2:3</a></span></td><td class=\"tf rtl\"><div class=\"rtl\"><span class=\"plain rtl  hl\" ><span class=\"txtu ara\">يُؤْمِنُ</span></span></div></td></tr>\n",
       "<tr class=\"tf rtl\"><td class=\"tf rtl\">5</td><td class=\"tf rtl\"><span class=\"section ltr\"><a target=\"_blank\" href=\"http://tanzil.net/#2:3\" title=\"show this passage on Tanzil\" sec=\"2:3\">2:3</a></span></td><td class=\"tf rtl\"><div class=\"rtl\"><span class=\"plain rtl  hl\" ><span class=\"txtu ara\">يُنفِقُ</span></span></div></td></tr></table>"
      ],
      "text/plain": [
       "<IPython.core.display.HTML object>"
      ]
     },
     "metadata": {},
     "output_type": "display_data"
    }
   ],
   "source": [
    "A.table(results, start=1, end=5)"
   ]
  },
  {
   "cell_type": "code",
   "execution_count": 28,
   "metadata": {},
   "outputs": [
    {
     "name": "stdout",
     "output_type": "stream",
     "text": [
      "  0.15s 39229 results\n"
     ]
    }
   ],
   "source": [
    "results = A.search(\n",
    "    \"\"\"\n",
    "word sentiment<0\n",
    "\"\"\"\n",
    ")"
   ]
  },
  {
   "cell_type": "code",
   "execution_count": 29,
   "metadata": {},
   "outputs": [
    {
     "data": {
      "text/html": [
       "<table><tr class=\"tf rtl\"><th class=\"tf rtl\">n</th><th class=\"tf rtl\">p</th><th class=\"tf rtl\">word</th></tr>\n",
       "<tr class=\"tf rtl\"><td class=\"tf rtl\">1</td><td class=\"tf rtl\"><span class=\"section ltr\"><a target=\"_blank\" href=\"http://tanzil.net/#1:1\" title=\"show this passage on Tanzil\" sec=\"1:1\">1:1</a></span></td><td class=\"tf rtl\"><div class=\"rtl\"><span class=\"plain rtl  hl\" ><span class=\"txtu ara\">سْمِ </span></span></div></td></tr>\n",
       "<tr class=\"tf rtl\"><td class=\"tf rtl\">2</td><td class=\"tf rtl\"><span class=\"section ltr\"><a target=\"_blank\" href=\"http://tanzil.net/#1:1\" title=\"show this passage on Tanzil\" sec=\"1:1\">1:1</a></span></td><td class=\"tf rtl\"><div class=\"rtl\"><span class=\"plain rtl  hl\" ><span class=\"txtu ara\">ٱللَّهِ </span></span></div></td></tr>\n",
       "<tr class=\"tf rtl\"><td class=\"tf rtl\">3</td><td class=\"tf rtl\"><span class=\"section ltr\"><a target=\"_blank\" href=\"http://tanzil.net/#1:1\" title=\"show this passage on Tanzil\" sec=\"1:1\">1:1</a></span></td><td class=\"tf rtl\"><div class=\"rtl\"><span class=\"plain rtl  hl\" ><span class=\"txtu ara\">رَّحِيمِ</span></span></div></td></tr>\n",
       "<tr class=\"tf rtl\"><td class=\"tf rtl\">4</td><td class=\"tf rtl\"><span class=\"section ltr\"><a target=\"_blank\" href=\"http://tanzil.net/#1:2\" title=\"show this passage on Tanzil\" sec=\"1:2\">1:2</a></span></td><td class=\"tf rtl\"><div class=\"rtl\"><span class=\"plain rtl  hl\" ><span class=\"txtu ara\">حَمْدُ </span></span></div></td></tr>\n",
       "<tr class=\"tf rtl\"><td class=\"tf rtl\">5</td><td class=\"tf rtl\"><span class=\"section ltr\"><a target=\"_blank\" href=\"http://tanzil.net/#1:2\" title=\"show this passage on Tanzil\" sec=\"1:2\">1:2</a></span></td><td class=\"tf rtl\"><div class=\"rtl\"><span class=\"plain rtl  hl\" ><span class=\"txtu ara\">لَّهِ </span></span></div></td></tr></table>"
      ],
      "text/plain": [
       "<IPython.core.display.HTML object>"
      ]
     },
     "metadata": {},
     "output_type": "display_data"
    }
   ],
   "source": [
    "A.table(results, start=1, end=5)"
   ]
  },
  {
   "cell_type": "markdown",
   "metadata": {},
   "source": [
    "Let's get lines with both positive and negative signs:"
   ]
  },
  {
   "cell_type": "code",
   "execution_count": 30,
   "metadata": {},
   "outputs": [
    {
     "name": "stdout",
     "output_type": "stream",
     "text": [
      "  0.37s 40238 results\n"
     ]
    }
   ],
   "source": [
    "results = A.search(\n",
    "    \"\"\"\n",
    "aya\n",
    "  word sentiment>0\n",
    "  word sentiment<0\n",
    "\"\"\"\n",
    ")"
   ]
  },
  {
   "cell_type": "code",
   "execution_count": 31,
   "metadata": {},
   "outputs": [
    {
     "data": {
      "text/html": [
       "<table><tr class=\"tf rtl\"><th class=\"tf rtl\">n</th><th class=\"tf rtl\">p</th><th class=\"tf rtl\">aya</th><th class=\"tf\">word</th><th class=\"tf\">word</th><th class=\"tf\">word</th><th class=\"tf\">word</th></tr>\n",
       "<tr class=\"tf rtl\"><td class=\"tf rtl\">1</td><td class=\"tf rtl\"><span class=\"section ltr\"><a target=\"_blank\" href=\"http://tanzil.net/#1:1\" title=\"show this passage on Tanzil\" sec=\"1:1\">1:1</a></span></td><td class=\"tf rtl\"><div class=\"rtl\"><span class=\"txtu ara\">بِ</span><span class=\"plain rtl  hl\" ><span class=\"txtu ara\">سْمِ </span></span><span class=\"plain rtl  hl\" ><span class=\"txtu ara\">ٱللَّهِ </span></span><span class=\"txtu ara\">ٱل</span><span class=\"plain rtl  hl\" ><span class=\"txtu ara\">رَّحْمَٰنِ </span></span><span class=\"txtu ara\">ٱل</span><span class=\"plain rtl  hl\" ><span class=\"txtu ara\">رَّحِيمِ</span></span></div></td><td class=\"tf rtl\"><div class=\"rtl\"><span class=\"plain rtl  hl\" ><span class=\"txtu ara\">سْمِ </span></span></div></td><td class=\"tf rtl\"><div class=\"rtl\"><span class=\"plain rtl  hl\" ><span class=\"txtu ara\">ٱللَّهِ </span></span></div></td><td class=\"tf rtl\"><div class=\"rtl\"><span class=\"plain rtl  hl\" ><span class=\"txtu ara\">رَّحْمَٰنِ </span></span></div></td><td class=\"tf rtl\"><div class=\"rtl\"><span class=\"plain rtl  hl\" ><span class=\"txtu ara\">رَّحِيمِ</span></span></div></td></tr>\n",
       "<tr class=\"tf rtl\"><td class=\"tf rtl\">2</td><td class=\"tf rtl\"><span class=\"section ltr\"><a target=\"_blank\" href=\"http://tanzil.net/#1:3\" title=\"show this passage on Tanzil\" sec=\"1:3\">1:3</a></span></td><td class=\"tf rtl\"><div class=\"rtl\"><span class=\"txtu ara\">ٱل</span><span class=\"plain rtl  hl\" ><span class=\"txtu ara\">رَّحْمَٰنِ </span></span><span class=\"txtu ara\">ٱل</span><span class=\"plain rtl  hl\" ><span class=\"txtu ara\">رَّحِيمِ</span></span></div></td><td class=\"tf rtl\"><div class=\"rtl\"><span class=\"plain rtl  hl\" ><span class=\"txtu ara\">رَّحْمَٰنِ </span></span></div></td><td class=\"tf rtl\"><div class=\"rtl\"><span class=\"plain rtl  hl\" ><span class=\"txtu ara\">رَّحِيمِ</span></span></div></td></tr></table>"
      ],
      "text/plain": [
       "<IPython.core.display.HTML object>"
      ]
     },
     "metadata": {},
     "output_type": "display_data"
    }
   ],
   "source": [
    "A.table(results, start=1, end=2, condensed=True)"
   ]
  },
  {
   "cell_type": "markdown",
   "metadata": {},
   "source": [
    "With highlights:"
   ]
  },
  {
   "cell_type": "code",
   "execution_count": 32,
   "metadata": {},
   "outputs": [],
   "source": [
    "highlights = {}\n",
    "\n",
    "for w in F.otype.s(\"word\"):\n",
    "    sent = F.sentiment.v(w)\n",
    "    if sent:\n",
    "        color = \"lightsalmon\" if sent < 0 else \"mediumaquamarine\"\n",
    "        highlights[w] = color"
   ]
  },
  {
   "cell_type": "code",
   "execution_count": 33,
   "metadata": {},
   "outputs": [
    {
     "data": {
      "text/html": [
       "<table><tr class=\"tf rtl\"><th class=\"tf rtl\">n</th><th class=\"tf rtl\">p</th><th class=\"tf rtl\">aya</th><th class=\"tf\">word</th><th class=\"tf\">word</th><th class=\"tf\">word</th><th class=\"tf\">word</th></tr>\n",
       "<tr class=\"tf rtl\"><td class=\"tf rtl\">1</td><td class=\"tf rtl\"><span class=\"section ltr\"><a target=\"_blank\" href=\"http://tanzil.net/#1:1\" title=\"show this passage on Tanzil\" sec=\"1:1\">1:1</a></span></td><td class=\"tf rtl\"><div class=\"rtl\"><span class=\"txtu ara\">بِ</span><span class=\"plain rtl  hl\"  style=\"background-color: lightsalmon;\" ><span class=\"txtu ara\">سْمِ </span></span><span class=\"plain rtl  hl\"  style=\"background-color: lightsalmon;\" ><span class=\"txtu ara\">ٱللَّهِ </span></span><span class=\"txtu ara\">ٱل</span><span class=\"plain rtl  hl\"  style=\"background-color: mediumaquamarine;\" ><span class=\"txtu ara\">رَّحْمَٰنِ </span></span><span class=\"txtu ara\">ٱل</span><span class=\"plain rtl  hl\"  style=\"background-color: lightsalmon;\" ><span class=\"txtu ara\">رَّحِيمِ</span></span></div></td><td class=\"tf rtl\"><div class=\"rtl\"><span class=\"plain rtl  hl\"  style=\"background-color: lightsalmon;\" ><span class=\"txtu ara\">سْمِ </span></span></div></td><td class=\"tf rtl\"><div class=\"rtl\"><span class=\"plain rtl  hl\"  style=\"background-color: lightsalmon;\" ><span class=\"txtu ara\">ٱللَّهِ </span></span></div></td><td class=\"tf rtl\"><div class=\"rtl\"><span class=\"plain rtl  hl\"  style=\"background-color: mediumaquamarine;\" ><span class=\"txtu ara\">رَّحْمَٰنِ </span></span></div></td><td class=\"tf rtl\"><div class=\"rtl\"><span class=\"plain rtl  hl\"  style=\"background-color: lightsalmon;\" ><span class=\"txtu ara\">رَّحِيمِ</span></span></div></td></tr>\n",
       "<tr class=\"tf rtl\"><td class=\"tf rtl\">2</td><td class=\"tf rtl\"><span class=\"section ltr\"><a target=\"_blank\" href=\"http://tanzil.net/#1:3\" title=\"show this passage on Tanzil\" sec=\"1:3\">1:3</a></span></td><td class=\"tf rtl\"><div class=\"rtl\"><span class=\"txtu ara\">ٱل</span><span class=\"plain rtl  hl\"  style=\"background-color: mediumaquamarine;\" ><span class=\"txtu ara\">رَّحْمَٰنِ </span></span><span class=\"txtu ara\">ٱل</span><span class=\"plain rtl  hl\"  style=\"background-color: lightsalmon;\" ><span class=\"txtu ara\">رَّحِيمِ</span></span></div></td><td class=\"tf rtl\"><div class=\"rtl\"><span class=\"plain rtl  hl\"  style=\"background-color: mediumaquamarine;\" ><span class=\"txtu ara\">رَّحْمَٰنِ </span></span></div></td><td class=\"tf rtl\"><div class=\"rtl\"><span class=\"plain rtl  hl\"  style=\"background-color: lightsalmon;\" ><span class=\"txtu ara\">رَّحِيمِ</span></span></div></td></tr>\n",
       "<tr class=\"tf rtl\"><td class=\"tf rtl\">3</td><td class=\"tf rtl\"><span class=\"section ltr\"><a target=\"_blank\" href=\"http://tanzil.net/#1:5\" title=\"show this passage on Tanzil\" sec=\"1:5\">1:5</a></span></td><td class=\"tf rtl\"><div class=\"rtl\"><span class=\"txtu ara\">إِيَّاكَ </span><span class=\"plain rtl  hl\"  style=\"background-color: lightsalmon;\" ><span class=\"txtu ara\">نَعْبُدُ </span></span><span class=\"txtu ara\">وَ</span><span class=\"txtu ara\">إِيَّاكَ </span><span class=\"plain rtl  hl\"  style=\"background-color: mediumaquamarine;\" ><span class=\"txtu ara\">نَسْتَعِينُ</span></span></div></td><td class=\"tf rtl\"><div class=\"rtl\"><span class=\"plain rtl  hl\"  style=\"background-color: lightsalmon;\" ><span class=\"txtu ara\">نَعْبُدُ </span></span></div></td><td class=\"tf rtl\"><div class=\"rtl\"><span class=\"plain rtl  hl\"  style=\"background-color: mediumaquamarine;\" ><span class=\"txtu ara\">نَسْتَعِينُ</span></span></div></td></tr>\n",
       "<tr class=\"tf rtl\"><td class=\"tf rtl\">4</td><td class=\"tf rtl\"><span class=\"section ltr\"><a target=\"_blank\" href=\"http://tanzil.net/#2:3\" title=\"show this passage on Tanzil\" sec=\"2:3\">2:3</a></span></td><td class=\"tf rtl\"><div class=\"rtl\"><span class=\"txtu ara\">ٱلَّذِينَ </span><span class=\"plain rtl  hl\"  style=\"background-color: mediumaquamarine;\" ><span class=\"txtu ara\">يُؤْمِنُ</span></span><span class=\"txtu ara\">ونَ </span><span class=\"txtu ara\">بِ</span><span class=\"txtu ara\">ٱلْ</span><span class=\"plain rtl  hl\"  style=\"background-color: lightsalmon;\" ><span class=\"txtu ara\">غَيْبِ </span></span><span class=\"txtu ara\">وَ</span><span class=\"plain rtl  hl\"  style=\"background-color: lightsalmon;\" ><span class=\"txtu ara\">يُقِيمُ</span></span><span class=\"txtu ara\">ونَ </span><span class=\"txtu ara\">ٱل</span><span class=\"plain rtl  hl\"  style=\"background-color: lightsalmon;\" ><span class=\"txtu ara\">صَّلَوٰةَ </span></span><span class=\"txtu ara\">وَ</span><span class=\"txtu ara\">مِ</span><span class=\"txtu ara\">مَّا </span><span class=\"plain rtl  hl\"  style=\"background-color: lightsalmon;\" ><span class=\"txtu ara\">رَزَقْ</span></span><span class=\"txtu ara\">نَٰ</span><span class=\"txtu ara\">هُمْ </span><span class=\"plain rtl  hl\"  style=\"background-color: mediumaquamarine;\" ><span class=\"txtu ara\">يُنفِقُ</span></span><span class=\"txtu ara\">ونَ</span></div></td><td class=\"tf rtl\"><div class=\"rtl\"><span class=\"plain rtl  hl\"  style=\"background-color: lightsalmon;\" ><span class=\"txtu ara\">غَيْبِ </span></span></div></td><td class=\"tf rtl\"><div class=\"rtl\"><span class=\"plain rtl  hl\"  style=\"background-color: lightsalmon;\" ><span class=\"txtu ara\">يُقِيمُ</span></span></div></td><td class=\"tf rtl\"><div class=\"rtl\"><span class=\"plain rtl  hl\"  style=\"background-color: lightsalmon;\" ><span class=\"txtu ara\">صَّلَوٰةَ </span></span></div></td><td class=\"tf rtl\"><div class=\"rtl\"><span class=\"plain rtl  hl\"  style=\"background-color: lightsalmon;\" ><span class=\"txtu ara\">رَزَقْ</span></span></div></td><td class=\"tf rtl\"><div class=\"rtl\"><span class=\"plain rtl  hl\"  style=\"background-color: mediumaquamarine;\" ><span class=\"txtu ara\">يُنفِقُ</span></span></div></td><td class=\"tf rtl\"><div class=\"rtl\"><span class=\"plain rtl  hl\"  style=\"background-color: mediumaquamarine;\" ><span class=\"txtu ara\">يُؤْمِنُ</span></span></div></td></tr>\n",
       "<tr class=\"tf rtl\"><td class=\"tf rtl\">5</td><td class=\"tf rtl\"><span class=\"section ltr\"><a target=\"_blank\" href=\"http://tanzil.net/#2:4\" title=\"show this passage on Tanzil\" sec=\"2:4\">2:4</a></span></td><td class=\"tf rtl\"><div class=\"rtl\"><span class=\"txtu ara\">وَ</span><span class=\"txtu ara\">ٱلَّذِينَ </span><span class=\"plain rtl  hl\"  style=\"background-color: mediumaquamarine;\" ><span class=\"txtu ara\">يُؤْمِنُ</span></span><span class=\"txtu ara\">ونَ </span><span class=\"txtu ara\">بِ</span><span class=\"txtu ara\">مَآ </span><span class=\"plain rtl  hl\"  style=\"background-color: lightsalmon;\" ><span class=\"txtu ara\">أُنزِلَ </span></span><span class=\"txtu ara\">إِلَيْ</span><span class=\"txtu ara\">كَ </span><span class=\"txtu ara\">وَ</span><span class=\"txtu ara\">مَآ </span><span class=\"plain rtl  hl\"  style=\"background-color: lightsalmon;\" ><span class=\"txtu ara\">أُنزِلَ </span></span><span class=\"txtu ara\">مِن </span><span class=\"plain rtl  hl\"  style=\"background-color: lightsalmon;\" ><span class=\"txtu ara\">قَبْلِ</span></span><span class=\"txtu ara\">كَ </span><span class=\"txtu ara\">وَ</span><span class=\"txtu ara\">بِ</span><span class=\"txtu ara\">ٱلْ</span><span class=\"plain rtl  hl\"  style=\"background-color: lightsalmon;\" ><span class=\"txtu ara\">ءَاخِرَةِ </span></span><span class=\"txtu ara\">هُمْ </span><span class=\"plain rtl  hl\"  style=\"background-color: lightsalmon;\" ><span class=\"txtu ara\">يُوقِنُ</span></span><span class=\"txtu ara\">ونَ</span></div></td><td class=\"tf rtl\"><div class=\"rtl\"><span class=\"plain rtl  hl\"  style=\"background-color: lightsalmon;\" ><span class=\"txtu ara\">ءَاخِرَةِ </span></span></div></td><td class=\"tf rtl\"><div class=\"rtl\"><span class=\"plain rtl  hl\"  style=\"background-color: lightsalmon;\" ><span class=\"txtu ara\">يُوقِنُ</span></span></div></td><td class=\"tf rtl\"><div class=\"rtl\"><span class=\"plain rtl  hl\"  style=\"background-color: mediumaquamarine;\" ><span class=\"txtu ara\">يُؤْمِنُ</span></span></div></td><td class=\"tf rtl\"><div class=\"rtl\"><span class=\"plain rtl  hl\"  style=\"background-color: lightsalmon;\" ><span class=\"txtu ara\">أُنزِلَ </span></span></div></td><td class=\"tf rtl\"><div class=\"rtl\"><span class=\"plain rtl  hl\"  style=\"background-color: lightsalmon;\" ><span class=\"txtu ara\">أُنزِلَ </span></span></div></td><td class=\"tf rtl\"><div class=\"rtl\"><span class=\"plain rtl  hl\"  style=\"background-color: lightsalmon;\" ><span class=\"txtu ara\">قَبْلِ</span></span></div></td></tr>\n",
       "<tr class=\"tf rtl\"><td class=\"tf rtl\">6</td><td class=\"tf rtl\"><span class=\"section ltr\"><a target=\"_blank\" href=\"http://tanzil.net/#2:6\" title=\"show this passage on Tanzil\" sec=\"2:6\">2:6</a></span></td><td class=\"tf rtl\"><div class=\"rtl\"><span class=\"txtu ara\">إِنَّ </span><span class=\"txtu ara\">ٱلَّذِينَ </span><span class=\"plain rtl  hl\"  style=\"background-color: lightsalmon;\" ><span class=\"txtu ara\">كَفَرُ</span></span><span class=\"txtu ara\">وا۟ </span><span class=\"plain rtl  hl\"  style=\"background-color: lightsalmon;\" ><span class=\"txtu ara\">سَوَآءٌ </span></span><span class=\"txtu ara\">عَلَيْ</span><span class=\"txtu ara\">هِمْ </span><span class=\"txtu ara\">ءَ</span><span class=\"plain rtl  hl\"  style=\"background-color: lightsalmon;\" ><span class=\"txtu ara\">أَنذَرْ</span></span><span class=\"txtu ara\">تَ</span><span class=\"txtu ara\">هُمْ </span><span class=\"txtu ara\">أَمْ </span><span class=\"txtu ara\">لَمْ </span><span class=\"plain rtl  hl\"  style=\"background-color: lightsalmon;\" ><span class=\"txtu ara\">تُنذِرْ</span></span><span class=\"txtu ara\">هُمْ </span><span class=\"txtu ara\">لَا </span><span class=\"plain rtl  hl\"  style=\"background-color: mediumaquamarine;\" ><span class=\"txtu ara\">يُؤْمِنُ</span></span><span class=\"txtu ara\">ونَ</span></div></td><td class=\"tf rtl\"><div class=\"rtl\"><span class=\"plain rtl  hl\"  style=\"background-color: mediumaquamarine;\" ><span class=\"txtu ara\">يُؤْمِنُ</span></span></div></td><td class=\"tf rtl\"><div class=\"rtl\"><span class=\"plain rtl  hl\"  style=\"background-color: lightsalmon;\" ><span class=\"txtu ara\">كَفَرُ</span></span></div></td><td class=\"tf rtl\"><div class=\"rtl\"><span class=\"plain rtl  hl\"  style=\"background-color: lightsalmon;\" ><span class=\"txtu ara\">سَوَآءٌ </span></span></div></td><td class=\"tf rtl\"><div class=\"rtl\"><span class=\"plain rtl  hl\"  style=\"background-color: lightsalmon;\" ><span class=\"txtu ara\">أَنذَرْ</span></span></div></td><td class=\"tf rtl\"><div class=\"rtl\"><span class=\"plain rtl  hl\"  style=\"background-color: lightsalmon;\" ><span class=\"txtu ara\">تُنذِرْ</span></span></div></td></tr>\n",
       "<tr class=\"tf rtl\"><td class=\"tf rtl\">7</td><td class=\"tf rtl\"><span class=\"section ltr\"><a target=\"_blank\" href=\"http://tanzil.net/#2:8\" title=\"show this passage on Tanzil\" sec=\"2:8\">2:8</a></span></td><td class=\"tf rtl\"><div class=\"rtl\"><span class=\"txtu ara\">وَ</span><span class=\"txtu ara\">مِنَ </span><span class=\"txtu ara\">ٱل</span><span class=\"plain rtl  hl\"  style=\"background-color: mediumaquamarine;\" ><span class=\"txtu ara\">نَّاسِ </span></span><span class=\"txtu ara\">مَن </span><span class=\"plain rtl  hl\"  style=\"background-color: lightsalmon;\" ><span class=\"txtu ara\">يَقُولُ </span></span><span class=\"plain rtl  hl\"  style=\"background-color: mediumaquamarine;\" ><span class=\"txtu ara\">ءَامَ</span></span><span class=\"txtu ara\">نَّا </span><span class=\"txtu ara\">بِ</span><span class=\"plain rtl  hl\"  style=\"background-color: lightsalmon;\" ><span class=\"txtu ara\">ٱللَّهِ </span></span><span class=\"txtu ara\">وَ</span><span class=\"txtu ara\">بِ</span><span class=\"txtu ara\">ٱلْ</span><span class=\"plain rtl  hl\"  style=\"background-color: lightsalmon;\" ><span class=\"txtu ara\">يَوْمِ </span></span><span class=\"txtu ara\">ٱلْ</span><span class=\"plain rtl  hl\"  style=\"background-color: lightsalmon;\" ><span class=\"txtu ara\">ءَاخِرِ </span></span><span class=\"txtu ara\">وَ</span><span class=\"txtu ara\">مَا </span><span class=\"txtu ara\">هُم </span><span class=\"txtu ara\">بِ</span><span class=\"plain rtl  hl\"  style=\"background-color: lightsalmon;\" ><span class=\"txtu ara\">مُؤْمِنِينَ</span></span></div></td><td class=\"tf rtl\"><div class=\"rtl\"><span class=\"plain rtl  hl\"  style=\"background-color: lightsalmon;\" ><span class=\"txtu ara\">يَوْمِ </span></span></div></td><td class=\"tf rtl\"><div class=\"rtl\"><span class=\"plain rtl  hl\"  style=\"background-color: lightsalmon;\" ><span class=\"txtu ara\">ءَاخِرِ </span></span></div></td><td class=\"tf rtl\"><div class=\"rtl\"><span class=\"plain rtl  hl\"  style=\"background-color: lightsalmon;\" ><span class=\"txtu ara\">مُؤْمِنِينَ</span></span></div></td><td class=\"tf rtl\"><div class=\"rtl\"><span class=\"plain rtl  hl\"  style=\"background-color: mediumaquamarine;\" ><span class=\"txtu ara\">نَّاسِ </span></span></div></td><td class=\"tf rtl\"><div class=\"rtl\"><span class=\"plain rtl  hl\"  style=\"background-color: lightsalmon;\" ><span class=\"txtu ara\">يَقُولُ </span></span></div></td><td class=\"tf rtl\"><div class=\"rtl\"><span class=\"plain rtl  hl\"  style=\"background-color: mediumaquamarine;\" ><span class=\"txtu ara\">ءَامَ</span></span></div></td><td class=\"tf rtl\"><div class=\"rtl\"><span class=\"plain rtl  hl\"  style=\"background-color: lightsalmon;\" ><span class=\"txtu ara\">ٱللَّهِ </span></span></div></td></tr>\n",
       "<tr class=\"tf rtl\"><td class=\"tf rtl\">8</td><td class=\"tf rtl\"><span class=\"section ltr\"><a target=\"_blank\" href=\"http://tanzil.net/#2:9\" title=\"show this passage on Tanzil\" sec=\"2:9\">2:9</a></span></td><td class=\"tf rtl\"><div class=\"rtl\"><span class=\"txtu ara\">يُخَٰدِعُ</span><span class=\"txtu ara\">ونَ </span><span class=\"plain rtl  hl\"  style=\"background-color: lightsalmon;\" ><span class=\"txtu ara\">ٱللَّهَ </span></span><span class=\"txtu ara\">وَ</span><span class=\"txtu ara\">ٱلَّذِينَ </span><span class=\"plain rtl  hl\"  style=\"background-color: mediumaquamarine;\" ><span class=\"txtu ara\">ءَامَنُ</span></span><span class=\"txtu ara\">وا۟ </span><span class=\"txtu ara\">وَ</span><span class=\"txtu ara\">مَا </span><span class=\"txtu ara\">يَخْدَعُ</span><span class=\"txtu ara\">ونَ </span><span class=\"txtu ara\">إِلَّآ </span><span class=\"plain rtl  hl\"  style=\"background-color: lightsalmon;\" ><span class=\"txtu ara\">أَنفُسَ</span></span><span class=\"txtu ara\">هُمْ </span><span class=\"txtu ara\">وَ</span><span class=\"txtu ara\">مَا </span><span class=\"plain rtl  hl\"  style=\"background-color: lightsalmon;\" ><span class=\"txtu ara\">يَشْعُرُ</span></span><span class=\"txtu ara\">ونَ</span></div></td><td class=\"tf rtl\"><div class=\"rtl\"><span class=\"plain rtl  hl\"  style=\"background-color: mediumaquamarine;\" ><span class=\"txtu ara\">ءَامَنُ</span></span></div></td><td class=\"tf rtl\"><div class=\"rtl\"><span class=\"plain rtl  hl\"  style=\"background-color: lightsalmon;\" ><span class=\"txtu ara\">يَشْعُرُ</span></span></div></td><td class=\"tf rtl\"><div class=\"rtl\"><span class=\"plain rtl  hl\"  style=\"background-color: lightsalmon;\" ><span class=\"txtu ara\">ٱللَّهَ </span></span></div></td><td class=\"tf rtl\"><div class=\"rtl\"><span class=\"plain rtl  hl\"  style=\"background-color: lightsalmon;\" ><span class=\"txtu ara\">أَنفُسَ</span></span></div></td></tr>\n",
       "<tr class=\"tf rtl\"><td class=\"tf rtl\">9</td><td class=\"tf rtl\"><span class=\"section ltr\"><a target=\"_blank\" href=\"http://tanzil.net/#2:10\" title=\"show this passage on Tanzil\" sec=\"2:10\">2:10</a></span></td><td class=\"tf rtl\"><div class=\"rtl\"><span class=\"txtu ara\">فِى </span><span class=\"plain rtl  hl\"  style=\"background-color: lightsalmon;\" ><span class=\"txtu ara\">قُلُوبِ</span></span><span class=\"txtu ara\">هِم </span><span class=\"plain rtl  hl\"  style=\"background-color: lightsalmon;\" ><span class=\"txtu ara\">مَّرَضٌ </span></span><span class=\"txtu ara\">فَ</span><span class=\"plain rtl  hl\"  style=\"background-color: lightsalmon;\" ><span class=\"txtu ara\">زَادَ</span></span><span class=\"txtu ara\">هُمُ </span><span class=\"plain rtl  hl\"  style=\"background-color: lightsalmon;\" ><span class=\"txtu ara\">ٱللَّهُ </span></span><span class=\"plain rtl  hl\"  style=\"background-color: lightsalmon;\" ><span class=\"txtu ara\">مَرَضًا </span></span><span class=\"txtu ara\">وَ</span><span class=\"txtu ara\">لَ</span><span class=\"txtu ara\">هُمْ </span><span class=\"plain rtl  hl\"  style=\"background-color: lightsalmon;\" ><span class=\"txtu ara\">عَذَابٌ </span></span><span class=\"plain rtl  hl\"  style=\"background-color: mediumaquamarine;\" ><span class=\"txtu ara\">أَلِيمٌۢ </span></span><span class=\"txtu ara\">بِ</span><span class=\"txtu ara\">مَا </span><span class=\"plain rtl  hl\"  style=\"background-color: lightsalmon;\" ><span class=\"txtu ara\">كَانُ</span></span><span class=\"txtu ara\">وا۟ </span><span class=\"plain rtl  hl\"  style=\"background-color: lightsalmon;\" ><span class=\"txtu ara\">يَكْذِبُ</span></span><span class=\"txtu ara\">ونَ</span></div></td><td class=\"tf rtl\"><div class=\"rtl\"><span class=\"plain rtl  hl\"  style=\"background-color: lightsalmon;\" ><span class=\"txtu ara\">مَّرَضٌ </span></span></div></td><td class=\"tf rtl\"><div class=\"rtl\"><span class=\"plain rtl  hl\"  style=\"background-color: lightsalmon;\" ><span class=\"txtu ara\">زَادَ</span></span></div></td><td class=\"tf rtl\"><div class=\"rtl\"><span class=\"plain rtl  hl\"  style=\"background-color: lightsalmon;\" ><span class=\"txtu ara\">ٱللَّهُ </span></span></div></td><td class=\"tf rtl\"><div class=\"rtl\"><span class=\"plain rtl  hl\"  style=\"background-color: lightsalmon;\" ><span class=\"txtu ara\">مَرَضًا </span></span></div></td><td class=\"tf rtl\"><div class=\"rtl\"><span class=\"plain rtl  hl\"  style=\"background-color: lightsalmon;\" ><span class=\"txtu ara\">عَذَابٌ </span></span></div></td><td class=\"tf rtl\"><div class=\"rtl\"><span class=\"plain rtl  hl\"  style=\"background-color: mediumaquamarine;\" ><span class=\"txtu ara\">أَلِيمٌۢ </span></span></div></td><td class=\"tf rtl\"><div class=\"rtl\"><span class=\"plain rtl  hl\"  style=\"background-color: lightsalmon;\" ><span class=\"txtu ara\">كَانُ</span></span></div></td><td class=\"tf rtl\"><div class=\"rtl\"><span class=\"plain rtl  hl\"  style=\"background-color: lightsalmon;\" ><span class=\"txtu ara\">يَكْذِبُ</span></span></div></td><td class=\"tf rtl\"><div class=\"rtl\"><span class=\"plain rtl  hl\"  style=\"background-color: lightsalmon;\" ><span class=\"txtu ara\">قُلُوبِ</span></span></div></td></tr>\n",
       "<tr class=\"tf rtl\"><td class=\"tf rtl\">10</td><td class=\"tf rtl\"><span class=\"section ltr\"><a target=\"_blank\" href=\"http://tanzil.net/#2:13\" title=\"show this passage on Tanzil\" sec=\"2:13\">2:13</a></span></td><td class=\"tf rtl\"><div class=\"rtl\"><span class=\"txtu ara\">وَ</span><span class=\"txtu ara\">إِذَا </span><span class=\"plain rtl  hl\"  style=\"background-color: lightsalmon;\" ><span class=\"txtu ara\">قِيلَ </span></span><span class=\"txtu ara\">لَ</span><span class=\"txtu ara\">هُمْ </span><span class=\"plain rtl  hl\"  style=\"background-color: mediumaquamarine;\" ><span class=\"txtu ara\">ءَامِنُ</span></span><span class=\"txtu ara\">وا۟ </span><span class=\"txtu ara\">كَ</span><span class=\"txtu ara\">مَآ </span><span class=\"plain rtl  hl\"  style=\"background-color: mediumaquamarine;\" ><span class=\"txtu ara\">ءَامَنَ </span></span><span class=\"txtu ara\">ٱل</span><span class=\"plain rtl  hl\"  style=\"background-color: mediumaquamarine;\" ><span class=\"txtu ara\">نَّاسُ </span></span><span class=\"plain rtl  hl\"  style=\"background-color: lightsalmon;\" ><span class=\"txtu ara\">قَالُ</span></span><span class=\"txtu ara\">وٓا۟ </span><span class=\"txtu ara\">أَ</span><span class=\"plain rtl  hl\"  style=\"background-color: mediumaquamarine;\" ><span class=\"txtu ara\">نُؤْمِنُ </span></span><span class=\"txtu ara\">كَ</span><span class=\"txtu ara\">مَآ </span><span class=\"plain rtl  hl\"  style=\"background-color: mediumaquamarine;\" ><span class=\"txtu ara\">ءَامَنَ </span></span><span class=\"txtu ara\">ٱل</span><span class=\"plain rtl  hl\"  style=\"background-color: mediumaquamarine;\" ><span class=\"txtu ara\">سُّفَهَآءُ </span></span><span class=\"txtu ara\">أَلَآ </span><span class=\"txtu ara\">إِنَّ</span><span class=\"txtu ara\">هُمْ </span><span class=\"txtu ara\">هُمُ </span><span class=\"txtu ara\">ٱل</span><span class=\"plain rtl  hl\"  style=\"background-color: mediumaquamarine;\" ><span class=\"txtu ara\">سُّفَهَآءُ </span></span><span class=\"txtu ara\">وَ</span><span class=\"txtu ara\">لَٰكِن </span><span class=\"txtu ara\">لَّا </span><span class=\"plain rtl  hl\"  style=\"background-color: lightsalmon;\" ><span class=\"txtu ara\">يَعْلَمُ</span></span><span class=\"txtu ara\">ونَ</span></div></td><td class=\"tf rtl\"><div class=\"rtl\"><span class=\"plain rtl  hl\"  style=\"background-color: mediumaquamarine;\" ><span class=\"txtu ara\">سُّفَهَآءُ </span></span></div></td><td class=\"tf rtl\"><div class=\"rtl\"><span class=\"plain rtl  hl\"  style=\"background-color: mediumaquamarine;\" ><span class=\"txtu ara\">سُّفَهَآءُ </span></span></div></td><td class=\"tf rtl\"><div class=\"rtl\"><span class=\"plain rtl  hl\"  style=\"background-color: lightsalmon;\" ><span class=\"txtu ara\">يَعْلَمُ</span></span></div></td><td class=\"tf rtl\"><div class=\"rtl\"><span class=\"plain rtl  hl\"  style=\"background-color: lightsalmon;\" ><span class=\"txtu ara\">قِيلَ </span></span></div></td><td class=\"tf rtl\"><div class=\"rtl\"><span class=\"plain rtl  hl\"  style=\"background-color: mediumaquamarine;\" ><span class=\"txtu ara\">ءَامِنُ</span></span></div></td><td class=\"tf rtl\"><div class=\"rtl\"><span class=\"plain rtl  hl\"  style=\"background-color: mediumaquamarine;\" ><span class=\"txtu ara\">ءَامَنَ </span></span></div></td><td class=\"tf rtl\"><div class=\"rtl\"><span class=\"plain rtl  hl\"  style=\"background-color: mediumaquamarine;\" ><span class=\"txtu ara\">نَّاسُ </span></span></div></td><td class=\"tf rtl\"><div class=\"rtl\"><span class=\"plain rtl  hl\"  style=\"background-color: lightsalmon;\" ><span class=\"txtu ara\">قَالُ</span></span></div></td><td class=\"tf rtl\"><div class=\"rtl\"><span class=\"plain rtl  hl\"  style=\"background-color: mediumaquamarine;\" ><span class=\"txtu ara\">نُؤْمِنُ </span></span></div></td><td class=\"tf rtl\"><div class=\"rtl\"><span class=\"plain rtl  hl\"  style=\"background-color: mediumaquamarine;\" ><span class=\"txtu ara\">ءَامَنَ </span></span></div></td></tr></table>"
      ],
      "text/plain": [
       "<IPython.core.display.HTML object>"
      ]
     },
     "metadata": {},
     "output_type": "display_data"
    }
   ],
   "source": [
    "A.table(results, start=1, end=10, condensed=True, highlights=highlights)"
   ]
  },
  {
   "cell_type": "markdown",
   "metadata": {},
   "source": [
    "If we do a pretty display, the `sentiment` feature shows up."
   ]
  },
  {
   "cell_type": "code",
   "execution_count": 34,
   "metadata": {},
   "outputs": [
    {
     "data": {
      "text/html": [
       "<p><b>aya</b> <i>1</i></p>"
      ],
      "text/plain": [
       "<IPython.core.display.HTML object>"
      ]
     },
     "metadata": {},
     "output_type": "display_data"
    },
    {
     "data": {
      "text/html": [
       "<div class=\"section rtl\"><a target=\"_blank\" href=\"http://tanzil.net/#1:1\" title=\"show this passage on Tanzil\" sec=\"1:1\">1:1</a></div><div class=\"rtl children\"><div class=\"contnr c3  rtl  \" ><div class=\"lbl c3  \" ><span class=\"nd\">aya:128220</span></div><div class=\"children hor wrap rtl\"><div class=\"contnr c1  rtl  \" ><div class=\"lbl c1  \" ><span class=\"nd\">group:134456</span></div><div class=\"children hor  rtl\"><div class=\"contnr c0 trm rtl  \" ><div class=\"lbl c0 trm \" ><span class=\"nd\">1</span> <span class=\"txtu ara\">بِ</span></div></div><div class=\"contnr c0 trm rtl  hl\"  style=\"background-color: lightsalmon;\" ><div class=\"lbl c0 trm hl\"  style=\"background-color: lightsalmon;\" ><span class=\"nd\">2</span> <a target=\"_blank\" href=\"http://tanzil.net\" title=\"show this passage on Tanzil\"><span class=\"txtu ara\">سْمِ </span></a></div><div class='features'><span class=\"sentiment xft\" ><span class=\"f\">sentiment=</span>-10</span></div></div></div></div><div class=\"contnr c1  rtl  \" ><div class=\"lbl c1  \" ><span class=\"nd\">group:134457</span></div><div class=\"children hor  rtl\"><div class=\"contnr c0 trm rtl  hl\"  style=\"background-color: lightsalmon;\" ><div class=\"lbl c0 trm hl\"  style=\"background-color: lightsalmon;\" ><span class=\"nd\">3</span> <a target=\"_blank\" href=\"http://tanzil.net\" title=\"show this passage on Tanzil\"><span class=\"txtu ara\">ٱللَّهِ </span></a></div><div class='features'><span class=\"sentiment xft\" ><span class=\"f\">sentiment=</span>-233</span></div></div></div></div><div class=\"contnr c1  rtl  \" ><div class=\"lbl c1  \" ><span class=\"nd\">group:134458</span></div><div class=\"children hor  rtl\"><div class=\"contnr c0 trm rtl  \" ><div class=\"lbl c0 trm \" ><span class=\"nd\">4</span> <span class=\"txtu ara\">ٱل</span></div></div><div class=\"contnr c0 trm rtl  hl\"  style=\"background-color: mediumaquamarine;\" ><div class=\"lbl c0 trm hl\"  style=\"background-color: mediumaquamarine;\" ><span class=\"nd\">5</span> <a target=\"_blank\" href=\"http://tanzil.net\" title=\"show this passage on Tanzil\"><span class=\"txtu ara\">رَّحْمَٰنِ </span></a></div><div class='features'><span class=\"sentiment xft\" ><span class=\"f\">sentiment=</span>1</span></div></div></div></div><div class=\"contnr c1  rtl  \" ><div class=\"lbl c1  \" ><span class=\"nd\">group:134459</span></div><div class=\"children hor  rtl\"><div class=\"contnr c0 trm rtl  \" ><div class=\"lbl c0 trm \" ><span class=\"nd\">6</span> <span class=\"txtu ara\">ٱل</span></div></div><div class=\"contnr c0 trm rtl  hl\"  style=\"background-color: lightsalmon;\" ><div class=\"lbl c0 trm hl\"  style=\"background-color: lightsalmon;\" ><span class=\"nd\">7</span> <a target=\"_blank\" href=\"http://tanzil.net\" title=\"show this passage on Tanzil\"><span class=\"txtu ara\">رَّحِيمِ</span></a></div><div class='features'><span class=\"sentiment xft\" ><span class=\"f\">sentiment=</span>-7</span></div></div></div></div></div></div></div>"
      ],
      "text/plain": [
       "<IPython.core.display.HTML object>"
      ]
     },
     "metadata": {},
     "output_type": "display_data"
    },
    {
     "data": {
      "text/html": [
       "<p><b>aya</b> <i>2</i></p>"
      ],
      "text/plain": [
       "<IPython.core.display.HTML object>"
      ]
     },
     "metadata": {},
     "output_type": "display_data"
    },
    {
     "data": {
      "text/html": [
       "<div class=\"section rtl\"><a target=\"_blank\" href=\"http://tanzil.net/#1:3\" title=\"show this passage on Tanzil\" sec=\"1:3\">1:3</a></div><div class=\"rtl children\"><div class=\"contnr c3  rtl  \" ><div class=\"lbl c3  \" ><span class=\"nd\">aya:128222</span></div><div class=\"children hor wrap rtl\"><div class=\"contnr c1  rtl  \" ><div class=\"lbl c1  \" ><span class=\"nd\">group:134464</span></div><div class=\"children hor  rtl\"><div class=\"contnr c0 trm rtl  \" ><div class=\"lbl c0 trm \" ><span class=\"nd\">15</span> <span class=\"txtu ara\">ٱل</span></div></div><div class=\"contnr c0 trm rtl  hl\"  style=\"background-color: mediumaquamarine;\" ><div class=\"lbl c0 trm hl\"  style=\"background-color: mediumaquamarine;\" ><span class=\"nd\">16</span> <a target=\"_blank\" href=\"http://tanzil.net\" title=\"show this passage on Tanzil\"><span class=\"txtu ara\">رَّحْمَٰنِ </span></a></div><div class='features'><span class=\"sentiment xft\" ><span class=\"f\">sentiment=</span>1</span></div></div></div></div><div class=\"contnr c1  rtl  \" ><div class=\"lbl c1  \" ><span class=\"nd\">group:134465</span></div><div class=\"children hor  rtl\"><div class=\"contnr c0 trm rtl  \" ><div class=\"lbl c0 trm \" ><span class=\"nd\">17</span> <span class=\"txtu ara\">ٱل</span></div></div><div class=\"contnr c0 trm rtl  hl\"  style=\"background-color: lightsalmon;\" ><div class=\"lbl c0 trm hl\"  style=\"background-color: lightsalmon;\" ><span class=\"nd\">18</span> <a target=\"_blank\" href=\"http://tanzil.net\" title=\"show this passage on Tanzil\"><span class=\"txtu ara\">رَّحِيمِ</span></a></div><div class='features'><span class=\"sentiment xft\" ><span class=\"f\">sentiment=</span>-7</span></div></div></div></div></div></div></div>"
      ],
      "text/plain": [
       "<IPython.core.display.HTML object>"
      ]
     },
     "metadata": {},
     "output_type": "display_data"
    },
    {
     "data": {
      "text/html": [
       "<p><b>aya</b> <i>3</i></p>"
      ],
      "text/plain": [
       "<IPython.core.display.HTML object>"
      ]
     },
     "metadata": {},
     "output_type": "display_data"
    },
    {
     "data": {
      "text/html": [
       "<div class=\"section rtl\"><a target=\"_blank\" href=\"http://tanzil.net/#1:5\" title=\"show this passage on Tanzil\" sec=\"1:5\">1:5</a></div><div class=\"rtl children\"><div class=\"contnr c3  rtl  \" ><div class=\"lbl c3  \" ><span class=\"nd\">aya:128224</span></div><div class=\"children hor wrap rtl\"><div class=\"contnr c1  rtl  \" ><div class=\"lbl c1  \" ><span class=\"nd\">group:134469</span></div><div class=\"children hor  rtl\"><div class=\"contnr c0 trm rtl  \" ><div class=\"lbl c0 trm \" ><span class=\"nd\">23</span> <a target=\"_blank\" href=\"http://tanzil.net\" title=\"show this passage on Tanzil\"><span class=\"txtu ara\">إِيَّاكَ </span></a></div></div></div></div><div class=\"contnr c1  rtl  \" ><div class=\"lbl c1  \" ><span class=\"nd\">group:134470</span></div><div class=\"children hor  rtl\"><div class=\"contnr c0 trm rtl  hl\"  style=\"background-color: lightsalmon;\" ><div class=\"lbl c0 trm hl\"  style=\"background-color: lightsalmon;\" ><span class=\"nd\">24</span> <a target=\"_blank\" href=\"http://tanzil.net\" title=\"show this passage on Tanzil\"><span class=\"txtu ara\">نَعْبُدُ </span></a></div><div class='features'><span class=\"sentiment xft\" ><span class=\"f\">sentiment=</span>-4</span></div></div></div></div><div class=\"contnr c1  rtl  \" ><div class=\"lbl c1  \" ><span class=\"nd\">group:134471</span></div><div class=\"children hor  rtl\"><div class=\"contnr c0 trm rtl  \" ><div class=\"lbl c0 trm \" ><span class=\"nd\">25</span> <span class=\"txtu ara\">وَ</span></div></div><div class=\"contnr c0 trm rtl  \" ><div class=\"lbl c0 trm \" ><span class=\"nd\">26</span> <a target=\"_blank\" href=\"http://tanzil.net\" title=\"show this passage on Tanzil\"><span class=\"txtu ara\">إِيَّاكَ </span></a></div></div></div></div><div class=\"contnr c1  rtl  \" ><div class=\"lbl c1  \" ><span class=\"nd\">group:134472</span></div><div class=\"children hor  rtl\"><div class=\"contnr c0 trm rtl  hl\"  style=\"background-color: mediumaquamarine;\" ><div class=\"lbl c0 trm hl\"  style=\"background-color: mediumaquamarine;\" ><span class=\"nd\">27</span> <a target=\"_blank\" href=\"http://tanzil.net\" title=\"show this passage on Tanzil\"><span class=\"txtu ara\">نَسْتَعِينُ</span></a></div><div class='features'><span class=\"sentiment xft\" ><span class=\"f\">sentiment=</span>1</span></div></div></div></div></div></div></div>"
      ],
      "text/plain": [
       "<IPython.core.display.HTML object>"
      ]
     },
     "metadata": {},
     "output_type": "display_data"
    }
   ],
   "source": [
    "A.show(results, start=1, end=3, condensed=True, withNodes=True, highlights=highlights)"
   ]
  },
  {
   "cell_type": "markdown",
   "metadata": {},
   "source": [
    "# All together!\n",
    "\n",
    "If more researchers have shared data modules, you can draw them all in.\n",
    "\n",
    "Then you can design queries that use features from all these different sources.\n",
    "\n",
    "In that way, you build your own research on top of the work of others."
   ]
  },
  {
   "cell_type": "markdown",
   "metadata": {},
   "source": [
    "---\n",
    "\n",
    "All chapters:\n",
    "\n",
    "* **[start](start.ipynb)** introduction to computing with your corpus\n",
    "* **[display](display.ipynb)** become an expert in creating pretty displays of your text structures\n",
    "* **[search](search.ipynb)** turbo charge your hand-coding with search templates\n",
    "* **[exportExcel](exportExcel.ipynb)** make tailor-made spreadsheets out of your results\n",
    "* **share** draw in other people's data and let them use yours\n",
    "* **[similarAyas](similarAyas.ipynb)** spot the similarities between lines\n",
    "* **[rings](rings.ipynb)** ring structures in sura 2\n",
    "\n",
    "CC-BY Dirk Roorda"
   ]
  }
 ],
 "metadata": {
  "kernelspec": {
   "display_name": "Python 3",
   "language": "python",
   "name": "python3"
  },
  "language_info": {
   "codemirror_mode": {
    "name": "ipython",
    "version": 3
   },
   "file_extension": ".py",
   "mimetype": "text/x-python",
   "name": "python",
   "nbconvert_exporter": "python",
   "pygments_lexer": "ipython3",
   "version": "3.7.7"
  }
 },
 "nbformat": 4,
 "nbformat_minor": 4
}
