{
 "cells": [
  {
   "cell_type": "markdown",
   "metadata": {},
   "source": [
    "<img align=\"right\" src=\"images/tf.png\" width=\"128\"/>\n",
    "<img align=\"right\" src=\"images/uu-small.png\" width=\"128\"/>\n",
    "<img align=\"right\" src=\"images/dans.png\" width=\"128\"/>\n",
    "\n",
    "---\n",
    "\n",
    "To get started: consult [start](start.ipynb)\n",
    "\n",
    "---\n",
    "\n",
    "# Export to Excel\n",
    "\n",
    "In a notebook, you can perform searches and view them in a tabular display and zoom in on items with\n",
    "pretty displays.\n",
    "\n",
    "But there are times that you want to take your results outside Text-Fabric, outside a notebook, outside Python, and just\n",
    "work with them in other programs, such as Excel.\n",
    "\n",
    "You want to do that not only with query results, but with all kinds of lists of tuples of nodes.\n",
    "\n",
    "There is a function for that, `A.export()`, and here we show what it can do."
   ]
  },
  {
   "cell_type": "code",
   "execution_count": 1,
   "metadata": {},
   "outputs": [],
   "source": [
    "%load_ext autoreload\n",
    "%autoreload 2"
   ]
  },
  {
   "cell_type": "code",
   "execution_count": 2,
   "metadata": {
    "ExecuteTime": {
     "end_time": "2018-05-24T10:06:39.818664Z",
     "start_time": "2018-05-24T10:06:39.796588Z"
    }
   },
   "outputs": [],
   "source": [
    "import os\n",
    "from tf.app import use"
   ]
  },
  {
   "cell_type": "code",
   "execution_count": 3,
   "metadata": {},
   "outputs": [
    {
     "data": {
      "text/html": [
       "<b title=\"local github\">TF-app:</b> <span title=\"repo clone offline under ~/github\">~/github/annotation/app-quran/code</span>"
      ],
      "text/plain": [
       "<IPython.core.display.HTML object>"
      ]
     },
     "metadata": {},
     "output_type": "display_data"
    },
    {
     "data": {
      "text/html": [
       "<b title=\"local github\">data:</b> <span title=\"repo clone offline under ~/github\">~/github/q-ran/quran/tf/0.4</span>"
      ],
      "text/plain": [
       "<IPython.core.display.HTML object>"
      ]
     },
     "metadata": {},
     "output_type": "display_data"
    },
    {
     "data": {
      "text/html": [
       "<b>Text-Fabric:</b> <a target=\"_blank\" href=\"https://annotation.github.io/text-fabric/cheatsheet.html\" title=\"text-fabric-api\">Text-Fabric API 8.3.0</a>, <a target=\"_blank\" href=\"https://github.com/annotation/app-quran\" title=\"quran TF-app\">app-quran</a>, <a target=\"_blank\" href=\"https://annotation.github.io/text-fabric/about/searchusage.html\" title=\"Search Templates Introduction and Reference\">Search Reference</a><br><b>Data:</b> <a target=\"_blank\" href=\"https://github.com/q-ran/quran/blob/master/docs/features.md\" title=\"provenance of Quran\">QURAN</a>, <a target=\"_blank\" href=\"https://annotation.github.io/text-fabric/writing/arabic.html\" title=\"How TF features represent text\">Character table</a>, <a target=\"_blank\" href=\"https://github.com/q-ran/quran/blob/master/docs/features.md\" title=\"QURAN feature documentation\">Feature docs</a><br><b>Features:</b><br><details><summary><b>Quran</b></summary><a target=\"_blank\" href=\"https://github.com/q-ran/quran/blob/master/docs/features.md\" title=\"~/github/q-ran/quran/tf/0.4/a.tf\">a</a><br><a target=\"_blank\" href=\"https://github.com/q-ran/quran/blob/master/docs/features.md\" title=\"~/github/q-ran/quran/tf/0.4/ascii.tf\">ascii</a><br><a target=\"_blank\" href=\"https://github.com/q-ran/quran/blob/master/docs/features.md\" title=\"~/github/q-ran/quran/tf/0.4/ax.tf\">ax</a><br><a target=\"_blank\" href=\"https://github.com/q-ran/quran/blob/master/docs/features.md\" title=\"~/github/q-ran/quran/tf/0.4/case.tf\">case</a><br><a target=\"_blank\" href=\"https://github.com/q-ran/quran/blob/master/docs/features.md\" title=\"~/github/q-ran/quran/tf/0.4/component.tf\">component</a><br><a target=\"_blank\" href=\"https://github.com/q-ran/quran/blob/master/docs/features.md\" title=\"~/github/q-ran/quran/tf/0.4/definite.tf\">definite</a><br><a target=\"_blank\" href=\"https://github.com/q-ran/quran/blob/master/docs/features.md\" title=\"~/github/q-ran/quran/tf/0.4/f.tf\">f</a><br><a target=\"_blank\" href=\"https://github.com/q-ran/quran/blob/master/docs/features.md\" title=\"~/github/q-ran/quran/tf/0.4/formation.tf\">formation</a><br><a target=\"_blank\" href=\"https://github.com/q-ran/quran/blob/master/docs/features.md\" title=\"~/github/q-ran/quran/tf/0.4/fx.tf\">fx</a><br><a target=\"_blank\" href=\"https://github.com/q-ran/quran/blob/master/docs/features.md\" title=\"~/github/q-ran/quran/tf/0.4/gn.tf\">gn</a><br><a target=\"_blank\" href=\"https://github.com/q-ran/quran/blob/master/docs/features.md\" title=\"~/github/q-ran/quran/tf/0.4/interjection.tf\">interjection</a><br><a target=\"_blank\" href=\"https://github.com/q-ran/quran/blob/master/docs/features.md\" title=\"~/github/q-ran/quran/tf/0.4/l.tf\">l</a><br><a target=\"_blank\" href=\"https://github.com/q-ran/quran/blob/master/docs/features.md\" title=\"~/github/q-ran/quran/tf/0.4/lemma.tf\">lemma</a><br><a target=\"_blank\" href=\"https://github.com/q-ran/quran/blob/master/docs/features.md\" title=\"~/github/q-ran/quran/tf/0.4/lx.tf\">lx</a><br><a target=\"_blank\" href=\"https://github.com/q-ran/quran/blob/master/docs/features.md\" title=\"~/github/q-ran/quran/tf/0.4/mood.tf\">mood</a><br><a target=\"_blank\" href=\"https://github.com/q-ran/quran/blob/master/docs/features.md\" title=\"~/github/q-ran/quran/tf/0.4/n.tf\">n</a><br><a target=\"_blank\" href=\"https://github.com/q-ran/quran/blob/master/docs/features.md\" title=\"~/github/q-ran/quran/tf/0.4/name.tf\">name</a><br><a target=\"_blank\" href=\"https://github.com/q-ran/quran/blob/master/docs/features.md\" title=\"~/github/q-ran/quran/tf/0.4/name@en.tf\">name@ll</a><br><a target=\"_blank\" href=\"https://github.com/q-ran/quran/blob/master/docs/features.md\" title=\"~/github/q-ran/quran/tf/0.4/nameAscii.tf\">nameAscii</a><br><a target=\"_blank\" href=\"https://github.com/q-ran/quran/blob/master/docs/features.md\" title=\"~/github/q-ran/quran/tf/0.4/nameTrans.tf\">nameTrans</a><br><a target=\"_blank\" href=\"https://github.com/q-ran/quran/blob/master/docs/features.md\" title=\"~/github/q-ran/quran/tf/0.4/nu.tf\">nu</a><br><a target=\"_blank\" href=\"https://github.com/q-ran/quran/blob/master/docs/features.md\" title=\"~/github/q-ran/quran/tf/0.4/number.tf\">number</a><br><a target=\"_blank\" href=\"https://github.com/q-ran/quran/blob/master/docs/features.md\" title=\"~/github/q-ran/quran/tf/0.4/order.tf\">order</a><br><a target=\"_blank\" href=\"https://github.com/q-ran/quran/blob/master/docs/features.md\" title=\"~/github/q-ran/quran/tf/0.4/otype.tf\">otype</a><br><a target=\"_blank\" href=\"https://github.com/q-ran/quran/blob/master/docs/features.md\" title=\"~/github/q-ran/quran/tf/0.4/pos.tf\">pos</a><br><a target=\"_blank\" href=\"https://github.com/q-ran/quran/blob/master/docs/features.md\" title=\"~/github/q-ran/quran/tf/0.4/posx.tf\">posx</a><br><a target=\"_blank\" href=\"https://github.com/q-ran/quran/blob/master/docs/features.md\" title=\"~/github/q-ran/quran/tf/0.4/ps.tf\">ps</a><br><a target=\"_blank\" href=\"https://github.com/q-ran/quran/blob/master/docs/features.md\" title=\"~/github/q-ran/quran/tf/0.4/root.tf\">root</a><br><a target=\"_blank\" href=\"https://github.com/q-ran/quran/blob/master/docs/features.md\" title=\"~/github/q-ran/quran/tf/0.4/sp.tf\">sp</a><br><a target=\"_blank\" href=\"https://github.com/q-ran/quran/blob/master/docs/features.md\" title=\"~/github/q-ran/quran/tf/0.4/space.tf\">space</a><br><a target=\"_blank\" href=\"https://github.com/q-ran/quran/blob/master/docs/features.md\" title=\"~/github/q-ran/quran/tf/0.4/tense.tf\">tense</a><br><a target=\"_blank\" href=\"https://github.com/q-ran/quran/blob/master/docs/features.md\" title=\"~/github/q-ran/quran/tf/0.4/translation@en.tf\">translation@ll</a><br><a target=\"_blank\" href=\"https://github.com/q-ran/quran/blob/master/docs/features.md\" title=\"~/github/q-ran/quran/tf/0.4/type.tf\">type</a><br><a target=\"_blank\" href=\"https://github.com/q-ran/quran/blob/master/docs/features.md\" title=\"~/github/q-ran/quran/tf/0.4/unicode.tf\">unicode</a><br><a target=\"_blank\" href=\"https://github.com/q-ran/quran/blob/master/docs/features.md\" title=\"~/github/q-ran/quran/tf/0.4/voice.tf\">voice</a><br><a target=\"_blank\" href=\"https://github.com/q-ran/quran/blob/master/docs/features.md\" title=\"~/github/q-ran/quran/tf/0.4/w.tf\">w</a><br><a target=\"_blank\" href=\"https://github.com/q-ran/quran/blob/master/docs/features.md\" title=\"~/github/q-ran/quran/tf/0.4/wx.tf\">wx</a><br><b><i><a target=\"_blank\" href=\"https://github.com/q-ran/quran/blob/master/docs/features.md\" title=\"~/github/q-ran/quran/tf/0.4/oslots.tf\">oslots</a></i></b><br></details>"
      ],
      "text/plain": [
       "<IPython.core.display.HTML object>"
      ]
     },
     "metadata": {},
     "output_type": "display_data"
    },
    {
     "data": {
      "text/html": [
       "<style>tr.tf.ltr, td.tf.ltr, th.tf.ltr { text-align: left ! important;}\n",
       "tr.tf.rtl, td.tf.rtl, th.tf.rtl { text-align: right ! important;}\n",
       "@font-face {\n",
       "  font-family: \"Ezra SIL\";\n",
       "  src: local('Ezra SIL'), local('EzraSIL'),\n",
       "    url('/server/static/fonts/SILEOT.woff') format('woff'),\n",
       "    url('https://github.com/annotation/text-fabric/blob/master/tf/server/static/fonts/SILEOT.woff?raw=true') format('woff');\n",
       "}\n",
       "\n",
       "@font-face {\n",
       "  font-family: \"SBL Hebrew\";\n",
       "  src: local('SBL Hebrew'), local('SBLHebrew'),\n",
       "    url('/server/static/fonts/SBL_Hbrw.woff') format('woff'),\n",
       "    url('https://github.com/annotation/text-fabric/blob/master/tf/server/static/fonts/SBL_Hbrw.woff?raw=true') format('woff');\n",
       "}\n",
       "\n",
       "@font-face {\n",
       "  font-family: \"Estrangelo Edessa\";\n",
       "  src: local('Estrangelo Edessa'), local('EstrangeloEdessa');\n",
       "    url('/server/static/fonts/SyrCOMEdessa.woff') format('woff'),\n",
       "    url('https://github.com/annotation/text-fabric/blob/master/tf/server/static/fonts/SyrCOMEdessa.woff?raw=true') format('woff');\n",
       "}\n",
       "\n",
       "@font-face {\n",
       "  font-family: AmiriQuran;\n",
       "  font-style: normal;\n",
       "  font-weight: 400;\n",
       "  src: local('Amiri Quran'), local('AmiriQuran'),\n",
       "    url('/server/static/fonts/AmiriQuran.woff') format('woff'),\n",
       "    url('https://github.com/annotation/text-fabric/blob/master/tf/server/static/fonts/AmiriQuran.woff?raw=true') format('woff');\n",
       "}\n",
       "\n",
       "@font-face {\n",
       "  font-family: AmiriQuranColored;\n",
       "  font-style: normal;\n",
       "  font-weight: 400;\n",
       "  src: local('Amiri Quran Colored'), local('AmiriQuranColored'),\n",
       "    url('/server/static/fonts/AmiriQuranColored.woff') format('woff'),\n",
       "    url('https://github.com/annotation/text-fabric/blob/master/tf/server/static/fonts/AmiriQuranColored.woff?raw=true') format('woff');\n",
       "}\n",
       "\n",
       "@font-face {\n",
       "  font-family: \"Santakku\";\n",
       "  src: local('Santakku'),\n",
       "    url('/server/static/fonts/Santakku.woff') format('woff'),\n",
       "    url('https://github.com/annotation/text-fabric/blob/master/tf/server/static/fonts/Santakku.woff?raw=true') format('woff');\n",
       "}\n",
       "\n",
       "@font-face {\n",
       "  font-family: \"SantakkuM\";\n",
       "  src: local('SantakkuM'),\n",
       "    url('/server/static/fonts/SantakkuM.woff') format('woff'),\n",
       "    url('https://github.com/annotation/text-fabric/blob/master/tf/server/static/fonts/SantakkuM.woff?raw=true') format('woff');\n",
       "}\n",
       "/* bypassing some classical notebook settings */\n",
       "div#notebook {\n",
       "  line-height: unset;\n",
       "}\n",
       "/* neutral text */\n",
       ".txtn,.txtn a:visited,.txtn a:link {\n",
       "    font-family: sans-serif;\n",
       "    font-size: medium;\n",
       "    direction: ltr;\n",
       "    text-decoration: none;\n",
       "    color: var(--text-color);\n",
       "}\n",
       "/* transcription text */\n",
       ".txtt,.txtt a:visited,.txtt a:link {\n",
       "    font-family: monospace;\n",
       "    font-size: medium;\n",
       "    direction: ltr;\n",
       "    text-decoration: none;\n",
       "    color: var(--text-color);\n",
       "}\n",
       "/* source text */\n",
       ".txto,.txto a:visited,.txto a:link {\n",
       "    font-family: serif;\n",
       "    font-size: medium;\n",
       "    direction: ltr;\n",
       "    text-decoration: none;\n",
       "    color: var(--text-color);\n",
       "}\n",
       "/* phonetic text */\n",
       ".txtp,.txtp a:visited,.txtp a:link {\n",
       "    font-family: Gentium, sans-serif;\n",
       "    font-size: medium;\n",
       "    direction: ltr;\n",
       "    text-decoration: none;\n",
       "    color: var(--text-color);\n",
       "}\n",
       "/* original script text */\n",
       ".txtu,.txtu a:visited,.txtu a:link {\n",
       "    font-family: Gentium, sans-serif;\n",
       "    font-size: medium;\n",
       "    text-decoration: none;\n",
       "    color: var(--text-color);\n",
       "}\n",
       "/* hebrew */\n",
       ".txtu.hbo,.lex.hbo {\n",
       "    font-family: \"Ezra SIL\", \"SBL Hebrew\", sans-serif;\n",
       "    font-size: large;\n",
       "    direction: rtl ! important;\n",
       "    unicode-bidi: embed;\n",
       "}\n",
       "/* syriac */\n",
       ".txtu.syc,.lex.syc {\n",
       "    font-family: \"Estrangelo Edessa\", sans-serif;\n",
       "    font-size: medium;\n",
       "    direction: rtl ! important;\n",
       "    unicode-bidi: embed;\n",
       "}\n",
       "/* neo aramaic */\n",
       ".txtu.cld,.lex.cld {\n",
       "    font-family: \"CharisSIL-R\", sans-serif;\n",
       "    font-size: medium;\n",
       "    direction: ltr ! important;\n",
       "    unicode-bidi: embed;\n",
       "}\n",
       "/* standard arabic */\n",
       ".txtu.ara,.lex.ara {\n",
       "    font-family: \"AmiriQuran\", sans-serif;\n",
       "    font-size: large;\n",
       "    direction: rtl ! important;\n",
       "    unicode-bidi: embed;\n",
       "}\n",
       "/* cuneiform */\n",
       ".txtu.akk,.lex.akk {\n",
       "    font-family: Santakku, sans-serif;\n",
       "    font-size: large;\n",
       "    direction: ltr ! important;\n",
       "    unicode-bidi: embed;\n",
       "}\n",
       "/* greek */\n",
       ".txtu.grc,.lex.grc a:link {\n",
       "    font-family: Gentium, sans-serif;\n",
       "    font-size: medium;\n",
       "    direction: ltr ! important;\n",
       "    unicode-bidi: embed;\n",
       "}\n",
       "a:hover {\n",
       "    text-decoration: underline | important;\n",
       "    color: #0000ff | important;\n",
       "}\n",
       ".ltr {\n",
       "    direction: ltr ! important;\n",
       "}\n",
       ".rtl {\n",
       "    direction: rtl ! important;\n",
       "}\n",
       ".features {\n",
       "    font-family: monospace;\n",
       "    font-size: medium;\n",
       "    font-weight: bold;\n",
       "    color: var(--features);\n",
       "    display: flex;\n",
       "    flex-flow: column nowrap;\n",
       "    justify-content: flex-start;\n",
       "    align-items: flex-start;\n",
       "    align-content: flex-start;\n",
       "    padding: 0.1rem;\n",
       "    margin: 0.1rem;\n",
       "    direction: ltr;\n",
       "    border: var(--meta-width) solid var(--meta-color);\n",
       "    border-radius: var(--meta-width);\n",
       "}\n",
       ".features div,.features span {\n",
       "    padding: 0;\n",
       "    margin: -0.1rem 0;\n",
       "}\n",
       ".features .f {\n",
       "    font-family: sans-serif;\n",
       "    font-size: small;\n",
       "    font-weight: normal;\n",
       "    color: #5555bb;\n",
       "}\n",
       ".features .xft {\n",
       "  color: #000000;\n",
       "  background-color: #eeeeee;\n",
       "  font-size: medium;\n",
       "  margin: 0.1rem 0rem;\n",
       "}\n",
       ".features .xft .f {\n",
       "  color: #000000;\n",
       "  background-color: #eeeeee;\n",
       "  font-size: small;\n",
       "  font-weight: normal;\n",
       "}\n",
       ".section {\n",
       "    font-family: sans-serif;\n",
       "    font-size: small;\n",
       "    font-weight: bold;\n",
       "    color: var(--section);\n",
       "    unicode-bidi: embed;\n",
       "    text-align: start;\n",
       "}\n",
       ".structure {\n",
       "    font-family: sans-serif;\n",
       "    font-size: small;\n",
       "    font-weight: bold;\n",
       "    color: var(--structure);\n",
       "    unicode-bidi: embed;\n",
       "    text-align: start;\n",
       "}\n",
       ".comments {\n",
       "    display: flex;\n",
       "    justify-content: flex-start;\n",
       "    align-items: flex-start;\n",
       "    align-content: flex-start;\n",
       "    flex-flow: column nowrap;\n",
       "}\n",
       ".nd, a:link.nd {\n",
       "    font-family: sans-serif;\n",
       "    font-size: small;\n",
       "    color: var(--node);\n",
       "    vertical-align: super;\n",
       "    direction: ltr ! important;\n",
       "    unicode-bidi: embed;\n",
       "}\n",
       ".lex {\n",
       "  color: var(--lex-color);;\n",
       "}\n",
       ".children,.children.ltr {\n",
       "    display: flex;\n",
       "    border: 0;\n",
       "    background-color: #ffffff;\n",
       "    justify-content: flex-start;\n",
       "    align-items: flex-start;\n",
       "    align-content: flex-start;\n",
       "}\n",
       ".children.stretch {\n",
       "    align-items: stretch;\n",
       "}\n",
       ".children.hor {\n",
       "    flex-flow: row nowrap;\n",
       "}\n",
       ".children.hor.wrap {\n",
       "    flex-flow: row wrap;\n",
       "}\n",
       ".children.ver {\n",
       "    flex-flow: column nowrap;\n",
       "}\n",
       ".children.ver.wrap {\n",
       "    flex-flow: column wrap;\n",
       "}\n",
       ".contnr {\n",
       "    width: fit-content;\n",
       "    display: flex;\n",
       "    justify-content: flex-start;\n",
       "    align-items: flex-start;\n",
       "    align-content: flex-start;\n",
       "    flex-flow: column nowrap;\n",
       "    background: #ffffff none repeat scroll 0 0;\n",
       "    padding:  0.5rem 0.1rem 0.1rem 0.1rem;\n",
       "    margin: 0.8rem 0.1rem 0.1rem 0.1rem;\n",
       "    border-style: solid;\n",
       "    font-size: small;\n",
       "}\n",
       ".contnr.trm {\n",
       "    background-attachment: local;\n",
       "}\n",
       ".contnr.cnul {\n",
       "    padding:  0;\n",
       "    margin: 0;\n",
       "    border-style: solid;\n",
       "    font-size: xx-small;\n",
       "}\n",
       ".contnr.cnul,.lbl.cnul {\n",
       "    border-color: var(--border-color-nul);\n",
       "    border-width: var(--border-width-nul);\n",
       "    border-radius: var(--border-width-nul);\n",
       "}\n",
       ".contnr.c0,.lbl.c0 {\n",
       "    border-color: var(--border-color0);\n",
       "    border-width: var(--border-width0);\n",
       "    border-radius: var(--border-width0);\n",
       "}\n",
       ".contnr.c1,.lbl.c1 {\n",
       "    border-color: var(--border-color1);\n",
       "    border-width: var(--border-width1);\n",
       "    border-radius: var(--border-width1);\n",
       "}\n",
       ".contnr.c2,.lbl.c2 {\n",
       "    border-color: var(--border-color2);\n",
       "    border-width: var(--border-width2);\n",
       "    border-radius: var(--border-width2);\n",
       "}\n",
       ".contnr.c3,.lbl.c3 {\n",
       "    border-color: var(--border-color3);\n",
       "    border-width: var(--border-width3);\n",
       "    border-radius: var(--border-width3);\n",
       "}\n",
       ".contnr.c4,.lbl.c4 {\n",
       "    border-color: var(--border-color4);\n",
       "    border-width: var(--border-width4);\n",
       "    border-radius: var(--border-width4);\n",
       "}\n",
       "span.plain {\n",
       "    display: inline-block;\n",
       "    white-space: pre-wrap;\n",
       "}\n",
       ".plain {\n",
       "    background-color: #ffffff;\n",
       "}\n",
       ".plain.l,.contnr.l,.contnr.l>.lbl {\n",
       "    border-left-style: dotted\n",
       "}\n",
       ".plain.r,.contnr.r,.contnr.r>.lbl {\n",
       "    border-right-style: dotted\n",
       "}\n",
       ".plain.lno,.contnr.lno,.contnr.lno>.lbl {\n",
       "    border-left-style: none\n",
       "}\n",
       ".plain.rno,.contnr.rno,.contnr.rno>.lbl {\n",
       "    border-right-style: none\n",
       "}\n",
       ".plain.l {\n",
       "    padding-left: 0.2rem;\n",
       "    margin-left: 0.1rem;\n",
       "    border-width: var(--border-width-plain);\n",
       "}\n",
       ".plain.r {\n",
       "    padding-right: 0.2rem;\n",
       "    margin-right: 0.1rem;\n",
       "    border-width: var(--border-width-plain);\n",
       "}\n",
       ".lbl {\n",
       "    font-family: monospace;\n",
       "    margin-top: -1.2rem;\n",
       "    margin-left: 1rem;\n",
       "    background: #ffffff none repeat scroll 0 0;\n",
       "    padding: 0 0.3rem;\n",
       "    border-style: solid;\n",
       "    display: block;\n",
       "    color: var(--label)\n",
       "}\n",
       ".lbl.trm {\n",
       "    background-attachment: local;\n",
       "    margin-top: 0.1rem;\n",
       "    margin-left: 0.1rem;\n",
       "    padding: 0.1rem 0.1rem;\n",
       "    border-style: none;\n",
       "}\n",
       ".lbl.cnul {\n",
       "    font-size: xx-small;\n",
       "}\n",
       ".lbl.c0 {\n",
       "    font-size: small;\n",
       "}\n",
       ".lbl.c1 {\n",
       "    font-size: small;\n",
       "}\n",
       ".lbl.c2 {\n",
       "    font-size: medium;\n",
       "}\n",
       ".lbl.c3 {\n",
       "    font-size: medium;\n",
       "}\n",
       ".lbl.c4 {\n",
       "    font-size: large;\n",
       "}\n",
       ".occs, a:link.occs {\n",
       "    font-size: small;\n",
       "}\n",
       "\n",
       "/* PROVENANCE */\n",
       "\n",
       "div.prov {\n",
       "\tmargin: 2rem;\n",
       "\tpadding: 1rem;\n",
       "\tborder: 0.1rem solid var(--fog-rim);\n",
       "}\n",
       "div.pline {\n",
       "\tdisplay: flex;\n",
       "\tflex-flow: row nowrap;\n",
       "\tjustify-content: stretch;\n",
       "\talign-items: baseline;\n",
       "}\n",
       "div.p2line {\n",
       "\tmargin-left: 2em;\n",
       "\tdisplay: flex;\n",
       "\tflex-flow: row nowrap;\n",
       "\tjustify-content: stretch;\n",
       "\talign-items: baseline;\n",
       "}\n",
       "div.psline {\n",
       "\tdisplay: flex;\n",
       "\tflex-flow: row nowrap;\n",
       "\tjustify-content: stretch;\n",
       "\talign-items: baseline;\n",
       "\tbackground-color: var(--gold-mist-back);\n",
       "}\n",
       "div.pname {\n",
       "\tflex: 0 0 5rem;\n",
       "\tfont-weight: bold;\n",
       "}\n",
       "div.pval {\n",
       "    flex: 1 1 auto;\n",
       "}\n",
       "\n",
       ":root {\n",
       "\t--node:               hsla(120, 100%,  20%, 1.0  );\n",
       "\t--label:              hsla(  0, 100%,  20%, 1.0  );\n",
       "\t--section:            hsla(  0, 100%,  25%, 1.0  );\n",
       "\t--structure:          hsla(120, 100%,  25%, 1.0  );\n",
       "\t--features:           hsla(  0,   0%,  30%, 1.0  );\n",
       "  --text-color:         hsla( 60,  80%,  10%, 1.0  );\n",
       "  --lex-color:          hsla(220,  90%,  60%, 1.0  );\n",
       "  --meta-color:         hsla(  0,   0%,  90%, 0.7  );\n",
       "  --meta-width:         0.15rem;\n",
       "  --border-color-nul:   hsla(  0,   0%,  90%, 0.5  );\n",
       "  --border-color0:      hsla(  0,   0%,  90%, 0.9  );\n",
       "  --border-color1:      hsla(  0,   0%,  80%, 0.9  );\n",
       "  --border-color2:      hsla(  0,   0%,  70%, 0.9  );\n",
       "  --border-color3:      hsla(  0,   0%,  80%, 0.8  );\n",
       "  --border-color4:      hsla(  0,   0%,  60%, 0.9  );\n",
       "  --border-width-nul:   0.1rem;\n",
       "  --border-width0:      0.1rem;\n",
       "  --border-width1:      0.15rem;\n",
       "  --border-width2:      0.2rem;\n",
       "  --border-width3:      0.3rem;\n",
       "  --border-width4:      0.25rem;\n",
       "  --border-width-plain: 0.1rem;\n",
       "}\n",
       ".hl {\n",
       "  background-color: var(--hl-strong);\n",
       "}\n",
       "span.hl {\n",
       "\tbackground-color: var(--hl-strong);\n",
       "\tborder-width: 0;\n",
       "\tborder-radius: 0.1rem;\n",
       "\tborder-style: solid;\n",
       "}\n",
       "div.contnr.hl,div.lbl.hl {\n",
       "  background-color: var(--hl-strong);\n",
       "}\n",
       "div.contnr.hl {\n",
       "  border-color: var(--hl-rim) ! important;\n",
       "\tborder-width: 0.2rem ! important;\n",
       "}\n",
       "\n",
       "span.hlbx {\n",
       "\tborder-color: var(--hl-rim);\n",
       "\tborder-width: 0.2rem ! important;\n",
       "\tborder-style: solid;\n",
       "\tborder-radius: 0.3rem;\n",
       "  padding: 0.2rem;\n",
       "  margin: 0.2rem;\n",
       "}\n",
       "\n",
       "span.plain {\n",
       "  display: inline-block;\n",
       "  white-space: pre-wrap;\n",
       "}\n",
       "\n",
       ":root {\n",
       "\t--hl-strong:        hsla( 60, 100%,  70%, 0.9  );\n",
       "\t--hl-rim:           hsla( 55,  80%,  50%, 1.0  );\n",
       "}\n",
       "</style>"
      ],
      "text/plain": [
       "<IPython.core.display.HTML object>"
      ]
     },
     "metadata": {},
     "output_type": "display_data"
    },
    {
     "data": {
      "text/html": [
       "<div><b>Text-Fabric API:</b> names <a target=\"_blank\" href=\"https://annotation.github.io/text-fabric/cheatsheet.html\" title=\"doc\">N F E L T S C TF</a> directly usable</div><hr>"
      ],
      "text/plain": [
       "<IPython.core.display.HTML object>"
      ]
     },
     "metadata": {},
     "output_type": "display_data"
    }
   ],
   "source": [
    "A = use(\"quran:clone\", checkout=\"clone\", hoist=globals())\n",
    "# A = use('quran', hoist=globals())"
   ]
  },
  {
   "cell_type": "markdown",
   "metadata": {},
   "source": [
    "# Inspect the contents of a file\n",
    "We write a function that can peek into file on your system, and show the first few lines.\n",
    "We'll use it to inspect the exported files that we are going to produce."
   ]
  },
  {
   "cell_type": "code",
   "execution_count": 4,
   "metadata": {},
   "outputs": [],
   "source": [
    "EXPORT_FILE = os.path.expanduser(\"~/Downloads/results.tsv\")\n",
    "UPTO = 10\n",
    "\n",
    "\n",
    "def checkout():\n",
    "    with open(EXPORT_FILE, encoding=\"utf_16\") as fh:\n",
    "        for (i, line) in enumerate(fh):\n",
    "            if i >= UPTO:\n",
    "                break\n",
    "            print(line)"
   ]
  },
  {
   "cell_type": "markdown",
   "metadata": {},
   "source": [
    "# Encoding\n",
    "\n",
    "Our exported `.tsv` files open in Excel without hassle, even if they contain non-latin characters.\n",
    "That is because TF writes such files in an\n",
    "encoding that works well with Excel: `utf_16_le`.\n",
    "You can just open them in Excel, there is no need for conversion before or after opening these files.\n",
    "\n",
    "Should you want to process these files by means of a (Python) program,\n",
    "take care to read them with encoding `utf_16`."
   ]
  },
  {
   "cell_type": "markdown",
   "metadata": {},
   "source": [
    "# Example query\n",
    "\n",
    "We first run a query in order to export the results."
   ]
  },
  {
   "cell_type": "code",
   "execution_count": 5,
   "metadata": {
    "ExecuteTime": {
     "end_time": "2018-05-24T07:46:55.998382Z",
     "start_time": "2018-05-24T07:46:55.137956Z"
    }
   },
   "outputs": [
    {
     "name": "stdout",
     "output_type": "stream",
     "text": [
      "  0.40s 529 results\n"
     ]
    }
   ],
   "source": [
    "query = \"\"\"\n",
    "aya\n",
    "  word pos=verb\n",
    "  <: word pos=noun posx=proper root=Alh\n",
    "  <: word\n",
    "\"\"\"\n",
    "results = A.search(query)"
   ]
  },
  {
   "cell_type": "markdown",
   "metadata": {},
   "source": [
    "# Bare export\n",
    "\n",
    "You can export the table of results to Excel.\n",
    "\n",
    "The following command writes a tab-separated file `results.tsv` to your downloads directory.\n",
    "\n",
    "You can specify arguments `toDir=directory` and `toFile=file name` to write to a different file.\n",
    "If the directory does not exist, it will be created.\n",
    "\n",
    "We stick to the default, however."
   ]
  },
  {
   "cell_type": "code",
   "execution_count": 6,
   "metadata": {},
   "outputs": [],
   "source": [
    "A.export(results)"
   ]
  },
  {
   "cell_type": "markdown",
   "metadata": {},
   "source": [
    "Check out the contents:"
   ]
  },
  {
   "cell_type": "code",
   "execution_count": 7,
   "metadata": {},
   "outputs": [
    {
     "name": "stdout",
     "output_type": "stream",
     "text": [
      "R\tS1\tS2\tNODE1\tTYPE1\tTEXT1\tNODE2\tTYPE2\tTEXT2\tpos2\tNODE3\tTYPE3\tTEXT3\tpos3\tposx3\troot3\tNODE4\tTYPE4\tTEXT4\n",
      "\n",
      "1\t2\t7\t128233\taya\tخَتَمَ ٱللَّهُ عَلَىٰ قُلُوبِهِمْ وَعَلَىٰ سَمْعِهِمْ وَعَلَىٰٓ أَبْصَٰرِهِمْ غِشَٰوَةٌ وَلَهُمْ عَذَابٌ عَظِيمٌ\t131\tword\tخَتَمَ \tverb\t132\tword\tٱللَّهُ \tnoun\tproper\tAlh\t133\tword\tعَلَىٰ \n",
      "\n",
      "2\t2\t17\t128243\taya\tمَثَلُهُمْ كَمَثَلِ ٱلَّذِى ٱسْتَوْقَدَ نَارًا فَلَمَّآ أَضَآءَتْ مَا حَوْلَهُۥ ذَهَبَ ٱللَّهُ بِنُورِهِمْ وَتَرَكَهُمْ فِى ظُلُمَٰتٍ لَّا يُبْصِرُونَ\t341\tword\tذَهَبَ \tverb\t342\tword\tٱللَّهُ \tnoun\tproper\tAlh\t343\tword\tبِ\n",
      "\n",
      "3\t2\t20\t128246\taya\tيَكَادُ ٱلْبَرْقُ يَخْطَفُ أَبْصَٰرَهُمْ كُلَّمَآ أَضَآءَ لَهُم مَّشَوْا۟ فِيهِ وَإِذَآ أَظْلَمَ عَلَيْهِمْ قَامُوا۟ وَلَوْ شَآءَ ٱللَّهُ لَذَهَبَ بِسَمْعِهِمْ وَأَبْصَٰرِهِمْ إِنَّ ٱللَّهَ عَلَىٰ كُلِّ شَىْءٍ قَدِيرٌ\t417\tword\tشَآءَ \tverb\t418\tword\tٱللَّهُ \tnoun\tproper\tAlh\t419\tword\tلَ\n",
      "\n",
      "4\t2\t26\t128252\taya\tإِنَّ ٱللَّهَ لَا يَسْتَحْىِۦٓ أَن يَضْرِبَ مَثَلًا مَّا بَعُوضَةً فَمَا فَوْقَهَا فَأَمَّا ٱلَّذِينَ ءَامَنُوا۟ فَيَعْلَمُونَ أَنَّهُ ٱلْحَقُّ مِن رَّبِّهِمْ وَأَمَّا ٱلَّذِينَ كَفَرُوا۟ فَيَقُولُونَ مَاذَآ أَرَادَ ٱللَّهُ بِهَٰذَا مَثَلًا يُضِلُّ بِهِۦ كَثِيرًا وَيَهْدِى بِهِۦ كَثِيرًا وَمَا يُضِلُّ بِهِۦٓ إِلَّا ٱلْفَٰسِقِينَ\t641\tword\tأَرَادَ \tverb\t642\tword\tٱللَّهُ \tnoun\tproper\tAlh\t643\tword\tبِ\n",
      "\n",
      "5\t2\t27\t128253\taya\tٱلَّذِينَ يَنقُضُونَ عَهْدَ ٱللَّهِ مِنۢ بَعْدِ مِيثَٰقِهِۦ وَيَقْطَعُونَ مَآ أَمَرَ ٱللَّهُ بِهِۦٓ أَن يُوصَلَ وَيُفْسِدُونَ فِى ٱلْأَرْضِ أُو۟لَٰٓئِكَ هُمُ ٱلْخَٰسِرُونَ\t676\tword\tأَمَرَ \tverb\t677\tword\tٱللَّهُ \tnoun\tproper\tAlh\t678\tword\tبِ\n",
      "\n",
      "6\t2\t55\t128281\taya\tوَإِذْ قُلْتُمْ يَٰمُوسَىٰ لَن نُّؤْمِنَ لَكَ حَتَّىٰ نَرَى ٱللَّهَ جَهْرَةً فَأَخَذَتْكُمُ ٱلصَّٰعِقَةُ وَأَنتُمْ تَنظُرُونَ\t1393\tword\tنَرَى \tverb\t1394\tword\tٱللَّهَ \tnoun\tproper\tAlh\t1395\tword\tجَهْرَةً \n",
      "\n",
      "7\t2\t70\t128296\taya\tقَالُوا۟ ٱدْعُ لَنَا رَبَّكَ يُبَيِّن لَّنَا مَا هِىَ إِنَّ ٱلْبَقَرَ تَشَٰبَهَ عَلَيْنَا وَإِنَّآ إِن شَآءَ ٱللَّهُ لَمُهْتَدُونَ\t1922\tword\tشَآءَ \tverb\t1923\tword\tٱللَّهُ \tnoun\tproper\tAlh\t1924\tword\tلَ\n",
      "\n",
      "8\t2\t73\t128299\taya\tفَقُلْنَا ٱضْرِبُوهُ بِبَعْضِهَا كَذَٰلِكَ يُحْىِ ٱللَّهُ ٱلْمَوْتَىٰ وَيُرِيكُمْ ءَايَٰتِهِۦ لَعَلَّكُمْ تَعْقِلُونَ\t1996\tword\tيُحْىِ \tverb\t1997\tword\tٱللَّهُ \tnoun\tproper\tAlh\t1998\tword\tٱلْ\n",
      "\n",
      "9\t2\t76\t128302\taya\tوَإِذَا لَقُوا۟ ٱلَّذِينَ ءَامَنُوا۟ قَالُوٓا۟ ءَامَنَّا وَإِذَا خَلَا بَعْضُهُمْ إِلَىٰ بَعْضٍ قَالُوٓا۟ أَتُحَدِّثُونَهُم بِمَا فَتَحَ ٱللَّهُ عَلَيْكُمْ لِيُحَآجُّوكُم بِهِۦ عِندَ رَبِّكُمْ أَفَلَا تَعْقِلُونَ\t2127\tword\tفَتَحَ \tverb\t2128\tword\tٱللَّهُ \tnoun\tproper\tAlh\t2129\tword\tعَلَيْ\n",
      "\n"
     ]
    }
   ],
   "source": [
    "checkout()"
   ]
  },
  {
   "cell_type": "markdown",
   "metadata": {},
   "source": [
    "You see the following columns:\n",
    "\n",
    "* **R** the sequence number of the result tuple in the result list\n",
    "* **S1 S2** the section as sura and aya in separate columns\n",
    "* **NODEi TYPEi** the node and its type, for each node **i** in the result tuple\n",
    "* **TEXTi** the full text of node **i**, if the node type admits a concise text representation\n",
    "* **pos2** the value of feature `pos` on node 2, since our query mentions the feature `pos` on node 2\n",
    "* other features: likewise for `pos3`, `posx3`, `root3`"
   ]
  },
  {
   "cell_type": "markdown",
   "metadata": {},
   "source": [
    "# Richer exports\n",
    "\n",
    "If we want to see the feature `posx` and the word gender (feature `gn`) on the last word (4), we must mention them\n",
    "in the query.\n",
    "\n",
    "We can do so as follows:"
   ]
  },
  {
   "cell_type": "code",
   "execution_count": 8,
   "metadata": {
    "ExecuteTime": {
     "end_time": "2018-05-24T07:46:55.998382Z",
     "start_time": "2018-05-24T07:46:55.137956Z"
    }
   },
   "outputs": [
    {
     "name": "stdout",
     "output_type": "stream",
     "text": [
      "  0.63s 529 results\n"
     ]
    }
   ],
   "source": [
    "query = \"\"\"\n",
    "aya\n",
    "  word pos=verb\n",
    "  <: word pos=noun posx=proper root=Alh\n",
    "  <: word posx* gn*\n",
    "\"\"\"\n",
    "results = A.search(query)"
   ]
  },
  {
   "cell_type": "markdown",
   "metadata": {},
   "source": [
    "The same number of results as before.\n",
    "The `*` is a trivial condition, it is always true.\n",
    "\n",
    "We do the export again and peek at the results."
   ]
  },
  {
   "cell_type": "code",
   "execution_count": 9,
   "metadata": {},
   "outputs": [
    {
     "name": "stdout",
     "output_type": "stream",
     "text": [
      "R\tS1\tS2\tNODE1\tTYPE1\tTEXT1\tNODE2\tTYPE2\tTEXT2\tpos2\tNODE3\tTYPE3\tTEXT3\tpos3\tposx3\troot3\tNODE4\tTYPE4\tTEXT4\tgn4\tposx4\n",
      "\n",
      "1\t2\t7\t128233\taya\tخَتَمَ ٱللَّهُ عَلَىٰ قُلُوبِهِمْ وَعَلَىٰ سَمْعِهِمْ وَعَلَىٰٓ أَبْصَٰرِهِمْ غِشَٰوَةٌ وَلَهُمْ عَذَابٌ عَظِيمٌ\t131\tword\tخَتَمَ \tverb\t132\tword\tٱللَّهُ \tnoun\tproper\tAlh\t133\tword\tعَلَىٰ \t\t\n",
      "\n",
      "2\t2\t17\t128243\taya\tمَثَلُهُمْ كَمَثَلِ ٱلَّذِى ٱسْتَوْقَدَ نَارًا فَلَمَّآ أَضَآءَتْ مَا حَوْلَهُۥ ذَهَبَ ٱللَّهُ بِنُورِهِمْ وَتَرَكَهُمْ فِى ظُلُمَٰتٍ لَّا يُبْصِرُونَ\t341\tword\tذَهَبَ \tverb\t342\tword\tٱللَّهُ \tnoun\tproper\tAlh\t343\tword\tبِ\t\t\n",
      "\n",
      "3\t2\t20\t128246\taya\tيَكَادُ ٱلْبَرْقُ يَخْطَفُ أَبْصَٰرَهُمْ كُلَّمَآ أَضَآءَ لَهُم مَّشَوْا۟ فِيهِ وَإِذَآ أَظْلَمَ عَلَيْهِمْ قَامُوا۟ وَلَوْ شَآءَ ٱللَّهُ لَذَهَبَ بِسَمْعِهِمْ وَأَبْصَٰرِهِمْ إِنَّ ٱللَّهَ عَلَىٰ كُلِّ شَىْءٍ قَدِيرٌ\t417\tword\tشَآءَ \tverb\t418\tword\tٱللَّهُ \tnoun\tproper\tAlh\t419\tword\tلَ\t\temphatic\n",
      "\n",
      "4\t2\t26\t128252\taya\tإِنَّ ٱللَّهَ لَا يَسْتَحْىِۦٓ أَن يَضْرِبَ مَثَلًا مَّا بَعُوضَةً فَمَا فَوْقَهَا فَأَمَّا ٱلَّذِينَ ءَامَنُوا۟ فَيَعْلَمُونَ أَنَّهُ ٱلْحَقُّ مِن رَّبِّهِمْ وَأَمَّا ٱلَّذِينَ كَفَرُوا۟ فَيَقُولُونَ مَاذَآ أَرَادَ ٱللَّهُ بِهَٰذَا مَثَلًا يُضِلُّ بِهِۦ كَثِيرًا وَيَهْدِى بِهِۦ كَثِيرًا وَمَا يُضِلُّ بِهِۦٓ إِلَّا ٱلْفَٰسِقِينَ\t641\tword\tأَرَادَ \tverb\t642\tword\tٱللَّهُ \tnoun\tproper\tAlh\t643\tword\tبِ\t\t\n",
      "\n",
      "5\t2\t27\t128253\taya\tٱلَّذِينَ يَنقُضُونَ عَهْدَ ٱللَّهِ مِنۢ بَعْدِ مِيثَٰقِهِۦ وَيَقْطَعُونَ مَآ أَمَرَ ٱللَّهُ بِهِۦٓ أَن يُوصَلَ وَيُفْسِدُونَ فِى ٱلْأَرْضِ أُو۟لَٰٓئِكَ هُمُ ٱلْخَٰسِرُونَ\t676\tword\tأَمَرَ \tverb\t677\tword\tٱللَّهُ \tnoun\tproper\tAlh\t678\tword\tبِ\t\t\n",
      "\n",
      "6\t2\t55\t128281\taya\tوَإِذْ قُلْتُمْ يَٰمُوسَىٰ لَن نُّؤْمِنَ لَكَ حَتَّىٰ نَرَى ٱللَّهَ جَهْرَةً فَأَخَذَتْكُمُ ٱلصَّٰعِقَةُ وَأَنتُمْ تَنظُرُونَ\t1393\tword\tنَرَى \tverb\t1394\tword\tٱللَّهَ \tnoun\tproper\tAlh\t1395\tword\tجَهْرَةً \tf\t\n",
      "\n",
      "7\t2\t70\t128296\taya\tقَالُوا۟ ٱدْعُ لَنَا رَبَّكَ يُبَيِّن لَّنَا مَا هِىَ إِنَّ ٱلْبَقَرَ تَشَٰبَهَ عَلَيْنَا وَإِنَّآ إِن شَآءَ ٱللَّهُ لَمُهْتَدُونَ\t1922\tword\tشَآءَ \tverb\t1923\tword\tٱللَّهُ \tnoun\tproper\tAlh\t1924\tword\tلَ\t\temphatic\n",
      "\n",
      "8\t2\t73\t128299\taya\tفَقُلْنَا ٱضْرِبُوهُ بِبَعْضِهَا كَذَٰلِكَ يُحْىِ ٱللَّهُ ٱلْمَوْتَىٰ وَيُرِيكُمْ ءَايَٰتِهِۦ لَعَلَّكُمْ تَعْقِلُونَ\t1996\tword\tيُحْىِ \tverb\t1997\tword\tٱللَّهُ \tnoun\tproper\tAlh\t1998\tword\tٱلْ\t\t\n",
      "\n",
      "9\t2\t76\t128302\taya\tوَإِذَا لَقُوا۟ ٱلَّذِينَ ءَامَنُوا۟ قَالُوٓا۟ ءَامَنَّا وَإِذَا خَلَا بَعْضُهُمْ إِلَىٰ بَعْضٍ قَالُوٓا۟ أَتُحَدِّثُونَهُم بِمَا فَتَحَ ٱللَّهُ عَلَيْكُمْ لِيُحَآجُّوكُم بِهِۦ عِندَ رَبِّكُمْ أَفَلَا تَعْقِلُونَ\t2127\tword\tفَتَحَ \tverb\t2128\tword\tٱللَّهُ \tnoun\tproper\tAlh\t2129\tword\tعَلَيْ\t\t\n",
      "\n"
     ]
    }
   ],
   "source": [
    "A.export(results)\n",
    "checkout()"
   ]
  },
  {
   "cell_type": "markdown",
   "metadata": {},
   "source": [
    "As you see, you have extra columns **gn4** and **posx4**.\n",
    "\n",
    "This gives you a lot of control over the generation of spreadsheets."
   ]
  },
  {
   "cell_type": "markdown",
   "metadata": {},
   "source": [
    "# Not from queries\n",
    "\n",
    "You can also export lists of node tuples that are not obtained by a query:"
   ]
  },
  {
   "cell_type": "code",
   "execution_count": 10,
   "metadata": {},
   "outputs": [
    {
     "data": {
      "text/plain": [
       "((131, 132), (341, 342))"
      ]
     },
     "execution_count": 10,
     "metadata": {},
     "output_type": "execute_result"
    }
   ],
   "source": [
    "tuples = (\n",
    "    tuple(results[0][1:3]),\n",
    "    tuple(results[1][1:3]),\n",
    ")\n",
    "\n",
    "tuples"
   ]
  },
  {
   "cell_type": "markdown",
   "metadata": {},
   "source": [
    "Two rows, each row has a clause node and a word node.\n",
    "\n",
    "Let's do a bare export:"
   ]
  },
  {
   "cell_type": "code",
   "execution_count": 11,
   "metadata": {},
   "outputs": [
    {
     "name": "stdout",
     "output_type": "stream",
     "text": [
      "R\tS1\tS2\tNODE1\tTYPE1\tTEXT1\tNODE2\tTYPE2\tTEXT2\tpos2\n",
      "\n",
      "1\t2\t7\t131\tword\tخَتَمَ \t132\tword\tٱللَّهُ \tnoun\n",
      "\n",
      "2\t2\t17\t341\tword\tذَهَبَ \t342\tword\tٱللَّهُ \tnoun\n",
      "\n"
     ]
    }
   ],
   "source": [
    "A.export(tuples)\n",
    "checkout()"
   ]
  },
  {
   "cell_type": "markdown",
   "metadata": {},
   "source": [
    "Wait a minute: why is the `pos2` there?\n",
    "\n",
    "It is because we have run a query before where we asked for `pos`.\n",
    "\n",
    "If we do not want to be influenced by previous things we've run, we need to reset the display:"
   ]
  },
  {
   "cell_type": "code",
   "execution_count": 12,
   "metadata": {},
   "outputs": [],
   "source": [
    "A.displayReset(\"tupleFeatures\")"
   ]
  },
  {
   "cell_type": "markdown",
   "metadata": {},
   "source": [
    "Again:"
   ]
  },
  {
   "cell_type": "code",
   "execution_count": 13,
   "metadata": {},
   "outputs": [
    {
     "name": "stdout",
     "output_type": "stream",
     "text": [
      "R\tS1\tS2\tNODE1\tTYPE1\tTEXT1\tNODE2\tTYPE2\tTEXT2\n",
      "\n",
      "1\t2\t7\t131\tword\tخَتَمَ \t132\tword\tٱللَّهُ \n",
      "\n",
      "2\t2\t17\t341\tword\tذَهَبَ \t342\tword\tٱللَّهُ \n",
      "\n"
     ]
    }
   ],
   "source": [
    "A.export(tuples)\n",
    "checkout()"
   ]
  },
  {
   "cell_type": "markdown",
   "metadata": {},
   "source": [
    "# Display setup\n",
    "\n",
    "We can get richer exports by means of\n",
    "`A.displaySetup()`, using the parameter `tupleFeatures`:"
   ]
  },
  {
   "cell_type": "code",
   "execution_count": 14,
   "metadata": {},
   "outputs": [],
   "source": [
    "A.displaySetup(\n",
    "    tupleFeatures=(\n",
    "        (0, \"pos posx\"),\n",
    "        (1, \"pos root\"),\n",
    "    )\n",
    ")"
   ]
  },
  {
   "cell_type": "markdown",
   "metadata": {},
   "source": [
    "We assign extra features per member of the tuple.\n",
    "\n",
    "In the above case:\n",
    "\n",
    "* the first (`0`) member (the first word node), gets features `pos` and `posx`;\n",
    "* the second (`1`) member (the second word node), gets features `pos` and `root`."
   ]
  },
  {
   "cell_type": "code",
   "execution_count": 15,
   "metadata": {},
   "outputs": [
    {
     "name": "stdout",
     "output_type": "stream",
     "text": [
      "R\tS1\tS2\tNODE1\tTYPE1\tTEXT1\tpos1\tposx1\tNODE2\tTYPE2\tTEXT2\tpos2\troot2\n",
      "\n",
      "1\t2\t7\t131\tword\tخَتَمَ \tverb\t\t132\tword\tٱللَّهُ \tnoun\tAlh\n",
      "\n",
      "2\t2\t17\t341\tword\tذَهَبَ \tverb\t\t342\tword\tٱللَّهُ \tnoun\tAlh\n",
      "\n"
     ]
    }
   ],
   "source": [
    "A.export(tuples)\n",
    "checkout()"
   ]
  },
  {
   "cell_type": "markdown",
   "metadata": {},
   "source": [
    "Talking about display setup: other parameters also have effect, e.g. the text format.\n",
    "\n",
    "Let's change it to the ascii transcription."
   ]
  },
  {
   "cell_type": "code",
   "execution_count": 16,
   "metadata": {},
   "outputs": [
    {
     "name": "stdout",
     "output_type": "stream",
     "text": [
      "R\tS1\tS2\tNODE1\tTYPE1\tTEXT1\tpos1\tposx1\tNODE2\tTYPE2\tTEXT2\tpos2\troot2\n",
      "\n",
      "1\t2\t7\t131\tword\txatama \tverb\t\t132\tword\t{ll~ahu \tnoun\tAlh\n",
      "\n",
      "2\t2\t17\t341\tword\t*ahaba \tverb\t\t342\tword\t{ll~ahu \tnoun\tAlh\n",
      "\n"
     ]
    }
   ],
   "source": [
    "A.export(tuples, fmt=\"text-trans-full\")\n",
    "checkout()"
   ]
  },
  {
   "cell_type": "markdown",
   "metadata": {},
   "source": [
    "# Chained queries\n",
    "\n",
    "You can chain queries like this:"
   ]
  },
  {
   "cell_type": "code",
   "execution_count": 17,
   "metadata": {},
   "outputs": [
    {
     "name": "stdout",
     "output_type": "stream",
     "text": [
      "  0.44s 24 results\n",
      "  0.41s 101 results\n"
     ]
    }
   ],
   "source": [
    "results = (\n",
    "    A.search(\n",
    "        \"\"\"\n",
    "aya\n",
    "  word pos=verb\n",
    "  <: word pos=noun posx=proper root=Alh\n",
    "  <: word pos=verb\n",
    "\"\"\"\n",
    "    )[0:2]\n",
    "    + A.search(\n",
    "        \"\"\"\n",
    "aya\n",
    "  word pos=verb\n",
    "  <: word pos=noun posx=proper root=Alh\n",
    "  <: word pos=noun\n",
    "\"\"\"\n",
    "    )[0:2]\n",
    ")"
   ]
  },
  {
   "cell_type": "markdown",
   "metadata": {},
   "source": [
    "In such cases, it is better to setup the features yourself:"
   ]
  },
  {
   "cell_type": "code",
   "execution_count": 18,
   "metadata": {},
   "outputs": [],
   "source": [
    "A.displaySetup(\n",
    "    tupleFeatures=(\n",
    "        (1, \"root formation tense\"),\n",
    "        (3, \"pos gn nu ps mood\"),\n",
    "    ),\n",
    "    fmt=\"text-orig-full\",\n",
    ")"
   ]
  },
  {
   "cell_type": "markdown",
   "metadata": {},
   "source": [
    "Now we can do a fine export:"
   ]
  },
  {
   "cell_type": "code",
   "execution_count": 19,
   "metadata": {},
   "outputs": [
    {
     "name": "stdout",
     "output_type": "stream",
     "text": [
      "R\tS1\tS2\tNODE1\tTYPE1\tTEXT1\tNODE2\tTYPE2\tTEXT2\troot2\tformation2\ttense2\tNODE3\tTYPE3\tTEXT3\tNODE4\tTYPE4\tTEXT4\tpos4\tgn4\tnu4\tps4\tmood4\n",
      "\n",
      "1\t2\t91\t128317\taya\tوَإِذَا قِيلَ لَهُمْ ءَامِنُوا۟ بِمَآ أَنزَلَ ٱللَّهُ قَالُوا۟ نُؤْمِنُ بِمَآ أُنزِلَ عَلَيْنَا وَيَكْفُرُونَ بِمَا وَرَآءَهُۥ وَهُوَ ٱلْحَقُّ مُصَدِّقًا لِّمَا مَعَهُمْ قُلْ فَلِمَ تَقْتُلُونَ أَنۢبِيَآءَ ٱللَّهِ مِن قَبْلُ إِن كُنتُم مُّؤْمِنِينَ\t2645\tword\tأَنزَلَ \tnzl\tIV\tperfect\t2646\tword\tٱللَّهُ \t2647\tword\tقَالُ\tverb\tm\tp\t3\t\n",
      "\n",
      "2\t2\t170\t128396\taya\tوَإِذَا قِيلَ لَهُمُ ٱتَّبِعُوا۟ مَآ أَنزَلَ ٱللَّهُ قَالُوا۟ بَلْ نَتَّبِعُ مَآ أَلْفَيْنَا عَلَيْهِ ءَابَآءَنَآ أَوَلَوْ كَانَ ءَابَآؤُهُمْ لَا يَعْقِلُونَ شَيْـًٔا وَلَا يَهْتَدُونَ\t5164\tword\tأَنزَلَ \tnzl\tIV\tperfect\t5165\tword\tٱللَّهُ \t5166\tword\tقَالُ\tverb\tm\tp\t3\t\n",
      "\n",
      "3\t2\t55\t128281\taya\tوَإِذْ قُلْتُمْ يَٰمُوسَىٰ لَن نُّؤْمِنَ لَكَ حَتَّىٰ نَرَى ٱللَّهَ جَهْرَةً فَأَخَذَتْكُمُ ٱلصَّٰعِقَةُ وَأَنتُمْ تَنظُرُونَ\t1393\tword\tنَرَى \trAy\t\timperfect\t1394\tword\tٱللَّهَ \t1395\tword\tجَهْرَةً \tnoun\tf\t\t\t\n",
      "\n",
      "4\t2\t80\t128306\taya\tوَقَالُوا۟ لَن تَمَسَّنَا ٱلنَّارُ إِلَّآ أَيَّامًا مَّعْدُودَةً قُلْ أَتَّخَذْتُمْ عِندَ ٱللَّهِ عَهْدًا فَلَن يُخْلِفَ ٱللَّهُ عَهْدَهُۥٓ أَمْ تَقُولُونَ عَلَى ٱللَّهِ مَا لَا تَعْلَمُونَ\t2239\tword\tيُخْلِفَ \txlf\tIV\timperfect\t2240\tword\tٱللَّهُ \t2241\tword\tعَهْدَ\tnoun\tm\t\t\t\n",
      "\n"
     ]
    }
   ],
   "source": [
    "A.export(results)\n",
    "checkout()"
   ]
  },
  {
   "cell_type": "markdown",
   "metadata": {},
   "source": [
    "---\n",
    "\n",
    "All chapters:\n",
    "\n",
    "* **[start](start.ipynb)** introduction to computing with your corpus\n",
    "* **[display](display.ipynb)** become an expert in creating pretty displays of your text structures\n",
    "* **[search](search.ipynb)** turbo charge your hand-coding with search templates\n",
    "* **exportExcel** make tailor-made spreadsheets out of your results\n",
    "* **[share](share.ipynb)** draw in other people's data and let them use yours\n",
    "* **[similarAyas](similarAyas.ipynb)** spot the similarities between lines\n",
    "* **[rings](rings.ipynb)** ring structures in sura 2\n",
    "\n",
    "CC-BY Dirk Roorda"
   ]
  }
 ],
 "metadata": {
  "kernelspec": {
   "display_name": "Python 3",
   "language": "python",
   "name": "python3"
  },
  "language_info": {
   "codemirror_mode": {
    "name": "ipython",
    "version": 3
   },
   "file_extension": ".py",
   "mimetype": "text/x-python",
   "name": "python",
   "nbconvert_exporter": "python",
   "pygments_lexer": "ipython3",
   "version": "3.7.7"
  }
 },
 "nbformat": 4,
 "nbformat_minor": 4
}
