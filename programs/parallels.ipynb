{
 "cells": [
  {
   "cell_type": "code",
   "execution_count": 1,
   "metadata": {},
   "outputs": [],
   "source": [
    "%load_ext autoreload\n",
    "%autoreload 2"
   ]
  },
  {
   "cell_type": "code",
   "execution_count": 2,
   "metadata": {},
   "outputs": [],
   "source": [
    "import os\n",
    "import collections\n",
    "import pickle\n",
    "import gzip\n",
    "\n",
    "from tf.app import use\n"
   ]
  },
  {
   "cell_type": "code",
   "execution_count": 3,
   "metadata": {},
   "outputs": [
    {
     "name": "stdout",
     "output_type": "stream",
     "text": [
      "Using TF-app in /Users/dirk/github/annotation/app-quran/code:\n",
      "\trepo clone offline under ~/github (local github)\n",
      "Using data in /Users/dirk/github/q-ran/quran/tf/0.4:\n",
      "\trepo clone offline under ~/github (local github)\n"
     ]
    },
    {
     "data": {
      "text/html": [
       "<b>Documentation:</b> <a target=\"_blank\" href=\"https://github.com/q-ran/quran/blob/master/docs/features.md\" title=\"provenance of Quran\">QURAN</a> <a target=\"_blank\" href=\"https://annotation.github.io/text-fabric/writing//arabic.html\" title=\"How TF features represent text\">Character table</a> <a target=\"_blank\" href=\"https://github.com/q-ran/quran/blob/master/docs/features.md\" title=\"QURAN feature documentation\">Feature docs</a> <a target=\"_blank\" href=\"https://github.com/annotation/app-quran\" title=\"quran API documentation\">quran API</a> <a target=\"_blank\" href=\"https://annotation.github.io/text-fabric/Api/Fabric/\" title=\"text-fabric-api\">Text-Fabric API 8.0.0</a> <a target=\"_blank\" href=\"https://annotation.github.io/text-fabric/Use/Search/\" title=\"Search Templates Introduction and Reference\">Search Reference</a><details open><summary><b>Loaded features</b>:</summary>\n",
       "<p><b>Quran</b>: <a target=\"_blank\" href=\"https://github.com/q-ran/quran/blob/master/docs/features.md\" title=\"/Users/dirk/github/q-ran/quran/tf/0.4/a.tf\">a</a>  <a target=\"_blank\" href=\"https://github.com/q-ran/quran/blob/master/docs/features.md\" title=\"/Users/dirk/github/q-ran/quran/tf/0.4/ascii.tf\">ascii</a>  <a target=\"_blank\" href=\"https://github.com/q-ran/quran/blob/master/docs/features.md\" title=\"/Users/dirk/github/q-ran/quran/tf/0.4/ax.tf\">ax</a>  <a target=\"_blank\" href=\"https://github.com/q-ran/quran/blob/master/docs/features.md\" title=\"/Users/dirk/github/q-ran/quran/tf/0.4/case.tf\">case</a>  <a target=\"_blank\" href=\"https://github.com/q-ran/quran/blob/master/docs/features.md\" title=\"/Users/dirk/github/q-ran/quran/tf/0.4/component.tf\">component</a>  <a target=\"_blank\" href=\"https://github.com/q-ran/quran/blob/master/docs/features.md\" title=\"/Users/dirk/github/q-ran/quran/tf/0.4/definite.tf\">definite</a>  <a target=\"_blank\" href=\"https://github.com/q-ran/quran/blob/master/docs/features.md\" title=\"/Users/dirk/github/q-ran/quran/tf/0.4/f.tf\">f</a>  <a target=\"_blank\" href=\"https://github.com/q-ran/quran/blob/master/docs/features.md\" title=\"/Users/dirk/github/q-ran/quran/tf/0.4/formation.tf\">formation</a>  <a target=\"_blank\" href=\"https://github.com/q-ran/quran/blob/master/docs/features.md\" title=\"/Users/dirk/github/q-ran/quran/tf/0.4/fx.tf\">fx</a>  <a target=\"_blank\" href=\"https://github.com/q-ran/quran/blob/master/docs/features.md\" title=\"/Users/dirk/github/q-ran/quran/tf/0.4/gn.tf\">gn</a>  <a target=\"_blank\" href=\"https://github.com/q-ran/quran/blob/master/docs/features.md\" title=\"/Users/dirk/github/q-ran/quran/tf/0.4/interjection.tf\">interjection</a>  <a target=\"_blank\" href=\"https://github.com/q-ran/quran/blob/master/docs/features.md\" title=\"/Users/dirk/github/q-ran/quran/tf/0.4/l.tf\">l</a>  <a target=\"_blank\" href=\"https://github.com/q-ran/quran/blob/master/docs/features.md\" title=\"/Users/dirk/github/q-ran/quran/tf/0.4/lemma.tf\">lemma</a>  <a target=\"_blank\" href=\"https://github.com/q-ran/quran/blob/master/docs/features.md\" title=\"/Users/dirk/github/q-ran/quran/tf/0.4/lx.tf\">lx</a>  <a target=\"_blank\" href=\"https://github.com/q-ran/quran/blob/master/docs/features.md\" title=\"/Users/dirk/github/q-ran/quran/tf/0.4/mood.tf\">mood</a>  <a target=\"_blank\" href=\"https://github.com/q-ran/quran/blob/master/docs/features.md\" title=\"/Users/dirk/github/q-ran/quran/tf/0.4/n.tf\">n</a>  <a target=\"_blank\" href=\"https://github.com/q-ran/quran/blob/master/docs/features.md\" title=\"/Users/dirk/github/q-ran/quran/tf/0.4/name.tf\">name</a>  <a target=\"_blank\" href=\"https://github.com/q-ran/quran/blob/master/docs/features.md\" title=\"/Users/dirk/github/q-ran/quran/tf/0.4/name@en.tf\">name@ll</a>  <a target=\"_blank\" href=\"https://github.com/q-ran/quran/blob/master/docs/features.md\" title=\"/Users/dirk/github/q-ran/quran/tf/0.4/nameAscii.tf\">nameAscii</a>  <a target=\"_blank\" href=\"https://github.com/q-ran/quran/blob/master/docs/features.md\" title=\"/Users/dirk/github/q-ran/quran/tf/0.4/nameTrans.tf\">nameTrans</a>  <a target=\"_blank\" href=\"https://github.com/q-ran/quran/blob/master/docs/features.md\" title=\"/Users/dirk/github/q-ran/quran/tf/0.4/nu.tf\">nu</a>  <a target=\"_blank\" href=\"https://github.com/q-ran/quran/blob/master/docs/features.md\" title=\"/Users/dirk/github/q-ran/quran/tf/0.4/number.tf\">number</a>  <a target=\"_blank\" href=\"https://github.com/q-ran/quran/blob/master/docs/features.md\" title=\"/Users/dirk/github/q-ran/quran/tf/0.4/order.tf\">order</a>  <a target=\"_blank\" href=\"https://github.com/q-ran/quran/blob/master/docs/features.md\" title=\"/Users/dirk/github/q-ran/quran/tf/0.4/otype.tf\">otype</a>  <a target=\"_blank\" href=\"https://github.com/q-ran/quran/blob/master/docs/features.md\" title=\"/Users/dirk/github/q-ran/quran/tf/0.4/pos.tf\">pos</a>  <a target=\"_blank\" href=\"https://github.com/q-ran/quran/blob/master/docs/features.md\" title=\"/Users/dirk/github/q-ran/quran/tf/0.4/posx.tf\">posx</a>  <a target=\"_blank\" href=\"https://github.com/q-ran/quran/blob/master/docs/features.md\" title=\"/Users/dirk/github/q-ran/quran/tf/0.4/ps.tf\">ps</a>  <a target=\"_blank\" href=\"https://github.com/q-ran/quran/blob/master/docs/features.md\" title=\"/Users/dirk/github/q-ran/quran/tf/0.4/root.tf\">root</a>  <a target=\"_blank\" href=\"https://github.com/q-ran/quran/blob/master/docs/features.md\" title=\"/Users/dirk/github/q-ran/quran/tf/0.4/sp.tf\">sp</a>  <a target=\"_blank\" href=\"https://github.com/q-ran/quran/blob/master/docs/features.md\" title=\"/Users/dirk/github/q-ran/quran/tf/0.4/space.tf\">space</a>  <a target=\"_blank\" href=\"https://github.com/q-ran/quran/blob/master/docs/features.md\" title=\"/Users/dirk/github/q-ran/quran/tf/0.4/tense.tf\">tense</a>  <a target=\"_blank\" href=\"https://github.com/q-ran/quran/blob/master/docs/features.md\" title=\"/Users/dirk/github/q-ran/quran/tf/0.4/translation@en.tf\">translation@ll</a>  <a target=\"_blank\" href=\"https://github.com/q-ran/quran/blob/master/docs/features.md\" title=\"/Users/dirk/github/q-ran/quran/tf/0.4/type.tf\">type</a>  <a target=\"_blank\" href=\"https://github.com/q-ran/quran/blob/master/docs/features.md\" title=\"/Users/dirk/github/q-ran/quran/tf/0.4/unicode.tf\">unicode</a>  <a target=\"_blank\" href=\"https://github.com/q-ran/quran/blob/master/docs/features.md\" title=\"/Users/dirk/github/q-ran/quran/tf/0.4/voice.tf\">voice</a>  <a target=\"_blank\" href=\"https://github.com/q-ran/quran/blob/master/docs/features.md\" title=\"/Users/dirk/github/q-ran/quran/tf/0.4/w.tf\">w</a>  <a target=\"_blank\" href=\"https://github.com/q-ran/quran/blob/master/docs/features.md\" title=\"/Users/dirk/github/q-ran/quran/tf/0.4/wx.tf\">wx</a>  <b><i><a target=\"_blank\" href=\"https://github.com/q-ran/quran/blob/master/docs/features.md\" title=\"/Users/dirk/github/q-ran/quran/tf/0.4/oslots.tf\">oslots</a></i></b> </p></details>"
      ],
      "text/plain": [
       "<IPython.core.display.HTML object>"
      ]
     },
     "metadata": {},
     "output_type": "display_data"
    },
    {
     "data": {
      "text/html": [
       "<style>tr.tf, td.tf, th.tf { text-align: left ! important;}@font-face {\n",
       "  font-family: \"Ezra SIL\";\n",
       "  src: local('Ezra SIL'), local('EzraSIL'),\n",
       "    url('/server/static/fonts/SILEOT.woff') format('woff'),\n",
       "    url('https://github.com/annotation/text-fabric/blob/master/tf/server/static/fonts/SILEOT.woff?raw=true') format('woff');\n",
       "}\n",
       "\n",
       "@font-face {\n",
       "  font-family: \"SBL Hebrew\";\n",
       "  src: local('SBL Hebrew'), local('SBLHebrew'),\n",
       "    url('/server/static/fonts/SBL_Hbrw.woff') format('woff'),\n",
       "    url('https://github.com/annotation/text-fabric/blob/master/tf/server/static/fonts/SBL_Hbrw.woff?raw=true') format('woff');\n",
       "}\n",
       "\n",
       "@font-face {\n",
       "  font-family: \"Estrangelo Edessa\";\n",
       "  src: local('Estrangelo Edessa'), local('EstrangeloEdessa');\n",
       "    url('/server/static/fonts/SyrCOMEdessa.woff') format('woff'),\n",
       "    url('https://github.com/annotation/text-fabric/blob/master/tf/server/static/fonts/SyrCOMEdessa.woff?raw=true') format('woff');\n",
       "}\n",
       "\n",
       "@font-face {\n",
       "  font-family: AmiriQuran;\n",
       "  font-style: normal;\n",
       "  font-weight: 400;\n",
       "  src: local('Amiri Quran'), local('AmiriQuran'),\n",
       "    url('/server/static/fonts/AmiriQuran.woff') format('woff'),\n",
       "    url('https://github.com/annotation/text-fabric/blob/master/tf/server/static/fonts/AmiriQuran.woff?raw=true') format('woff');\n",
       "}\n",
       "\n",
       "@font-face {\n",
       "  font-family: AmiriQuranColored;\n",
       "  font-style: normal;\n",
       "  font-weight: 400;\n",
       "  src: local('Amiri Quran Colored'), local('AmiriQuranColored'),\n",
       "    url('/server/static/fonts/AmiriQuranColored.woff') format('woff'),\n",
       "    url('https://github.com/annotation/text-fabric/blob/master/tf/server/static/fonts/AmiriQuranColored.woff?raw=true') format('woff');\n",
       "}\n",
       "\n",
       "@font-face {\n",
       "  font-family: \"Santakku\";\n",
       "  src: local('Santakku'),\n",
       "    url('/server/static/fonts/Santakku.woff') format('woff'),\n",
       "    url('https://github.com/annotation/text-fabric/blob/master/tf/server/static/fonts/Santakku.woff?raw=true') format('woff');\n",
       "}\n",
       "\n",
       "@font-face {\n",
       "  font-family: \"SantakkuM\";\n",
       "  src: local('SantakkuM'),\n",
       "    url('/server/static/fonts/SantakkuM.woff') format('woff'),\n",
       "    url('https://github.com/annotation/text-fabric/blob/master/tf/server/static/fonts/SantakkuM.woff?raw=true') format('woff');\n",
       "}\n",
       "/* neutral text */\n",
       ".txtn,.txtn a:visited,.txtn a:link {\n",
       "    font-family: sans-serif;\n",
       "    font-size: medium;\n",
       "    direction: ltr;\n",
       "    text-decoration: none;\n",
       "    color: var(--text-color);\n",
       "}\n",
       "/* transcription text */\n",
       ".txtt,.txtt a:visited,.txtt a:link {\n",
       "    font-family: monospace;\n",
       "    font-size: medium;\n",
       "    direction: ltr;\n",
       "    text-decoration: none;\n",
       "    color: var(--text-color);\n",
       "}\n",
       "/* source text */\n",
       ".txto,.txto a:visited,.txto a:link {\n",
       "    font-family: serif;\n",
       "    font-size: medium;\n",
       "    direction: ltr;\n",
       "    text-decoration: none;\n",
       "    color: var(--text-color);\n",
       "}\n",
       "/* phonetic text */\n",
       ".txtp,.txtp a:visited,.txtp a:link {\n",
       "    font-family: Gentium, sans-serif;\n",
       "    font-size: large;\n",
       "    direction: ltr;\n",
       "    text-decoration: none;\n",
       "    color: var(--text-color);\n",
       "}\n",
       "/* original script text */\n",
       ".txtu,.txtu a:visited,.txtu a:link {\n",
       "    font-family: Gentium, sans-serif;\n",
       "    font-size: large;\n",
       "    text-decoration: none;\n",
       "    color: var(--text-color);\n",
       "}\n",
       "/* hebrew */\n",
       ".txtu.hbo,.lex.hbo {\n",
       "    font-family: \"Ezra SIL\", \"SBL Hebrew\", sans-serif;\n",
       "    font-size: x-large;\n",
       "    direction: rtl ! important;\n",
       "    unicode-bidi: embed;\n",
       "}\n",
       "/* syriac */\n",
       ".txtu.syc,.lex.syc {\n",
       "    font-family: \"Estrangelo Edessa\", sans-serif;\n",
       "    font-size: large;\n",
       "    direction: rtl ! important;\n",
       "    unicode-bidi: embed;\n",
       "}\n",
       "/* neo aramaic */\n",
       ".txtu.cld,.lex.cld {\n",
       "    font-family: \"CharisSIL-R\", sans-serif;\n",
       "    font-size: medium;\n",
       "    direction: ltr ! important;\n",
       "    unicode-bidi: embed;\n",
       "}\n",
       "/* standard arabic */\n",
       ".txtu.ara,.lex.ara {\n",
       "    font-family: \"AmiriQuran\", sans-serif;\n",
       "    font-size: large;\n",
       "    direction: rtl ! important;\n",
       "    unicode-bidi: embed;\n",
       "}\n",
       "/* cuneiform */\n",
       ".txtu.akk,.lex.akk {\n",
       "    font-family: Santakku, sans-serif;\n",
       "    font-size: x-large;\n",
       "    direction: ltr ! important;\n",
       "    unicode-bidi: embed;\n",
       "}\n",
       "/* greek */\n",
       ".txtu.grc,.lex.grc a:link {\n",
       "    font-family: Gentium, sans-serif;\n",
       "    font-size: medium;\n",
       "    direction: ltr ! important;\n",
       "    unicode-bidi: embed;\n",
       "}\n",
       "a:hover {\n",
       "    text-decoration: underline | important;\n",
       "    color: #0000ff | important;\n",
       "}\n",
       ".ltr {\n",
       "    direction: ltr ! important;\n",
       "}\n",
       ".rtl {\n",
       "    direction: rtl ! important;\n",
       "}\n",
       "span.plain {\n",
       "    display: inline-block;\n",
       "    white-space: pre-wrap;\n",
       "    text-align: start;\n",
       "}\n",
       ".features {\n",
       "    font-family: monospace;\n",
       "    font-size: medium;\n",
       "    font-weight: bold;\n",
       "    color: var(--features);\n",
       "    display: flex;\n",
       "    flex-flow: column nowrap;\n",
       "    justify-content: flex-start;\n",
       "    align-items: flex-start;\n",
       "    align-content: flex-start;\n",
       "    padding: 0.1rem;\n",
       "    margin: 0.1rem;\n",
       "    direction: ltr;\n",
       "    border: var(--meta-width) solid var(--meta-color);\n",
       "    border-radius: var(--meta-width);\n",
       "}\n",
       ".features div,.features span {\n",
       "    padding: 0;\n",
       "    margin: -0.1rem 0;\n",
       "}\n",
       ".features .f {\n",
       "    font-family: sans-serif;\n",
       "    font-size: small;\n",
       "    font-weight: normal;\n",
       "    color: #5555bb;\n",
       "}\n",
       ".features .xft {\n",
       "  color: #000000;\n",
       "  background-color: #eeeeee;\n",
       "  font-size: medium;\n",
       "  margin: 0.1rem 0rem;\n",
       "}\n",
       ".features .xft .f {\n",
       "  color: #000000;\n",
       "  background-color: #eeeeee;\n",
       "  font-size: small;\n",
       "  font-weight: normal;\n",
       "}\n",
       ".section {\n",
       "    font-family: sans-serif;\n",
       "    font-size: small;\n",
       "    font-weight: bold;\n",
       "    color: var(--section);\n",
       "}\n",
       ".structure {\n",
       "    font-family: sans-serif;\n",
       "    font-size: small;\n",
       "    font-weight: bold;\n",
       "    color: var(--structure);\n",
       "}\n",
       ".comments {\n",
       "    display: flex;\n",
       "    justify-content: flex-start;\n",
       "    align-items: flex-start;\n",
       "    align-content: flex-start;\n",
       "    flex-flow: column nowrap;\n",
       "}\n",
       ".nd {\n",
       "    font-family: sans-serif;\n",
       "    font-size: small;\n",
       "    color: var(--node);\n",
       "    vertical-align: super;\n",
       "}\n",
       ".lex {\n",
       "  color: var(--lex-color);;\n",
       "}\n",
       ".children,.children.ltr {\n",
       "    display: flex;\n",
       "    border: 0;\n",
       "    background-color: #ffffff;\n",
       "    justify-content: flex-start;\n",
       "    align-items: flex-start;\n",
       "    align-content: flex-start;\n",
       "}\n",
       ".children.stretch {\n",
       "    align-items: stretch;\n",
       "}\n",
       ".children.row {\n",
       "    flex-flow: row nowrap;\n",
       "}\n",
       ".children.row.wrap {\n",
       "    flex-flow: row wrap;\n",
       "}\n",
       ".children.col {\n",
       "    flex-flow: column nowrap;\n",
       "}\n",
       ".children.col.wrap {\n",
       "    flex-flow: column wrap;\n",
       "}\n",
       ".contnr {\n",
       "    width: fit-content;\n",
       "    display: flex;\n",
       "    justify-content: flex-start;\n",
       "    align-items: flex-start;\n",
       "    align-content: flex-start;\n",
       "    flex-flow: column nowrap;\n",
       "    background: #ffffff none repeat scroll 0 0;\n",
       "    padding:  0.5rem 0.1rem 0.1rem 0.1rem;\n",
       "    margin: 0.8rem 0.1rem 0.1rem 0.1rem;\n",
       "    border-style: solid;\n",
       "    font-size: small;\n",
       "}\n",
       ".contnr.trm {\n",
       "    background-attachment: local;\n",
       "}\n",
       ".contnr.cnul {\n",
       "    padding:  0;\n",
       "    margin: 0;\n",
       "    border-style: solid;\n",
       "    font-size: xx-small;\n",
       "}\n",
       ".contnr.cnul,.lbl.cnul {\n",
       "    border-color: var(--border-color-nul);\n",
       "    border-width: var(--border-width-nul);\n",
       "    border-radius: var(--border-width-nul);\n",
       "}\n",
       ".contnr.c0,.lbl.c0 {\n",
       "    border-color: var(--border-color0);\n",
       "    border-width: var(--border-width0);\n",
       "    border-radius: var(--border-width0);\n",
       "}\n",
       ".contnr.c1,.lbl.c1 {\n",
       "    border-color: var(--border-color1);\n",
       "    border-width: var(--border-width1);\n",
       "    border-radius: var(--border-width1);\n",
       "}\n",
       ".contnr.c2,.lbl.c2 {\n",
       "    border-color: var(--border-color2);\n",
       "    border-width: var(--border-width2);\n",
       "    border-radius: var(--border-width2);\n",
       "}\n",
       ".contnr.c3,.lbl.c3 {\n",
       "    border-color: var(--border-color3);\n",
       "    border-width: var(--border-width3);\n",
       "    border-radius: var(--border-width3);\n",
       "}\n",
       ".contnr.c4,.lbl.c4 {\n",
       "    border-color: var(--border-color4);\n",
       "    border-width: var(--border-width4);\n",
       "    border-radius: var(--border-width4);\n",
       "}\n",
       ".contnr.l {\n",
       "    border-left-style: dotted\n",
       "}\n",
       ".contnr.r {\n",
       "    border-right-style: dotted\n",
       "}\n",
       ".contnr.lno {\n",
       "    border-left-style: none\n",
       "}\n",
       ".contnr.rno {\n",
       "    border-right-style: none\n",
       "}\n",
       ".lbl {\n",
       "    font-family: monospace;\n",
       "    margin-top: -1.2rem;\n",
       "    margin-left: 1rem;\n",
       "    background: #ffffff none repeat scroll 0 0;\n",
       "    padding: 0 0.3rem;\n",
       "    border-style: solid;\n",
       "    display: block;\n",
       "    color: var(--label)\n",
       "}\n",
       ".lbl.trm {\n",
       "    background-attachment: local;\n",
       "    margin-top: 0.1rem;\n",
       "    margin-left: 0.1rem;\n",
       "    padding: 0.1rem 0.1rem;\n",
       "    border-style: none;\n",
       "}\n",
       ".lbl.cnul {\n",
       "    font-size: xx-small;\n",
       "}\n",
       ".lbl.c0 {\n",
       "    font-size: small;\n",
       "}\n",
       ".lbl.c1 {\n",
       "    font-size: small;\n",
       "}\n",
       ".lbl.c2 {\n",
       "    font-size: medium;\n",
       "}\n",
       ".lbl.c3 {\n",
       "    font-size: medium;\n",
       "}\n",
       ".lbl.c4 {\n",
       "    font-size: large;\n",
       "}\n",
       ".occs {\n",
       "    font-size: small;\n",
       "}\n",
       "\n",
       ":root {\n",
       "\t--node:             hsla(120, 100%,  20%, 1.0  );\n",
       "\t--label:            hsla(  0, 100%,  20%, 1.0  );\n",
       "\t--section:          hsla(  0, 100%,  25%, 1.0  );\n",
       "\t--structure:        hsla(120, 100%,  25%, 1.0  );\n",
       "\t--features:         hsla(  0,   0%,  30%, 1.0  );\n",
       "  --text-color:       hsla( 60,  80%,  10%, 1.0  );\n",
       "  --lex-color:        hsla(220,  90%,  60%, 1.0  );\n",
       "  --meta-color:       hsla(  0,   0%,  90%, 0.7  );\n",
       "  --meta-width:       0.15rem;\n",
       "  --border-color-nul: hsla(  0,   0%,  90%, 0.5  );\n",
       "  --border-color0:    hsla(  0,   0%,  90%, 0.9  );\n",
       "  --border-color1:    hsla(  0,   0%,  80%, 0.9  );\n",
       "  --border-color2:    hsla(  0,   0%,  70%, 0.9  );\n",
       "  --border-color3:    hsla(  0,   0%,  80%, 0.8  );\n",
       "  --border-color4:    hsla(  0,   0%,  60%, 0.9  );\n",
       "  --border-width-nul: 0.1rem;\n",
       "  --border-width0:    0.1rem;\n",
       "  --border-width1:    0.15rem;\n",
       "  --border-width2:    0.2rem;\n",
       "  --border-width3:    0.3rem;\n",
       "  --border-width4:    0.25rem;\n",
       "}\n",
       ".hl {\n",
       "  background-color: var(--hl-strong);\n",
       "}\n",
       "span.hl {\n",
       "\tbackground-color: var(--hl-strong);\n",
       "\tborder-width: 0;\n",
       "\tborder-radius: 0.1rem;\n",
       "\tborder-style: solid;\n",
       "}\n",
       "div.contnr.hl,div.lbl.hl {\n",
       "  background-color: var(--hl-strong);\n",
       "}\n",
       "div.contnr.hl {\n",
       "  border-color: var(--hl-rim) ! important;\n",
       "\tborder-width: 0.2rem ! important;\n",
       "}\n",
       "\n",
       "span.hlbx {\n",
       "\tborder-color: var(--hl-rim);\n",
       "\tborder-width: 0.2rem;\n",
       "\tborder-style: solid;\n",
       "\tborder-radius: 0.3rem;\n",
       "  padding: 0.2rem;\n",
       "  margin: 0.2rem;\n",
       "}\n",
       "\n",
       "span.plain {\n",
       "  display: inline-block;\n",
       "  white-space: pre-wrap;\n",
       "}\n",
       "\n",
       ":root {\n",
       "\t--hl-strong:        hsla( 60, 100%,  70%, 0.9  );\n",
       "\t--hl-rim:           hsla( 55,  80%,  50%, 1.0  );\n",
       "}\n",
       "</style>"
      ],
      "text/plain": [
       "<IPython.core.display.HTML object>"
      ]
     },
     "metadata": {},
     "output_type": "display_data"
    },
    {
     "data": {
      "text/html": [
       "<details open><summary><b>API members</b>:</summary>\n",
       "<a target=\"_blank\" href=\"https://annotation.github.io/text-fabric/Api/Computed/#computed-data\" title=\"doc\">C Computed</a>, <a target=\"_blank\" href=\"https://annotation.github.io/text-fabric/Api/Computed/#computed-data\" title=\"doc\">Call AllComputeds</a>, <a target=\"_blank\" href=\"https://annotation.github.io/text-fabric/Api/Computed/#computed-data\" title=\"doc\">Cs ComputedString</a><br/>\n",
       "<a target=\"_blank\" href=\"https://annotation.github.io/text-fabric/Api/Features/#edge-features\" title=\"doc\">E Edge</a>, <a target=\"_blank\" href=\"https://annotation.github.io/text-fabric/Api/Features/#edge-features\" title=\"doc\">Eall AllEdges</a>, <a target=\"_blank\" href=\"https://annotation.github.io/text-fabric/Api/Features/#edge-features\" title=\"doc\">Es EdgeString</a><br/>\n",
       "<a target=\"_blank\" href=\"https://annotation.github.io/text-fabric/Api/Fabric/#loading\" title=\"doc\">ensureLoaded</a>, <a target=\"_blank\" href=\"https://annotation.github.io/text-fabric/Api/Fabric/#loading\" title=\"doc\">TF</a>, <a target=\"_blank\" href=\"https://annotation.github.io/text-fabric/Api/Fabric/#loading\" title=\"doc\">ignored</a>, <a target=\"_blank\" href=\"https://annotation.github.io/text-fabric/Api/Fabric/#loading\" title=\"doc\">loadLog</a><br/>\n",
       "<a target=\"_blank\" href=\"https://annotation.github.io/text-fabric/Api/Locality/#locality\" title=\"doc\">L Locality</a><br/>\n",
       "<a target=\"_blank\" href=\"https://annotation.github.io/text-fabric/Api/Misc/#messaging\" title=\"doc\">cache</a>, <a target=\"_blank\" href=\"https://annotation.github.io/text-fabric/Api/Misc/#messaging\" title=\"doc\">error</a>, <a target=\"_blank\" href=\"https://annotation.github.io/text-fabric/Api/Misc/#messaging\" title=\"doc\">indent</a>, <a target=\"_blank\" href=\"https://annotation.github.io/text-fabric/Api/Misc/#messaging\" title=\"doc\">info</a>, <a target=\"_blank\" href=\"https://annotation.github.io/text-fabric/Api/Misc/#messaging\" title=\"doc\">isSilent</a>, <a target=\"_blank\" href=\"https://annotation.github.io/text-fabric/Api/Misc/#messaging\" title=\"doc\">reset</a>, <a target=\"_blank\" href=\"https://annotation.github.io/text-fabric/Api/Misc/#messaging\" title=\"doc\">setSilent</a>, <a target=\"_blank\" href=\"https://annotation.github.io/text-fabric/Api/Misc/#messaging\" title=\"doc\">silentOff</a>, <a target=\"_blank\" href=\"https://annotation.github.io/text-fabric/Api/Misc/#messaging\" title=\"doc\">silentOn</a>, <a target=\"_blank\" href=\"https://annotation.github.io/text-fabric/Api/Misc/#messaging\" title=\"doc\">warning</a><br/>\n",
       "<a target=\"_blank\" href=\"https://annotation.github.io/text-fabric/Api/Nodes/#navigating-nodes\" title=\"doc\">N Nodes</a>, <a target=\"_blank\" href=\"https://annotation.github.io/text-fabric/Api/Nodes/#navigating-nodes\" title=\"doc\">sortKey</a>, <a target=\"_blank\" href=\"https://annotation.github.io/text-fabric/Api/Nodes/#navigating-nodes\" title=\"doc\">sortKeyTuple</a>, <a target=\"_blank\" href=\"https://annotation.github.io/text-fabric/Api/Nodes/#navigating-nodes\" title=\"doc\">otypeRank</a>, <a target=\"_blank\" href=\"https://annotation.github.io/text-fabric/Api/Nodes/#navigating-nodes\" title=\"doc\">sortNodes</a><br/>\n",
       "<a target=\"_blank\" href=\"https://annotation.github.io/text-fabric/Api/Features/#node-features\" title=\"doc\">F Feature</a>, <a target=\"_blank\" href=\"https://annotation.github.io/text-fabric/Api/Features/#node-features\" title=\"doc\">Fall AllFeatures</a>, <a target=\"_blank\" href=\"https://annotation.github.io/text-fabric/Api/Features/#node-features\" title=\"doc\">Fs FeatureString</a><br/>\n",
       "<a target=\"_blank\" href=\"https://annotation.github.io/text-fabric/Api/Search/#search\" title=\"doc\">S Search</a><br/>\n",
       "<a target=\"_blank\" href=\"https://annotation.github.io/text-fabric/Api/Text/#text\" title=\"doc\">T Text</a></details>"
      ],
      "text/plain": [
       "<IPython.core.display.HTML object>"
      ]
     },
     "metadata": {},
     "output_type": "display_data"
    }
   ],
   "source": [
    "A = use(\"q-ran/quran:clone\", checkout=\"clone\", hoist=globals())"
   ]
  },
  {
   "cell_type": "markdown",
   "metadata": {},
   "source": [
    "# Parallels\n",
    "\n",
    "We make edges between similar ayas.\n",
    "\n",
    "When are ayas similar?\n",
    "\n",
    "If a certain distance metric is above a certain threshold.\n",
    "\n",
    "We choose this metric:\n",
    "\n",
    "* we reduce a line to the set of lemmas in it.\n",
    "* the similarity between two lines is the length of the intersection divided by the length of the union of their sets times 100."
   ]
  },
  {
   "cell_type": "markdown",
   "metadata": {},
   "source": [
    "# Preparation\n",
    "\n",
    "We pre-compute all sets for all ayas."
   ]
  },
  {
   "cell_type": "code",
   "execution_count": 4,
   "metadata": {},
   "outputs": [],
   "source": [
    "A.silentOff()"
   ]
  },
  {
   "cell_type": "code",
   "execution_count": 5,
   "metadata": {},
   "outputs": [],
   "source": [
    "def makeSet(ln):\n",
    "    lineSet = set()\n",
    "    for s in L.d(ln, otype=\"word\"):\n",
    "        r = F.lemma.v(s)\n",
    "        if r:\n",
    "            lineSet.add(r)\n",
    "    return lineSet"
   ]
  },
  {
   "cell_type": "code",
   "execution_count": 6,
   "metadata": {
    "lines_to_end_of_cell_marker": 2
   },
   "outputs": [
    {
     "name": "stdout",
     "output_type": "stream",
     "text": [
      "6216 ayas\n"
     ]
    }
   ],
   "source": [
    "lines = {}\n",
    "\n",
    "for ln in F.otype.s(\"aya\"):\n",
    "    lineSet = makeSet(ln)\n",
    "    if lineSet:\n",
    "        lines[ln] = lineSet\n",
    "\n",
    "nLines = len(lines)\n",
    "print(f\"{nLines} ayas\")"
   ]
  },
  {
   "cell_type": "markdown",
   "metadata": {
    "lines_to_next_cell": 2
   },
   "source": [
    "# Measure"
   ]
  },
  {
   "cell_type": "code",
   "execution_count": 7,
   "metadata": {},
   "outputs": [],
   "source": [
    "def sim(lSet, mSet):\n",
    "    return int(round(100 * len(lSet & mSet) / len(lSet | mSet)))"
   ]
  },
  {
   "cell_type": "markdown",
   "metadata": {},
   "source": [
    "# Compute all similarities\n",
    "\n",
    "We are going to perform several tens of millions of comparisons, each of which is more than an elementary operation.\n",
    "\n",
    "Let's measure time."
   ]
  },
  {
   "cell_type": "code",
   "execution_count": 8,
   "metadata": {},
   "outputs": [],
   "source": [
    "THRESHOLD = 60\n",
    "\n",
    "\n",
    "def computeSim(limit=None):\n",
    "    similarity = {}\n",
    "\n",
    "    lineNodes = sorted(lines.keys())\n",
    "    nLines = len(lineNodes)\n",
    "\n",
    "    nComparisons = nLines * (nLines - 1) // 2\n",
    "\n",
    "    print(f\"{nComparisons} comparisons to make\")\n",
    "    chunkSize = nComparisons // 100\n",
    "\n",
    "    co = 0\n",
    "    b = 0\n",
    "    si = 0\n",
    "    p = 0\n",
    "\n",
    "    A.indent(reset=True)\n",
    "\n",
    "    stop = False\n",
    "    for i in range(nLines):\n",
    "        nodeI = lineNodes[i]\n",
    "        lineI = lines[nodeI]\n",
    "        for j in range(i + 1, nLines):\n",
    "            nodeJ = lineNodes[j]\n",
    "            lineJ = lines[nodeJ]\n",
    "            s = sim(lineI, lineJ)\n",
    "            co += 1\n",
    "            b += 1\n",
    "            if b == chunkSize:\n",
    "                p += 1\n",
    "                A.info(f\"{p:>3}% - {co:>12} comparisons and {si:>10} similarities\")\n",
    "                b = 0\n",
    "                if limit is not None and p >= limit:\n",
    "                    stop = True\n",
    "                    break\n",
    "\n",
    "            if s < THRESHOLD:\n",
    "                continue\n",
    "            similarity[(nodeI, nodeJ)] = sim(lineI, lineJ)\n",
    "            si += 1\n",
    "        if stop:\n",
    "            break\n",
    "\n",
    "    A.info(f\"{p:>3}% - {co:>12} comparisons and {si:>10} similarities\")\n",
    "    return similarity"
   ]
  },
  {
   "cell_type": "markdown",
   "metadata": {},
   "source": [
    "We are going to run it to several % first and do some checks then."
   ]
  },
  {
   "cell_type": "code",
   "execution_count": 9,
   "metadata": {},
   "outputs": [
    {
     "name": "stdout",
     "output_type": "stream",
     "text": [
      "19316220 comparisons to make\n",
      "  0.33s   1% -       193162 comparisons and          7 similarities\n",
      "  0.67s   2% -       386324 comparisons and         19 similarities\n",
      "  0.99s   3% -       579486 comparisons and         26 similarities\n",
      "  1.33s   4% -       772648 comparisons and         29 similarities\n",
      "  1.33s   4% -       772648 comparisons and         29 similarities\n"
     ]
    }
   ],
   "source": [
    "similarity = computeSim(limit=4)"
   ]
  },
  {
   "cell_type": "markdown",
   "metadata": {},
   "source": [
    "We check the sanity of the results."
   ]
  },
  {
   "cell_type": "code",
   "execution_count": 10,
   "metadata": {},
   "outputs": [
    {
     "name": "stdout",
     "output_type": "stream",
     "text": [
      "60\n",
      "100\n"
     ]
    }
   ],
   "source": [
    "print(min(similarity.values()))\n",
    "print(max(similarity.values()))"
   ]
  },
  {
   "cell_type": "code",
   "execution_count": 11,
   "metadata": {},
   "outputs": [],
   "source": [
    "eq = [x for x in similarity.items() if x[1] >= 100]\n",
    "neq = [x for x in similarity.items() if x[1] <= 70]"
   ]
  },
  {
   "cell_type": "code",
   "execution_count": 12,
   "metadata": {},
   "outputs": [
    {
     "name": "stdout",
     "output_type": "stream",
     "text": [
      "5\n",
      "12\n"
     ]
    }
   ],
   "source": [
    "print(len(eq))\n",
    "print(len(neq))"
   ]
  },
  {
   "cell_type": "code",
   "execution_count": 13,
   "metadata": {},
   "outputs": [
    {
     "name": "stdout",
     "output_type": "stream",
     "text": [
      "((128221, 132189), 100)\n",
      "((128221, 132728), 67)\n"
     ]
    }
   ],
   "source": [
    "print(eq[0])\n",
    "print(neq[0])"
   ]
  },
  {
   "cell_type": "code",
   "execution_count": 14,
   "metadata": {},
   "outputs": [
    {
     "data": {
      "text/html": [
       "<span class=\"section ltr\"><a target=\"_blank\" href=\"/#1:2\" title=\"show this passage on Tanzil\" sec=\"1:2\">1:2</a> </span> <span class=\"plain outer rtl  \" ><span class=\"plain txtu ara rtl\"></span><span class=\"plain  rtl  \" ><span class=\"plain txtu ara rtl\"></span><span class=\"plain  rtl  \" ><span class=\"txtu ara\">ٱلْ</span></span><span class=\"plain  rtl  \" ><span class=\"txtu ara\">حَمْدُ </span></span></span><span class=\"plain  rtl  \" ><span class=\"plain txtu ara rtl\"></span><span class=\"plain  rtl  \" ><span class=\"txtu ara\">لِ</span></span><span class=\"plain  rtl  \" ><span class=\"txtu ara\">لَّهِ </span></span></span><span class=\"plain  rtl  \" ><span class=\"plain txtu ara rtl\"></span><span class=\"plain  rtl  \" ><span class=\"txtu ara\">رَبِّ </span></span></span><span class=\"plain  rtl  \" ><span class=\"plain txtu ara rtl\"></span><span class=\"plain  rtl  \" ><span class=\"txtu ara\">ٱلْ</span></span><span class=\"plain  rtl  \" ><span class=\"txtu ara\">عَٰلَمِينَ</span></span></span></span>"
      ],
      "text/plain": [
       "<IPython.core.display.HTML object>"
      ]
     },
     "metadata": {},
     "output_type": "display_data"
    },
    {
     "data": {
      "text/html": [
       "<span class=\"section ltr\"><a target=\"_blank\" href=\"/#37:182\" title=\"show this passage on Tanzil\" sec=\"37:182\">37:182</a> </span> <span class=\"plain outer rtl  \" ><span class=\"plain txtu ara rtl\"></span><span class=\"plain  rtl  \" ><span class=\"plain txtu ara rtl\"></span><span class=\"plain  rtl  \" ><span class=\"txtu ara\">وَ</span></span><span class=\"plain  rtl  \" ><span class=\"txtu ara\">ٱلْ</span></span><span class=\"plain  rtl  \" ><span class=\"txtu ara\">حَمْدُ </span></span></span><span class=\"plain  rtl  \" ><span class=\"plain txtu ara rtl\"></span><span class=\"plain  rtl  \" ><span class=\"txtu ara\">لِ</span></span><span class=\"plain  rtl  \" ><span class=\"txtu ara\">لَّهِ </span></span></span><span class=\"plain  rtl  \" ><span class=\"plain txtu ara rtl\"></span><span class=\"plain  rtl  \" ><span class=\"txtu ara\">رَبِّ </span></span></span><span class=\"plain  rtl  \" ><span class=\"plain txtu ara rtl\"></span><span class=\"plain  rtl  \" ><span class=\"txtu ara\">ٱلْ</span></span><span class=\"plain  rtl  \" ><span class=\"txtu ara\">عَٰلَمِينَ</span></span></span></span>"
      ],
      "text/plain": [
       "<IPython.core.display.HTML object>"
      ]
     },
     "metadata": {},
     "output_type": "display_data"
    }
   ],
   "source": [
    "A.plain(eq[0][0][0])\n",
    "A.plain(eq[0][0][1])"
   ]
  },
  {
   "cell_type": "code",
   "execution_count": 15,
   "metadata": {},
   "outputs": [
    {
     "data": {
      "text/html": [
       "<span class=\"section ltr\"><a target=\"_blank\" href=\"/#1:2\" title=\"show this passage on Tanzil\" sec=\"1:2\">1:2</a> </span> <span class=\"plain outer ltr  \" ><span class=\"plain txtt ltr\"></span><span class=\"plain  ltr  \" ><span class=\"plain txtt ltr\"></span><span class=\"plain  ltr  \" ><span class=\"txtt\">{lo</span></span><span class=\"plain  ltr  \" ><span class=\"txtt\">Hamodu </span></span></span><span class=\"plain  ltr  \" ><span class=\"plain txtt ltr\"></span><span class=\"plain  ltr  \" ><span class=\"txtt\">li</span></span><span class=\"plain  ltr  \" ><span class=\"txtt\">l~ahi </span></span></span><span class=\"plain  ltr  \" ><span class=\"plain txtt ltr\"></span><span class=\"plain  ltr  \" ><span class=\"txtt\">rab~i </span></span></span><span class=\"plain  ltr  \" ><span class=\"plain txtt ltr\"></span><span class=\"plain  ltr  \" ><span class=\"txtt\">{lo</span></span><span class=\"plain  ltr  \" ><span class=\"txtt\">Ea`lamiyna</span></span></span></span>"
      ],
      "text/plain": [
       "<IPython.core.display.HTML object>"
      ]
     },
     "metadata": {},
     "output_type": "display_data"
    },
    {
     "data": {
      "text/html": [
       "<span class=\"section ltr\"><a target=\"_blank\" href=\"/#37:182\" title=\"show this passage on Tanzil\" sec=\"37:182\">37:182</a> </span> <span class=\"plain outer ltr  \" ><span class=\"plain txtt ltr\"></span><span class=\"plain  ltr  \" ><span class=\"plain txtt ltr\"></span><span class=\"plain  ltr  \" ><span class=\"txtt\">wa</span></span><span class=\"plain  ltr  \" ><span class=\"txtt\">{lo</span></span><span class=\"plain  ltr  \" ><span class=\"txtt\">Hamodu </span></span></span><span class=\"plain  ltr  \" ><span class=\"plain txtt ltr\"></span><span class=\"plain  ltr  \" ><span class=\"txtt\">li</span></span><span class=\"plain  ltr  \" ><span class=\"txtt\">l~ahi </span></span></span><span class=\"plain  ltr  \" ><span class=\"plain txtt ltr\"></span><span class=\"plain  ltr  \" ><span class=\"txtt\">rab~i </span></span></span><span class=\"plain  ltr  \" ><span class=\"plain txtt ltr\"></span><span class=\"plain  ltr  \" ><span class=\"txtt\">{lo</span></span><span class=\"plain  ltr  \" ><span class=\"txtt\">Ea`lamiyna</span></span></span></span>"
      ],
      "text/plain": [
       "<IPython.core.display.HTML object>"
      ]
     },
     "metadata": {},
     "output_type": "display_data"
    }
   ],
   "source": [
    "A.plain(eq[0][0][0], fmt=\"text-trans-full\")\n",
    "A.plain(eq[0][0][1], fmt=\"text-trans-full\")"
   ]
  },
  {
   "cell_type": "code",
   "execution_count": 16,
   "metadata": {},
   "outputs": [
    {
     "name": "stdout",
     "output_type": "stream",
     "text": [
      "lex-trans-full\n"
     ]
    },
    {
     "data": {
      "text/html": [
       "<span class=\"section ltr\"><a target=\"_blank\" href=\"/#1:2\" title=\"show this passage on Tanzil\" sec=\"1:2\">1:2</a> </span> <span class=\"plain outer ltr  \" ><span class=\"plain txtt ltr\"></span><span class=\"plain  ltr  \" ><span class=\"plain txtt ltr\"></span><span class=\"plain  ltr  \" ><span class=\"txtt\"></span></span><span class=\"plain  ltr  \" ><span class=\"txtt\">Hamod </span></span></span><span class=\"plain  ltr  \" ><span class=\"plain txtt ltr\"></span><span class=\"plain  ltr  \" ><span class=\"txtt\"></span></span><span class=\"plain  ltr  \" ><span class=\"txtt\">{ll~ah </span></span></span><span class=\"plain  ltr  \" ><span class=\"plain txtt ltr\"></span><span class=\"plain  ltr  \" ><span class=\"txtt\">rab~ </span></span></span><span class=\"plain  ltr  \" ><span class=\"plain txtt ltr\"></span><span class=\"plain  ltr  \" ><span class=\"txtt\"></span></span><span class=\"plain  ltr  \" ><span class=\"txtt\">Ea`lamiyn</span></span></span></span>"
      ],
      "text/plain": [
       "<IPython.core.display.HTML object>"
      ]
     },
     "metadata": {},
     "output_type": "display_data"
    },
    {
     "data": {
      "text/html": [
       "<span class=\"section ltr\"><a target=\"_blank\" href=\"/#45:36\" title=\"show this passage on Tanzil\" sec=\"45:36\">45:36</a> </span> <span class=\"plain outer ltr  \" ><span class=\"plain txtt ltr\"></span><span class=\"plain  ltr  \" ><span class=\"plain txtt ltr\"></span><span class=\"plain  ltr  \" ><span class=\"txtt\"></span></span><span class=\"plain  ltr  \" ><span class=\"txtt\"></span></span><span class=\"plain  ltr  \" ><span class=\"txtt\">{ll~ah </span></span></span><span class=\"plain  ltr  \" ><span class=\"plain txtt ltr\"></span><span class=\"plain  ltr  \" ><span class=\"txtt\"></span></span><span class=\"plain  ltr  \" ><span class=\"txtt\">Hamod </span></span></span><span class=\"plain  ltr  \" ><span class=\"plain txtt ltr\"></span><span class=\"plain  ltr  \" ><span class=\"txtt\">rab~ </span></span></span><span class=\"plain  ltr  \" ><span class=\"plain txtt ltr\"></span><span class=\"plain  ltr  \" ><span class=\"txtt\"></span></span><span class=\"plain  ltr  \" ><span class=\"txtt\">samaA^' </span></span></span><span class=\"plain  ltr  \" ><span class=\"plain txtt ltr\"></span><span class=\"plain  ltr  \" ><span class=\"txtt\"></span></span><span class=\"plain  ltr  \" ><span class=\"txtt\">rab~ </span></span></span><span class=\"plain  ltr  \" ><span class=\"plain txtt ltr\"></span><span class=\"plain  ltr  \" ><span class=\"txtt\"></span></span><span class=\"plain  ltr  \" ><span class=\"txtt\">>aroD </span></span></span><span class=\"plain  ltr  \" ><span class=\"plain txtt ltr\"></span><span class=\"plain  ltr  \" ><span class=\"txtt\">rab~ </span></span></span><span class=\"plain  ltr  \" ><span class=\"plain txtt ltr\"></span><span class=\"plain  ltr  \" ><span class=\"txtt\"></span></span><span class=\"plain  ltr  \" ><span class=\"txtt\">Ea`lamiyn</span></span></span></span>"
      ],
      "text/plain": [
       "<IPython.core.display.HTML object>"
      ]
     },
     "metadata": {},
     "output_type": "display_data"
    },
    {
     "name": "stdout",
     "output_type": "stream",
     "text": [
      "root-trans-full\n"
     ]
    },
    {
     "data": {
      "text/html": [
       "<span class=\"section ltr\"><a target=\"_blank\" href=\"/#1:2\" title=\"show this passage on Tanzil\" sec=\"1:2\">1:2</a> </span> <span class=\"plain outer ltr  \" ><span class=\"plain txtt ltr\"></span><span class=\"plain  ltr  \" ><span class=\"plain txtt ltr\"></span><span class=\"plain  ltr  \" ><span class=\"txtt\"></span></span><span class=\"plain  ltr  \" ><span class=\"txtt\">Hmd </span></span></span><span class=\"plain  ltr  \" ><span class=\"plain txtt ltr\"></span><span class=\"plain  ltr  \" ><span class=\"txtt\"></span></span><span class=\"plain  ltr  \" ><span class=\"txtt\">Alh </span></span></span><span class=\"plain  ltr  \" ><span class=\"plain txtt ltr\"></span><span class=\"plain  ltr  \" ><span class=\"txtt\">rbb </span></span></span><span class=\"plain  ltr  \" ><span class=\"plain txtt ltr\"></span><span class=\"plain  ltr  \" ><span class=\"txtt\"></span></span><span class=\"plain  ltr  \" ><span class=\"txtt\">Elm</span></span></span></span>"
      ],
      "text/plain": [
       "<IPython.core.display.HTML object>"
      ]
     },
     "metadata": {},
     "output_type": "display_data"
    },
    {
     "data": {
      "text/html": [
       "<span class=\"section ltr\"><a target=\"_blank\" href=\"/#45:36\" title=\"show this passage on Tanzil\" sec=\"45:36\">45:36</a> </span> <span class=\"plain outer ltr  \" ><span class=\"plain txtt ltr\"></span><span class=\"plain  ltr  \" ><span class=\"plain txtt ltr\"></span><span class=\"plain  ltr  \" ><span class=\"txtt\"></span></span><span class=\"plain  ltr  \" ><span class=\"txtt\"></span></span><span class=\"plain  ltr  \" ><span class=\"txtt\">Alh </span></span></span><span class=\"plain  ltr  \" ><span class=\"plain txtt ltr\"></span><span class=\"plain  ltr  \" ><span class=\"txtt\"></span></span><span class=\"plain  ltr  \" ><span class=\"txtt\">Hmd </span></span></span><span class=\"plain  ltr  \" ><span class=\"plain txtt ltr\"></span><span class=\"plain  ltr  \" ><span class=\"txtt\">rbb </span></span></span><span class=\"plain  ltr  \" ><span class=\"plain txtt ltr\"></span><span class=\"plain  ltr  \" ><span class=\"txtt\"></span></span><span class=\"plain  ltr  \" ><span class=\"txtt\">smw </span></span></span><span class=\"plain  ltr  \" ><span class=\"plain txtt ltr\"></span><span class=\"plain  ltr  \" ><span class=\"txtt\"></span></span><span class=\"plain  ltr  \" ><span class=\"txtt\">rbb </span></span></span><span class=\"plain  ltr  \" ><span class=\"plain txtt ltr\"></span><span class=\"plain  ltr  \" ><span class=\"txtt\"></span></span><span class=\"plain  ltr  \" ><span class=\"txtt\">ArD </span></span></span><span class=\"plain  ltr  \" ><span class=\"plain txtt ltr\"></span><span class=\"plain  ltr  \" ><span class=\"txtt\">rbb </span></span></span><span class=\"plain  ltr  \" ><span class=\"plain txtt ltr\"></span><span class=\"plain  ltr  \" ><span class=\"txtt\"></span></span><span class=\"plain  ltr  \" ><span class=\"txtt\">Elm</span></span></span></span>"
      ],
      "text/plain": [
       "<IPython.core.display.HTML object>"
      ]
     },
     "metadata": {},
     "output_type": "display_data"
    },
    {
     "name": "stdout",
     "output_type": "stream",
     "text": [
      "text-orig-full\n"
     ]
    },
    {
     "data": {
      "text/html": [
       "<span class=\"section ltr\"><a target=\"_blank\" href=\"/#1:2\" title=\"show this passage on Tanzil\" sec=\"1:2\">1:2</a> </span> <span class=\"plain outer rtl  \" ><span class=\"plain txtu ara rtl\"></span><span class=\"plain  rtl  \" ><span class=\"plain txtu ara rtl\"></span><span class=\"plain  rtl  \" ><span class=\"txtu ara\">ٱلْ</span></span><span class=\"plain  rtl  \" ><span class=\"txtu ara\">حَمْدُ </span></span></span><span class=\"plain  rtl  \" ><span class=\"plain txtu ara rtl\"></span><span class=\"plain  rtl  \" ><span class=\"txtu ara\">لِ</span></span><span class=\"plain  rtl  \" ><span class=\"txtu ara\">لَّهِ </span></span></span><span class=\"plain  rtl  \" ><span class=\"plain txtu ara rtl\"></span><span class=\"plain  rtl  \" ><span class=\"txtu ara\">رَبِّ </span></span></span><span class=\"plain  rtl  \" ><span class=\"plain txtu ara rtl\"></span><span class=\"plain  rtl  \" ><span class=\"txtu ara\">ٱلْ</span></span><span class=\"plain  rtl  \" ><span class=\"txtu ara\">عَٰلَمِينَ</span></span></span></span>"
      ],
      "text/plain": [
       "<IPython.core.display.HTML object>"
      ]
     },
     "metadata": {},
     "output_type": "display_data"
    },
    {
     "data": {
      "text/html": [
       "<span class=\"section ltr\"><a target=\"_blank\" href=\"/#45:36\" title=\"show this passage on Tanzil\" sec=\"45:36\">45:36</a> </span> <span class=\"plain outer rtl  \" ><span class=\"plain txtu ara rtl\"></span><span class=\"plain  rtl  \" ><span class=\"plain txtu ara rtl\"></span><span class=\"plain  rtl  \" ><span class=\"txtu ara\">فَ</span></span><span class=\"plain  rtl  \" ><span class=\"txtu ara\">لِ</span></span><span class=\"plain  rtl  \" ><span class=\"txtu ara\">لَّهِ </span></span></span><span class=\"plain  rtl  \" ><span class=\"plain txtu ara rtl\"></span><span class=\"plain  rtl  \" ><span class=\"txtu ara\">ٱلْ</span></span><span class=\"plain  rtl  \" ><span class=\"txtu ara\">حَمْدُ </span></span></span><span class=\"plain  rtl  \" ><span class=\"plain txtu ara rtl\"></span><span class=\"plain  rtl  \" ><span class=\"txtu ara\">رَبِّ </span></span></span><span class=\"plain  rtl  \" ><span class=\"plain txtu ara rtl\"></span><span class=\"plain  rtl  \" ><span class=\"txtu ara\">ٱل</span></span><span class=\"plain  rtl  \" ><span class=\"txtu ara\">سَّمَٰوَٰتِ </span></span></span><span class=\"plain  rtl  \" ><span class=\"plain txtu ara rtl\"></span><span class=\"plain  rtl  \" ><span class=\"txtu ara\">وَ</span></span><span class=\"plain  rtl  \" ><span class=\"txtu ara\">رَبِّ </span></span></span><span class=\"plain  rtl  \" ><span class=\"plain txtu ara rtl\"></span><span class=\"plain  rtl  \" ><span class=\"txtu ara\">ٱلْ</span></span><span class=\"plain  rtl  \" ><span class=\"txtu ara\">أَرْضِ </span></span></span><span class=\"plain  rtl  \" ><span class=\"plain txtu ara rtl\"></span><span class=\"plain  rtl  \" ><span class=\"txtu ara\">رَبِّ </span></span></span><span class=\"plain  rtl  \" ><span class=\"plain txtu ara rtl\"></span><span class=\"plain  rtl  \" ><span class=\"txtu ara\">ٱلْ</span></span><span class=\"plain  rtl  \" ><span class=\"txtu ara\">عَٰلَمِينَ</span></span></span></span>"
      ],
      "text/plain": [
       "<IPython.core.display.HTML object>"
      ]
     },
     "metadata": {},
     "output_type": "display_data"
    },
    {
     "name": "stdout",
     "output_type": "stream",
     "text": [
      "text-trans-full\n"
     ]
    },
    {
     "data": {
      "text/html": [
       "<span class=\"section ltr\"><a target=\"_blank\" href=\"/#1:2\" title=\"show this passage on Tanzil\" sec=\"1:2\">1:2</a> </span> <span class=\"plain outer ltr  \" ><span class=\"plain txtt ltr\"></span><span class=\"plain  ltr  \" ><span class=\"plain txtt ltr\"></span><span class=\"plain  ltr  \" ><span class=\"txtt\">{lo</span></span><span class=\"plain  ltr  \" ><span class=\"txtt\">Hamodu </span></span></span><span class=\"plain  ltr  \" ><span class=\"plain txtt ltr\"></span><span class=\"plain  ltr  \" ><span class=\"txtt\">li</span></span><span class=\"plain  ltr  \" ><span class=\"txtt\">l~ahi </span></span></span><span class=\"plain  ltr  \" ><span class=\"plain txtt ltr\"></span><span class=\"plain  ltr  \" ><span class=\"txtt\">rab~i </span></span></span><span class=\"plain  ltr  \" ><span class=\"plain txtt ltr\"></span><span class=\"plain  ltr  \" ><span class=\"txtt\">{lo</span></span><span class=\"plain  ltr  \" ><span class=\"txtt\">Ea`lamiyna</span></span></span></span>"
      ],
      "text/plain": [
       "<IPython.core.display.HTML object>"
      ]
     },
     "metadata": {},
     "output_type": "display_data"
    },
    {
     "data": {
      "text/html": [
       "<span class=\"section ltr\"><a target=\"_blank\" href=\"/#45:36\" title=\"show this passage on Tanzil\" sec=\"45:36\">45:36</a> </span> <span class=\"plain outer ltr  \" ><span class=\"plain txtt ltr\"></span><span class=\"plain  ltr  \" ><span class=\"plain txtt ltr\"></span><span class=\"plain  ltr  \" ><span class=\"txtt\">fa</span></span><span class=\"plain  ltr  \" ><span class=\"txtt\">li</span></span><span class=\"plain  ltr  \" ><span class=\"txtt\">l~ahi </span></span></span><span class=\"plain  ltr  \" ><span class=\"plain txtt ltr\"></span><span class=\"plain  ltr  \" ><span class=\"txtt\">{lo</span></span><span class=\"plain  ltr  \" ><span class=\"txtt\">Hamodu </span></span></span><span class=\"plain  ltr  \" ><span class=\"plain txtt ltr\"></span><span class=\"plain  ltr  \" ><span class=\"txtt\">rab~i </span></span></span><span class=\"plain  ltr  \" ><span class=\"plain txtt ltr\"></span><span class=\"plain  ltr  \" ><span class=\"txtt\">{l</span></span><span class=\"plain  ltr  \" ><span class=\"txtt\">s~ama`wa`ti </span></span></span><span class=\"plain  ltr  \" ><span class=\"plain txtt ltr\"></span><span class=\"plain  ltr  \" ><span class=\"txtt\">wa</span></span><span class=\"plain  ltr  \" ><span class=\"txtt\">rab~i </span></span></span><span class=\"plain  ltr  \" ><span class=\"plain txtt ltr\"></span><span class=\"plain  ltr  \" ><span class=\"txtt\">{lo</span></span><span class=\"plain  ltr  \" ><span class=\"txtt\">>aroDi </span></span></span><span class=\"plain  ltr  \" ><span class=\"plain txtt ltr\"></span><span class=\"plain  ltr  \" ><span class=\"txtt\">rab~i </span></span></span><span class=\"plain  ltr  \" ><span class=\"plain txtt ltr\"></span><span class=\"plain  ltr  \" ><span class=\"txtt\">{lo</span></span><span class=\"plain  ltr  \" ><span class=\"txtt\">Ea`lamiyna</span></span></span></span>"
      ],
      "text/plain": [
       "<IPython.core.display.HTML object>"
      ]
     },
     "metadata": {},
     "output_type": "display_data"
    }
   ],
   "source": [
    "for fmt in T.formats:\n",
    "    print(fmt)\n",
    "    A.plain(neq[0][0][0], fmt=fmt)\n",
    "    A.plain(neq[0][0][1], fmt=fmt)"
   ]
  },
  {
   "cell_type": "markdown",
   "metadata": {},
   "source": [
    "Looks good.\n",
    "\n",
    "Now the whole computation.\n",
    "\n",
    "But if we have done this before, and nothing has changed, we load previous results from disk.\n",
    "\n",
    "If we do not find previous results, we compute them and save the results to disk."
   ]
  },
  {
   "cell_type": "code",
   "execution_count": 17,
   "metadata": {},
   "outputs": [],
   "source": [
    "PARA_DIR = f\"{A.tempDir}/parallels\"\n",
    "\n",
    "\n",
    "def writeResults(data, location, name):\n",
    "    if not os.path.exists(location):\n",
    "        os.makedirs(location, exist_ok=True)\n",
    "    path = f\"{location}/{name}\"\n",
    "    with gzip.open(path, \"wb\") as f:\n",
    "        pickle.dump(data, f)\n",
    "    print(f\"Data written to {path}\")\n",
    "\n",
    "\n",
    "def readResults(location, name):\n",
    "    path = f\"{location}/{name}\"\n",
    "    if not os.path.exists(path):\n",
    "        print(f\"File not found: {path}\")\n",
    "        return None\n",
    "    with gzip.open(path, \"rb\") as f:\n",
    "        data = pickle.load(f)\n",
    "    print(f\"Data read from {path}\")\n",
    "    return data"
   ]
  },
  {
   "cell_type": "code",
   "execution_count": 18,
   "metadata": {},
   "outputs": [
    {
     "name": "stdout",
     "output_type": "stream",
     "text": [
      "File not found: /Users/dirk/github/q-ran/quran/_temp/parallels/sim-0.4.zip\n",
      "19316220 comparisons to make\n",
      "  0.34s   1% -       193162 comparisons and          7 similarities\n",
      "  0.68s   2% -       386324 comparisons and         19 similarities\n",
      "  1.03s   3% -       579486 comparisons and         26 similarities\n",
      "  1.38s   4% -       772648 comparisons and         29 similarities\n",
      "  1.72s   5% -       965810 comparisons and         32 similarities\n",
      "  2.06s   6% -      1158972 comparisons and         34 similarities\n",
      "  2.43s   7% -      1352134 comparisons and         34 similarities\n",
      "  2.83s   8% -      1545296 comparisons and         34 similarities\n",
      "  3.21s   9% -      1738458 comparisons and         34 similarities\n",
      "  3.58s  10% -      1931620 comparisons and         38 similarities\n",
      "  3.91s  11% -      2124782 comparisons and         40 similarities\n",
      "  4.27s  12% -      2317944 comparisons and         42 similarities\n",
      "  4.61s  13% -      2511106 comparisons and         45 similarities\n",
      "  4.95s  14% -      2704268 comparisons and         46 similarities\n",
      "  5.32s  15% -      2897430 comparisons and         54 similarities\n",
      "  5.74s  16% -      3090592 comparisons and         55 similarities\n",
      "  6.11s  17% -      3283754 comparisons and         55 similarities\n",
      "  6.47s  18% -      3476916 comparisons and         56 similarities\n",
      "  6.81s  19% -      3670078 comparisons and         56 similarities\n",
      "  7.16s  20% -      3863240 comparisons and         58 similarities\n",
      "  7.54s  21% -      4056402 comparisons and         59 similarities\n",
      "  7.90s  22% -      4249564 comparisons and         59 similarities\n",
      "  8.25s  23% -      4442726 comparisons and         60 similarities\n",
      "  8.60s  24% -      4635888 comparisons and         64 similarities\n",
      "  8.94s  25% -      4829050 comparisons and         69 similarities\n",
      "  9.28s  26% -      5022212 comparisons and         69 similarities\n",
      "  9.62s  27% -      5215374 comparisons and         71 similarities\n",
      "  9.97s  28% -      5408536 comparisons and         71 similarities\n",
      "    10s  29% -      5601698 comparisons and         78 similarities\n",
      "    11s  30% -      5794860 comparisons and         83 similarities\n",
      "    11s  31% -      5988022 comparisons and         92 similarities\n",
      "    11s  32% -      6181184 comparisons and        109 similarities\n",
      "    12s  33% -      6374346 comparisons and        111 similarities\n",
      "    12s  34% -      6567508 comparisons and        113 similarities\n",
      "    12s  35% -      6760670 comparisons and        115 similarities\n",
      "    13s  36% -      6953832 comparisons and        116 similarities\n",
      "    13s  37% -      7146994 comparisons and        120 similarities\n",
      "    13s  38% -      7340156 comparisons and        122 similarities\n",
      "    14s  39% -      7533318 comparisons and        123 similarities\n",
      "    14s  40% -      7726480 comparisons and        130 similarities\n",
      "    14s  41% -      7919642 comparisons and        143 similarities\n",
      "    15s  42% -      8112804 comparisons and        143 similarities\n",
      "    15s  43% -      8305966 comparisons and        145 similarities\n",
      "    15s  44% -      8499128 comparisons and        147 similarities\n",
      "    16s  45% -      8692290 comparisons and        156 similarities\n",
      "    16s  46% -      8885452 comparisons and        157 similarities\n",
      "    16s  47% -      9078614 comparisons and        157 similarities\n",
      "    17s  48% -      9271776 comparisons and        162 similarities\n",
      "    17s  49% -      9464938 comparisons and        164 similarities\n",
      "    17s  50% -      9658100 comparisons and        174 similarities\n",
      "    18s  51% -      9851262 comparisons and        198 similarities\n",
      "    18s  52% -     10044424 comparisons and        212 similarities\n",
      "    18s  53% -     10237586 comparisons and        221 similarities\n",
      "    19s  54% -     10430748 comparisons and        222 similarities\n",
      "    19s  55% -     10623910 comparisons and        224 similarities\n",
      "    19s  56% -     10817072 comparisons and        227 similarities\n",
      "    20s  57% -     11010234 comparisons and        229 similarities\n",
      "    20s  58% -     11203396 comparisons and        230 similarities\n",
      "    20s  59% -     11396558 comparisons and        236 similarities\n",
      "    21s  60% -     11589720 comparisons and        239 similarities\n",
      "    21s  61% -     11782882 comparisons and        240 similarities\n",
      "    21s  62% -     11976044 comparisons and        247 similarities\n",
      "    21s  63% -     12169206 comparisons and        249 similarities\n",
      "    22s  64% -     12362368 comparisons and        251 similarities\n",
      "    22s  65% -     12555530 comparisons and        258 similarities\n",
      "    22s  66% -     12748692 comparisons and        262 similarities\n",
      "    23s  67% -     12941854 comparisons and        265 similarities\n",
      "    23s  68% -     13135016 comparisons and        276 similarities\n",
      "    23s  69% -     13328178 comparisons and        283 similarities\n",
      "    24s  70% -     13521340 comparisons and        285 similarities\n",
      "    24s  71% -     13714502 comparisons and        287 similarities\n",
      "    24s  72% -     13907664 comparisons and        287 similarities\n",
      "    25s  73% -     14100826 comparisons and        306 similarities\n",
      "    25s  74% -     14293988 comparisons and        366 similarities\n",
      "    25s  75% -     14487150 comparisons and        429 similarities\n",
      "    25s  76% -     14680312 comparisons and        435 similarities\n",
      "    26s  77% -     14873474 comparisons and        443 similarities\n",
      "    26s  78% -     15066636 comparisons and        444 similarities\n",
      "    26s  79% -     15259798 comparisons and        447 similarities\n",
      "    27s  80% -     15452960 comparisons and        452 similarities\n",
      "    27s  81% -     15646122 comparisons and        453 similarities\n",
      "    27s  82% -     15839284 comparisons and        457 similarities\n",
      "    28s  83% -     16032446 comparisons and        461 similarities\n",
      "    28s  84% -     16225608 comparisons and        464 similarities\n",
      "    28s  85% -     16418770 comparisons and        474 similarities\n",
      "    29s  86% -     16611932 comparisons and        510 similarities\n",
      "    29s  87% -     16805094 comparisons and        529 similarities\n",
      "    29s  88% -     16998256 comparisons and        536 similarities\n",
      "    29s  89% -     17191418 comparisons and        541 similarities\n",
      "    30s  90% -     17384580 comparisons and        544 similarities\n",
      "    30s  91% -     17577742 comparisons and        546 similarities\n",
      "    30s  92% -     17770904 comparisons and        551 similarities\n",
      "    31s  93% -     17964066 comparisons and        552 similarities\n",
      "    31s  94% -     18157228 comparisons and        560 similarities\n",
      "    31s  95% -     18350390 comparisons and        611 similarities\n",
      "    31s  96% -     18543552 comparisons and       1090 similarities\n",
      "    32s  97% -     18736714 comparisons and       1110 similarities\n",
      "    32s  98% -     18929876 comparisons and       1119 similarities\n",
      "    32s  99% -     19123038 comparisons and       1135 similarities\n",
      "    32s 100% -     19316200 comparisons and       1234 similarities\n",
      "    32s 100% -     19316220 comparisons and       1234 similarities\n",
      "Data written to /Users/dirk/github/q-ran/quran/_temp/parallels/sim-0.4.zip\n"
     ]
    }
   ],
   "source": [
    "similarity = readResults(PARA_DIR, f\"sim-{A.version}.zip\")\n",
    "if not similarity:\n",
    "    similarity = computeSim()\n",
    "    writeResults(similarity, PARA_DIR, f\"sim-{A.version}.zip\")"
   ]
  },
  {
   "cell_type": "code",
   "execution_count": 19,
   "metadata": {},
   "outputs": [
    {
     "data": {
      "text/plain": [
       "1234"
      ]
     },
     "execution_count": 19,
     "metadata": {},
     "output_type": "execute_result"
    }
   ],
   "source": [
    "len(similarity)"
   ]
  },
  {
   "cell_type": "markdown",
   "metadata": {},
   "source": [
    "So, just over a thousand pairs of similar lines.\n",
    "\n",
    "Let's find out which lines have the most correspondences."
   ]
  },
  {
   "cell_type": "code",
   "execution_count": 20,
   "metadata": {},
   "outputs": [
    {
     "name": "stdout",
     "output_type": "stream",
     "text": [
      "812 out of 6216 ayas have at least one similar aya\n"
     ]
    }
   ],
   "source": [
    "parallels = {}\n",
    "\n",
    "for (ln, m) in similarity:\n",
    "    parallels.setdefault(ln, set()).add(m)\n",
    "    parallels.setdefault(m, set()).add(ln)\n",
    "\n",
    "print(f\"{len(parallels)} out of {nLines} ayas have at least one similar aya\")"
   ]
  },
  {
   "cell_type": "code",
   "execution_count": 21,
   "metadata": {},
   "outputs": [],
   "source": [
    "rankedParallels = sorted(\n",
    "    parallels.items(),\n",
    "    key=lambda x: (-len(x[1]), x[0]),\n",
    ")"
   ]
  },
  {
   "cell_type": "code",
   "execution_count": 22,
   "metadata": {},
   "outputs": [
    {
     "name": "stdout",
     "output_type": "stream",
     "text": [
      "  31 siblings of 133058 = فَبِأَىِّ ءَالَآءِ رَبِّكَ تَتَمَارَىٰ = fabi>aY~i 'aAlaA^'i rab~ika tatamaAraY`\n",
      "  31 siblings of 133133 = فَبِأَىِّ ءَالَآءِ رَبِّكُمَا تُكَذِّبَانِ = fabi>aY~i 'aAlaA^'i rab~ikumaA tuka*~ibaAni\n",
      "  31 siblings of 133136 = فَبِأَىِّ ءَالَآءِ رَبِّكُمَا تُكَذِّبَانِ = fabi>aY~i 'aAlaA^'i rab~ikumaA tuka*~ibaAni\n",
      "  31 siblings of 133138 = فَبِأَىِّ ءَالَآءِ رَبِّكُمَا تُكَذِّبَانِ = fabi>aY~i 'aAlaA^'i rab~ikumaA tuka*~ibaAni\n",
      "  31 siblings of 133141 = فَبِأَىِّ ءَالَآءِ رَبِّكُمَا تُكَذِّبَانِ = fabi>aY~i 'aAlaA^'i rab~ikumaA tuka*~ibaAni\n",
      "  31 siblings of 133143 = فَبِأَىِّ ءَالَآءِ رَبِّكُمَا تُكَذِّبَانِ = fabi>aY~i 'aAlaA^'i rab~ikumaA tuka*~ibaAni\n",
      "  31 siblings of 133145 = فَبِأَىِّ ءَالَآءِ رَبِّكُمَا تُكَذِّبَانِ = fabi>aY~i 'aAlaA^'i rab~ikumaA tuka*~ibaAni\n",
      "  31 siblings of 133148 = فَبِأَىِّ ءَالَآءِ رَبِّكُمَا تُكَذِّبَانِ = fabi>aY~i 'aAlaA^'i rab~ikumaA tuka*~ibaAni\n",
      "  31 siblings of 133150 = فَبِأَىِّ ءَالَآءِ رَبِّكُمَا تُكَذِّبَانِ = fabi>aY~i 'aAlaA^'i rab~ikumaA tuka*~ibaAni\n",
      "  31 siblings of 133152 = فَبِأَىِّ ءَالَآءِ رَبِّكُمَا تُكَذِّبَانِ = fabi>aY~i 'aAlaA^'i rab~ikumaA tuka*~ibaAni\n"
     ]
    }
   ],
   "source": [
    "for (ln, paras) in rankedParallels[0:10]:\n",
    "    print(\n",
    "        f'{len(paras):>4} siblings of {ln} = {T.text(ln)} = {T.text(ln, fmt=\"text-trans-full\", descend=True)}'\n",
    "    )"
   ]
  },
  {
   "cell_type": "code",
   "execution_count": 23,
   "metadata": {},
   "outputs": [
    {
     "name": "stdout",
     "output_type": "stream",
     "text": [
      "   4 siblings of إِنِّى لَكُمْ رَسُولٌ أَمِينٌ = <in~iY lakumo rasuwlN >amiynN\n",
      "   4 siblings of إِنِّى لَكُمْ رَسُولٌ أَمِينٌ = <in~iY lakumo rasuwlN >amiynN\n",
      "   4 siblings of إِنِّى لَكُمْ رَسُولٌ أَمِينٌ = <in~iY lakumo rasuwlN >amiynN\n",
      "   4 siblings of فِى جَنَّٰتٍ وَعُيُونٍ = fiY jan~a`tK waEuyuwnK\n",
      "   4 siblings of إِنِّى لَكُمْ رَسُولٌ أَمِينٌ = <in~iY lakumo rasuwlN >amiynN\n",
      "   4 siblings of إِنِّى لَكُمْ رَسُولٌ أَمِينٌ = <in~iY lakumo rasuwlN >amiynN\n",
      "   4 siblings of طسٓ تِلْكَ ءَايَٰتُ ٱلْقُرْءَانِ وَكِتَابٍ مُّبِينٍ = Ts^ tiloka 'aAya`tu {loquro'aAni wakitaAbK m~ubiynK\n",
      "   4 siblings of تِلْكَ ءَايَٰتُ ٱلْكِتَٰبِ ٱلْحَكِيمِ = tiloka 'aAya`tu {lokita`bi {loHakiymi\n",
      "   4 siblings of إِنَّا كَذَٰلِكَ نَجْزِى ٱلْمُحْسِنِينَ = <in~aA ka*a`lika najoziY {lomuHosiniyna\n",
      "   4 siblings of كَذَٰلِكَ نَجْزِى ٱلْمُحْسِنِينَ = ka*a`lika najoziY {lomuHosiniyna\n"
     ]
    }
   ],
   "source": [
    "for (ln, paras) in rankedParallels[100:110]:\n",
    "    print(\n",
    "        f'{len(paras):>4} siblings of {T.text(ln)} = {T.text(ln, fmt=\"text-trans-full\", descend=True)}'\n",
    "    )"
   ]
  },
  {
   "cell_type": "code",
   "execution_count": 24,
   "metadata": {},
   "outputs": [
    {
     "name": "stdout",
     "output_type": "stream",
     "text": [
      "   1 siblings of يَأْتُوكَ بِكُلِّ سَحَّارٍ عَلِيمٍ = ya>otuwka bikul~i saH~aArK EaliymK\n",
      "   1 siblings of فَلَمَّا جَآءَ ٱلسَّحَرَةُ قَالُوا۟ لِفِرْعَوْنَ أَئِنَّ لَنَا لَأَجْرًا إِن كُنَّا نَحْنُ ٱلْغَٰلِبِينَ = falam~aA jaA^'a {ls~aHarapu qaAluwA@ lifiroEawona >a}in~a lanaA la>ajorFA <in kun~aA naHonu {loga`libiyna\n",
      "   1 siblings of قَالَ نَعَمْ وَإِنَّكُمْ إِذًا لَّمِنَ ٱلْمُقَرَّبِينَ = qaAla naEamo wa<in~akumo <i*FA l~amina {lomuqar~abiyna\n",
      "   1 siblings of فَأُلْقِىَ ٱلسَّحَرَةُ سَٰجِدِينَ = fa>uloqiYa {ls~aHarapu sa`jidiyna\n",
      "   1 siblings of قَالُوٓا۟ ءَامَنَّا بِرَبِّ ٱلْعَٰلَمِينَ = qaAluw^A@ 'aAman~aA birab~i {loEa`lamiyna\n",
      "   1 siblings of رَبِّ مُوسَىٰ وَهَٰرُونَ = rab~i muwsaY` waha`ruwna\n",
      "   1 siblings of قَالَ ءَامَنتُمْ لَهُۥ قَبْلَ أَنْ ءَاذَنَ لَكُمْ إِنَّهُۥ لَكَبِيرُكُمُ ٱلَّذِى عَلَّمَكُمُ ٱلسِّحْرَ فَلَسَوْفَ تَعْلَمُونَ لَأُقَطِّعَنَّ أَيْدِيَكُمْ وَأَرْجُلَكُم مِّنْ خِلَٰفٍ وَلَأُصَلِّبَنَّكُمْ أَجْمَعِينَ = qaAla 'aAmantumo lahu, qabola >ano 'aA*ana lakumo <in~ahu, lakabiyrukumu {l~a*iY Eal~amakumu {ls~iHora falasawofa taEolamuwna la>uqaT~iEan~a >ayodiyakumo wa>arojulakum m~ino xila`fK wala>uSal~iban~akumo >ajomaEiyna\n",
      "   1 siblings of قَالُوا۟ لَا ضَيْرَ إِنَّآ إِلَىٰ رَبِّنَا مُنقَلِبُونَ = qaAluwA@ laA Dayora <in~aA^ <ilaY` rab~inaA munqalibuwna\n",
      "   1 siblings of ثُمَّ أَغْرَقْنَا ٱلْءَاخَرِينَ = vum~a >agoraqonaA {lo'aAxariyna\n",
      "   1 siblings of قَالَ أَفَرَءَيْتُم مَّا كُنتُمْ تَعْبُدُونَ = qaAla >afara'ayotum m~aA kuntumo taEobuduwna\n"
     ]
    }
   ],
   "source": [
    "for (ln, paras) in rankedParallels[500:510]:\n",
    "    print(\n",
    "        f'{len(paras):>4} siblings of {T.text(ln)} = {T.text(ln, fmt=\"text-trans-full\", descend=True)}'\n",
    "    )"
   ]
  },
  {
   "cell_type": "markdown",
   "metadata": {},
   "source": [
    "And how many lines have just one correspondence?\n",
    "\n",
    "We look at the tail of `rankedParallels`."
   ]
  },
  {
   "cell_type": "code",
   "execution_count": 25,
   "metadata": {},
   "outputs": [
    {
     "name": "stdout",
     "output_type": "stream",
     "text": [
      "There are 536 exclusively parallel pairs of lines\n"
     ]
    }
   ],
   "source": [
    "pairs = [(x, list(paras)[0]) for (x, paras) in rankedParallels if len(paras) == 1]\n",
    "print(f\"There are {len(pairs)} exclusively parallel pairs of lines\")"
   ]
  },
  {
   "cell_type": "markdown",
   "metadata": {},
   "source": [
    "Why not make an overview of exactly how wide-spread parallel lines are?\n",
    "\n",
    "We count how many lines have how many parallels."
   ]
  },
  {
   "cell_type": "code",
   "execution_count": 26,
   "metadata": {},
   "outputs": [
    {
     "name": "stdout",
     "output_type": "stream",
     "text": [
      "  32 lines have n sisters where  20 <  n <=  50\n",
      "  12 lines have n sisters where  10 <  n <=  20\n",
      " 232 lines have n sisters where   2 <  n <=  10\n",
      " 536 lines have n sisters where        n <=   2\n"
     ]
    }
   ],
   "source": [
    "parallelCount = collections.Counter()\n",
    "\n",
    "buckets = (2, 10, 20, 50, 100)\n",
    "\n",
    "bucketRep = {}\n",
    "prevBucket = None\n",
    "for bucket in buckets:\n",
    "    if prevBucket is None:\n",
    "        bucketRep[bucket] = f\"       n <= {bucket:>3}\"\n",
    "    elif bucket == buckets[-1]:\n",
    "        bucketRep[bucket] = f\"       n >  {bucket:>3}\"\n",
    "    else:\n",
    "        bucketRep[bucket] = f\"{prevBucket:>3} <  n <= {bucket:>3}\"\n",
    "    prevBucket = bucket\n",
    "\n",
    "for (ln, paras) in rankedParallels:\n",
    "    clusterSize = len(paras) + 1\n",
    "    if clusterSize > buckets[-1]:\n",
    "        theBucket = buckets[-1]\n",
    "    else:\n",
    "        for bucket in buckets:\n",
    "            if clusterSize <= bucket:\n",
    "                theBucket = bucket\n",
    "                break\n",
    "    parallelCount[theBucket] += 1\n",
    "\n",
    "for (bucket, amount) in sorted(\n",
    "    parallelCount.items(),\n",
    "    key=lambda x: (-x[0], x[1]),\n",
    "):\n",
    "    print(f\"{amount:>4} lines have n sisters where {bucketRep[bucket]}\")"
   ]
  },
  {
   "cell_type": "markdown",
   "metadata": {},
   "source": [
    "# Add parallels to the TF dataset\n",
    "\n",
    "We can add this information to the Quran dataset as an *edge feature*.\n",
    "\n",
    "An edge feature links two nodes and may annotate that link with a value.\n",
    "\n",
    "For parallels, we link each line to each of its parallel lines and we annotate that link with the similarity between\n",
    "the two ayas. The similarity is a percentage, and we round it to integer values.\n",
    "\n",
    "If `n1` is similar to `n2`, then `n2` is similar to `n1`.\n",
    "In order to save space, we only add such links once.\n",
    "\n",
    "We can then use\n",
    "[`E.sim.b(node)`](https://annotation.github.io/text-fabric/Api/Features/#edge-features)\n",
    "to find all nodes that are parallel to node.\n"
   ]
  },
  {
   "cell_type": "code",
   "execution_count": 27,
   "metadata": {},
   "outputs": [],
   "source": [
    "metaData = {\n",
    "    \"\": {\n",
    "        \"name\": \"AbB Old Babylonian Cuneiform\",\n",
    "        \"editor\": \"Cale Johnson et. al.\",\n",
    "        \"institute\": \"CDL\",\n",
    "        \"converters\": \"Cale Johnson, Dirk Roorda\",\n",
    "        \"acronym\": \"quran\",\n",
    "        \"convertedBy\": \"Dirk Roorda and Cornelis van Lit\",\n",
    "        \"createdBy\": \"Kais Dukes\",\n",
    "        \"createdDate\": \"2011\",\n",
    "        \"description\": \"Quran: plain text plus morphological annotations at the word level\",\n",
    "        \"license1\": \"Open Source, unspecified, see http://corpus.quran.com/releasenotes.jsp\",\n",
    "        \"license2\": \"Creative Commons BY-ND 3.0 Unported\",\n",
    "        \"source1\": \"Morphology: Quranic Arabic Corpus 0.4 (2011) by Kais Dukes\",\n",
    "        \"source1Url\": \"http://corpus.quran.com\",\n",
    "        \"source2\": \"Text: Tanzil Quran Text (Uthmani, version 1.0.2)\",\n",
    "        \"source2Url\": \"http://tanzil.net/docs/home\",\n",
    "    },\n",
    "    \"sim\": {\n",
    "        \"valueType\": \"int\",\n",
    "        \"edgeValues\": True,\n",
    "        \"description\": \"similarity between ayas, as a percentage of the common material wrt the combined material\",\n",
    "    },\n",
    "}"
   ]
  },
  {
   "cell_type": "code",
   "execution_count": 28,
   "metadata": {},
   "outputs": [],
   "source": [
    "simData = {}\n",
    "for ((f, t), d) in similarity.items():\n",
    "    simData.setdefault(f, {})[t] = d"
   ]
  },
  {
   "cell_type": "code",
   "execution_count": 29,
   "metadata": {},
   "outputs": [],
   "source": [
    "ghBase = os.path.expanduser(\"~/github\")\n",
    "subdir = \"parallels\"\n",
    "path = f\"{A.context.org}/{A.context.repo}/{subdir}/tf\"\n",
    "location = f\"{ghBase}/{path}\"\n",
    "module = A.version"
   ]
  },
  {
   "cell_type": "code",
   "execution_count": 30,
   "metadata": {},
   "outputs": [
    {
     "name": "stdout",
     "output_type": "stream",
     "text": [
      "  0.00s Exporting 0 node and 1 edge and 0 config features to /Users/dirk/github/q-ran/quran/parallels/tf/0.4:\n",
      "   |     0.00s T sim                  to /Users/dirk/github/q-ran/quran/parallels/tf/0.4\n",
      "  0.01s Exported 0 node features and 1 edge features and 0 config features to /Users/dirk/github/q-ran/quran/parallels/tf/0.4\n"
     ]
    },
    {
     "data": {
      "text/plain": [
       "True"
      ]
     },
     "execution_count": 30,
     "metadata": {},
     "output_type": "execute_result"
    }
   ],
   "source": [
    "TF.save(\n",
    "    edgeFeatures=dict(sim=simData), metaData=metaData, location=location, module=module\n",
    ")"
   ]
  },
  {
   "cell_type": "markdown",
   "metadata": {},
   "source": [
    "# Turn the parallels feature into a module\n",
    "\n",
    "Here we show how to turn the new feature `sim` into a module, so that users can easily load it in a Jupyter notebook or in the TF browser."
   ]
  },
  {
   "cell_type": "code",
   "execution_count": 31,
   "metadata": {},
   "outputs": [
    {
     "name": "stdout",
     "output_type": "stream",
     "text": [
      "True\n",
      "Create release data for q-ran/quran/parallels/tf\n",
      "Found 2 versions\n",
      "zip files end up in /Users/dirk/Downloads/q-ran-release/quran\n",
      "zipping q-ran/quran                0.3 with   1 features ==> parallels-tf-0.3.zip\n",
      "zipping q-ran/quran                0.4 with   1 features ==> parallels-tf-0.4.zip\n"
     ]
    }
   ],
   "source": [
    "%%bash\n",
    "text-fabric-zip 'q-ran/quran/parallels/tf'"
   ]
  },
  {
   "cell_type": "markdown",
   "metadata": {},
   "source": [
    "I have added this file to a new release of the Quran GitHub repo."
   ]
  },
  {
   "cell_type": "markdown",
   "metadata": {},
   "source": [
    "# Use the parallels module\n",
    "\n",
    "We load the Quran corpus again, but now with the parallels module."
   ]
  },
  {
   "cell_type": "code",
   "execution_count": 63,
   "metadata": {},
   "outputs": [
    {
     "name": "stdout",
     "output_type": "stream",
     "text": [
      "TF app is up-to-date.\n",
      "Using annotation/app-quran commit f6543c213dad36050de3e90373af237e9a4f0bc1 (=latest)\n",
      "  in /Users/dirk/text-fabric-data/__apps__/quran.\n",
      "No new data release available online.\n",
      "Using q-ran/quran/tf - 0.3 rv0.4 (=latest) in /Users/dirk/text-fabric-data.\n",
      "\tdownloading q-ran/quran - 0.3 rv0.4\n",
      "\tfrom https://github.com/q-ran/quran/releases/download/v0.4/parallels-tf-0.3.zip ...\n",
      "\tunzipping ...\n",
      "\tsaving q-ran/quran - 0.3 rv0.4\n",
      "\tsaved q-ran/quran - 0.3 rv0.4\n",
      "Using q-ran/quran/parallels/tf - 0.3 rv0.4 (=latest) in /Users/dirk/text-fabric-data\n"
     ]
    },
    {
     "data": {
      "text/html": [
       "<b>Documentation:</b> <a target=\"_blank\" href=\"https://github.com/q-ran/quran/blob/master/docs\" title=\"provenance of Quran\">QURAN</a> <a target=\"_blank\" href=\"https://annotation.github.io/text-fabric/writing/arabic.html\" title=\"('Arabic characters and transcriptions',)\">Character table</a> <a target=\"_blank\" href=\"https://github.com/q-ran/quran/blob/master/docs/features.md#features.md\" title=\"QURAN feature documentation\">Feature docs</a> <a target=\"_blank\" href=\"https://github.com/annotation/app-quran\" title=\"quran API documentation\">quran API</a> <a target=\"_blank\" href=\"https://annotation.github.io/text-fabric/Api/Fabric/\" title=\"text-fabric-api\">Text-Fabric API 7.5.1</a> <a target=\"_blank\" href=\"https://annotation.github.io/text-fabric/Use/Search/\" title=\"Search Templates Introduction and Reference\">Search Reference</a><details open><summary><b>Loaded features</b>:</summary>\n",
       "<p><b>Quran</b>: <a target=\"_blank\" href=\"https://github.com/q-ran/quran/blob/master/docs/features.md#a\" title=\"/Users/dirk/text-fabric-data/q-ran/quran/tf/0.3/a.tf\">a</a>  <a target=\"_blank\" href=\"https://github.com/q-ran/quran/blob/master/docs/features.md#ascii\" title=\"/Users/dirk/text-fabric-data/q-ran/quran/tf/0.3/ascii.tf\">ascii</a>  <a target=\"_blank\" href=\"https://github.com/q-ran/quran/blob/master/docs/features.md#ax\" title=\"/Users/dirk/text-fabric-data/q-ran/quran/tf/0.3/ax.tf\">ax</a>  <a target=\"_blank\" href=\"https://github.com/q-ran/quran/blob/master/docs/features.md#case\" title=\"/Users/dirk/text-fabric-data/q-ran/quran/tf/0.3/case.tf\">case</a>  <a target=\"_blank\" href=\"https://github.com/q-ran/quran/blob/master/docs/features.md#component\" title=\"/Users/dirk/text-fabric-data/q-ran/quran/tf/0.3/component.tf\">component</a>  <a target=\"_blank\" href=\"https://github.com/q-ran/quran/blob/master/docs/features.md#definite\" title=\"/Users/dirk/text-fabric-data/q-ran/quran/tf/0.3/definite.tf\">definite</a>  <a target=\"_blank\" href=\"https://github.com/q-ran/quran/blob/master/docs/features.md#f\" title=\"/Users/dirk/text-fabric-data/q-ran/quran/tf/0.3/f.tf\">f</a>  <a target=\"_blank\" href=\"https://github.com/q-ran/quran/blob/master/docs/features.md#formation\" title=\"/Users/dirk/text-fabric-data/q-ran/quran/tf/0.3/formation.tf\">formation</a>  <a target=\"_blank\" href=\"https://github.com/q-ran/quran/blob/master/docs/features.md#fx\" title=\"/Users/dirk/text-fabric-data/q-ran/quran/tf/0.3/fx.tf\">fx</a>  <a target=\"_blank\" href=\"https://github.com/q-ran/quran/blob/master/docs/features.md#gn\" title=\"/Users/dirk/text-fabric-data/q-ran/quran/tf/0.3/gn.tf\">gn</a>  <a target=\"_blank\" href=\"https://github.com/q-ran/quran/blob/master/docs/features.md#interjection\" title=\"/Users/dirk/text-fabric-data/q-ran/quran/tf/0.3/interjection.tf\">interjection</a>  <a target=\"_blank\" href=\"https://github.com/q-ran/quran/blob/master/docs/features.md#l\" title=\"/Users/dirk/text-fabric-data/q-ran/quran/tf/0.3/l.tf\">l</a>  <a target=\"_blank\" href=\"https://github.com/q-ran/quran/blob/master/docs/features.md#lemma\" title=\"/Users/dirk/text-fabric-data/q-ran/quran/tf/0.3/lemma.tf\">lemma</a>  <a target=\"_blank\" href=\"https://github.com/q-ran/quran/blob/master/docs/features.md#lx\" title=\"/Users/dirk/text-fabric-data/q-ran/quran/tf/0.3/lx.tf\">lx</a>  <a target=\"_blank\" href=\"https://github.com/q-ran/quran/blob/master/docs/features.md#mood\" title=\"/Users/dirk/text-fabric-data/q-ran/quran/tf/0.3/mood.tf\">mood</a>  <a target=\"_blank\" href=\"https://github.com/q-ran/quran/blob/master/docs/features.md#n\" title=\"/Users/dirk/text-fabric-data/q-ran/quran/tf/0.3/n.tf\">n</a>  <a target=\"_blank\" href=\"https://github.com/q-ran/quran/blob/master/docs/features.md#name\" title=\"/Users/dirk/text-fabric-data/q-ran/quran/tf/0.3/name.tf\">name</a>  <a target=\"_blank\" href=\"https://github.com/q-ran/quran/blob/master/docs/features.md#name@ll\" title=\"/Users/dirk/text-fabric-data/q-ran/quran/tf/0.3/name@en.tf\">name@ll</a>  <a target=\"_blank\" href=\"https://github.com/q-ran/quran/blob/master/docs/features.md#nameAscii\" title=\"/Users/dirk/text-fabric-data/q-ran/quran/tf/0.3/nameAscii.tf\">nameAscii</a>  <a target=\"_blank\" href=\"https://github.com/q-ran/quran/blob/master/docs/features.md#nameTrans\" title=\"/Users/dirk/text-fabric-data/q-ran/quran/tf/0.3/nameTrans.tf\">nameTrans</a>  <a target=\"_blank\" href=\"https://github.com/q-ran/quran/blob/master/docs/features.md#nu\" title=\"/Users/dirk/text-fabric-data/q-ran/quran/tf/0.3/nu.tf\">nu</a>  <a target=\"_blank\" href=\"https://github.com/q-ran/quran/blob/master/docs/features.md#number\" title=\"/Users/dirk/text-fabric-data/q-ran/quran/tf/0.3/number.tf\">number</a>  <a target=\"_blank\" href=\"https://github.com/q-ran/quran/blob/master/docs/features.md#order\" title=\"/Users/dirk/text-fabric-data/q-ran/quran/tf/0.3/order.tf\">order</a>  <a target=\"_blank\" href=\"https://github.com/q-ran/quran/blob/master/docs/features.md#otype\" title=\"/Users/dirk/text-fabric-data/q-ran/quran/tf/0.3/otype.tf\">otype</a>  <a target=\"_blank\" href=\"https://github.com/q-ran/quran/blob/master/docs/features.md#pos\" title=\"/Users/dirk/text-fabric-data/q-ran/quran/tf/0.3/pos.tf\">pos</a>  <a target=\"_blank\" href=\"https://github.com/q-ran/quran/blob/master/docs/features.md#posx\" title=\"/Users/dirk/text-fabric-data/q-ran/quran/tf/0.3/posx.tf\">posx</a>  <a target=\"_blank\" href=\"https://github.com/q-ran/quran/blob/master/docs/features.md#ps\" title=\"/Users/dirk/text-fabric-data/q-ran/quran/tf/0.3/ps.tf\">ps</a>  <a target=\"_blank\" href=\"https://github.com/q-ran/quran/blob/master/docs/features.md#root\" title=\"/Users/dirk/text-fabric-data/q-ran/quran/tf/0.3/root.tf\">root</a>  <a target=\"_blank\" href=\"https://github.com/q-ran/quran/blob/master/docs/features.md#sp\" title=\"/Users/dirk/text-fabric-data/q-ran/quran/tf/0.3/sp.tf\">sp</a>  <a target=\"_blank\" href=\"https://github.com/q-ran/quran/blob/master/docs/features.md#space\" title=\"/Users/dirk/text-fabric-data/q-ran/quran/tf/0.3/space.tf\">space</a>  <a target=\"_blank\" href=\"https://github.com/q-ran/quran/blob/master/docs/features.md#tense\" title=\"/Users/dirk/text-fabric-data/q-ran/quran/tf/0.3/tense.tf\">tense</a>  <a target=\"_blank\" href=\"https://github.com/q-ran/quran/blob/master/docs/features.md#translation@ll\" title=\"/Users/dirk/text-fabric-data/q-ran/quran/tf/0.3/translation@en.tf\">translation@ll</a>  <a target=\"_blank\" href=\"https://github.com/q-ran/quran/blob/master/docs/features.md#type\" title=\"/Users/dirk/text-fabric-data/q-ran/quran/tf/0.3/type.tf\">type</a>  <a target=\"_blank\" href=\"https://github.com/q-ran/quran/blob/master/docs/features.md#unicode\" title=\"/Users/dirk/text-fabric-data/q-ran/quran/tf/0.3/unicode.tf\">unicode</a>  <a target=\"_blank\" href=\"https://github.com/q-ran/quran/blob/master/docs/features.md#voice\" title=\"/Users/dirk/text-fabric-data/q-ran/quran/tf/0.3/voice.tf\">voice</a>  <a target=\"_blank\" href=\"https://github.com/q-ran/quran/blob/master/docs/features.md#w\" title=\"/Users/dirk/text-fabric-data/q-ran/quran/tf/0.3/w.tf\">w</a>  <a target=\"_blank\" href=\"https://github.com/q-ran/quran/blob/master/docs/features.md#wx\" title=\"/Users/dirk/text-fabric-data/q-ran/quran/tf/0.3/wx.tf\">wx</a>  <b><i><a target=\"_blank\" href=\"https://github.com/q-ran/quran/blob/master/docs/features.md#oslots\" title=\"/Users/dirk/text-fabric-data/q-ran/quran/tf/0.3/oslots.tf\">oslots</a></i></b> </p><p><b>q-ran/quran/parallels/tf</b>: <b><i><a target=\"_blank\" href=\"https://github.com/q-ran/quran/tree/master/parallels/tf\" title=\"/Users/dirk/text-fabric-data/q-ran/quran/parallels/tf/0.3/sim.tf\">sim</a></i></b> </p></details>"
      ],
      "text/plain": [
       "<IPython.core.display.HTML object>"
      ]
     },
     "metadata": {},
     "output_type": "display_data"
    },
    {
     "data": {
      "text/html": [
       "<style>\n",
       "@font-face {\n",
       "  font-family: \"AmiriQuran\";\n",
       "  src:\n",
       "    local(\"AmiriQuran.ttf\"),\n",
       "    url(\"https://github.com/annotation/text-fabric/blob/master/tf/server/static/fonts/AmiriQuran.woff2?raw=true\");\n",
       "}\n",
       ".features {\n",
       "    font-family: monospace;\n",
       "    font-size: medium;\n",
       "    font-weight: bold;\n",
       "    color: #0a6611;\n",
       "    display: flex;\n",
       "    flex-flow: column nowrap;\n",
       "    padding: 0.1em;\n",
       "    margin: 0.1em;\n",
       "    direction: ltr;\n",
       "}\n",
       ".features div,.features span {\n",
       "    padding: 0;\n",
       "    margin: -0.1rem 0;\n",
       "}\n",
       ".features .f {\n",
       "    font-family: sans-serif;\n",
       "    font-size: x-small;\n",
       "    font-weight: normal;\n",
       "    color: #5555bb;\n",
       "}\n",
       ".features .xft {\n",
       "  color: #000000;\n",
       "  background-color: #eeeeee;\n",
       "  font-size: medium;\n",
       "  margin: 0.1em 0em;\n",
       "}\n",
       ".features .xft .f {\n",
       "  color: #000000;\n",
       "  background-color: #eeeeee;\n",
       "  font-style: italic;\n",
       "  font-size: small;\n",
       "  font-weight: normal;\n",
       "}\n",
       ".aya {\n",
       "    display: flex;\n",
       "    flex-flow: row wrap;\n",
       "    direction: rtl;\n",
       "}\n",
       ".vl {\n",
       "    display: flex;\n",
       "    flex-flow: column nowrap;\n",
       "    justify-content: flex-end;\n",
       "    align-items: flex-end;\n",
       "    direction: ltr;\n",
       "    width: 100%;\n",
       "}\n",
       ".outeritem {\n",
       "    display: flex;\n",
       "    flex-flow: row wrap;\n",
       "    direction: rtl;\n",
       "}\n",
       ".word {\n",
       "    padding: 0.1em;\n",
       "    margin: 0.1em;\n",
       "    border-radius: 0.1em;\n",
       "    border: 1px solid #cccccc;\n",
       "    display: flex;\n",
       "    flex-flow: column nowrap;\n",
       "    direction: rtl;\n",
       "    background-color: #ffffff;\n",
       "}\n",
       ".lextp {\n",
       "    padding: 0.1em;\n",
       "    margin: 0.1em;\n",
       "    border-radius: 0.1em;\n",
       "    border: 2px solid #888888;\n",
       "    width: fit-content;\n",
       "    display: flex;\n",
       "    flex-flow: column nowrap;\n",
       "    direction: rtl;\n",
       "    background-color: #ffffff;\n",
       "}\n",
       ".occs {\n",
       "    font-size: x-small;\n",
       "}\n",
       ".tr,.tr a:visited,.tr a:link {\n",
       "    font-family: sans-serif;\n",
       "    font-size: large;\n",
       "    color: #000044;\n",
       "    direction: ltr;\n",
       "    text-decoration: none;\n",
       "}\n",
       ".trb,.trb a:visited,.trb a:link {\n",
       "    font-family: sans-serif;\n",
       "    font-size: normal;\n",
       "    direction: ltr;\n",
       "    text-decoration: none;\n",
       "}\n",
       ".ar,.ar a:visited,.ar a:link {\n",
       "    font-family: \"AmiriQuran\", sans-serif;\n",
       "    font-size: large;\n",
       "    color: #000044;\n",
       "    direction: rtl;\n",
       "    text-decoration: none;\n",
       "}\n",
       ".arb,.arb a:visited,.arb a:link {\n",
       "    font-family: \"AmiriQuran\", sans-serif;\n",
       "    font-size: large;\n",
       "    line-height: 3;\n",
       "    direction: rtl;\n",
       "    text-decoration: none;\n",
       "}\n",
       ".vn {\n",
       "  font-size: small !important;\n",
       "  padding-right: 1em;\n",
       "}\n",
       ".sp,.sp a:visited,.sp a:link {\n",
       "    font-family: monospace;\n",
       "    font-size: medium;\n",
       "    color: #0000bb;\n",
       "    text-decoration: none;\n",
       "}\n",
       ".lexeme {\n",
       "    font-family: monospace;\n",
       "    font-size: medium;\n",
       "    color: #0000bb;\n",
       "}\n",
       ".vs {\n",
       "    font-family: monospace;\n",
       "    font-size: medium;\n",
       "    font-weight: bold;\n",
       "    color: #0000bb;\n",
       "}\n",
       ".vt {\n",
       "    font-family: monospace;\n",
       "    font-size: medium;\n",
       "    font-weight: bold;\n",
       "    color: #0000bb;\n",
       "}\n",
       ".nd {\n",
       "    font-family: monospace;\n",
       "    font-size: x-small;\n",
       "    color: #999999;\n",
       "}\n",
       ".hl {\n",
       "    background-color: #ffee66;\n",
       "}\n",
       "\n",
       "\n",
       "tr.tf, td.tf, th.tf {\n",
       "  text-align: left;\n",
       "}\n",
       "\n",
       "span.hldot {\n",
       "\tbackground-color: var(--hl-strong);\n",
       "\tborder: 0.2rem solid var(--hl-rim);\n",
       "\tborder-radius: 0.4rem;\n",
       "\t/*\n",
       "\tdisplay: inline-block;\n",
       "\twidth: 0.8rem;\n",
       "\theight: 0.8rem;\n",
       "\t*/\n",
       "}\n",
       "span.hl {\n",
       "\tbackground-color: var(--hl-strong);\n",
       "\tborder-width: 0;\n",
       "\tborder-radius: 0.1rem;\n",
       "\tborder-style: solid;\n",
       "}\n",
       "\n",
       "span.hlup {\n",
       "\tborder-color: var(--hl-dark);\n",
       "\tborder-width: 0.1rem;\n",
       "\tborder-style: solid;\n",
       "\tborder-radius: 0.2rem;\n",
       "  padding: 0.2rem;\n",
       "}\n",
       "\n",
       ":root {\n",
       "\t--hl-strong:        hsla( 60, 100%,  70%, 0.9  );\n",
       "\t--hl-rim:           hsla( 55, 100%,  60%, 0.9  );\n",
       "\t--hl-dark:          hsla( 55, 100%,  40%, 0.9  );\n",
       "}\n",
       "</style>"
      ],
      "text/plain": [
       "<IPython.core.display.HTML object>"
      ]
     },
     "metadata": {},
     "output_type": "display_data"
    },
    {
     "data": {
      "text/html": [
       "<details open><summary><b>API members</b>:</summary>\n",
       "<a target=\"_blank\" href=\"https://annotation.github.io/text-fabric/Api/Computed/#computed-data\" title=\"doc\">C Computed</a>, <a target=\"_blank\" href=\"https://annotation.github.io/text-fabric/Api/Computed/#computed-data\" title=\"doc\">Call AllComputeds</a>, <a target=\"_blank\" href=\"https://annotation.github.io/text-fabric/Api/Computed/#computed-data\" title=\"doc\">Cs ComputedString</a><br/>\n",
       "<a target=\"_blank\" href=\"https://annotation.github.io/text-fabric/Api/Features/#edge-features\" title=\"doc\">E Edge</a>, <a target=\"_blank\" href=\"https://annotation.github.io/text-fabric/Api/Features/#edge-features\" title=\"doc\">Eall AllEdges</a>, <a target=\"_blank\" href=\"https://annotation.github.io/text-fabric/Api/Features/#edge-features\" title=\"doc\">Es EdgeString</a><br/>\n",
       "<a target=\"_blank\" href=\"https://annotation.github.io/text-fabric/Api/Fabric/#loading\" title=\"doc\">ensureLoaded</a>, <a target=\"_blank\" href=\"https://annotation.github.io/text-fabric/Api/Fabric/#loading\" title=\"doc\">TF</a>, <a target=\"_blank\" href=\"https://annotation.github.io/text-fabric/Api/Fabric/#loading\" title=\"doc\">ignored</a>, <a target=\"_blank\" href=\"https://annotation.github.io/text-fabric/Api/Fabric/#loading\" title=\"doc\">loadLog</a><br/>\n",
       "<a target=\"_blank\" href=\"https://annotation.github.io/text-fabric/Api/Locality/#locality\" title=\"doc\">L Locality</a><br/>\n",
       "<a target=\"_blank\" href=\"https://annotation.github.io/text-fabric/Api/Misc/#messaging\" title=\"doc\">cache</a>, <a target=\"_blank\" href=\"https://annotation.github.io/text-fabric/Api/Misc/#messaging\" title=\"doc\">error</a>, <a target=\"_blank\" href=\"https://annotation.github.io/text-fabric/Api/Misc/#messaging\" title=\"doc\">indent</a>, <a target=\"_blank\" href=\"https://annotation.github.io/text-fabric/Api/Misc/#messaging\" title=\"doc\">info</a>, <a target=\"_blank\" href=\"https://annotation.github.io/text-fabric/Api/Misc/#messaging\" title=\"doc\">reset</a><br/>\n",
       "<a target=\"_blank\" href=\"https://annotation.github.io/text-fabric/Api/Nodes/#navigating-nodes\" title=\"doc\">N Nodes</a>, <a target=\"_blank\" href=\"https://annotation.github.io/text-fabric/Api/Nodes/#navigating-nodes\" title=\"doc\">sortKey</a>, <a target=\"_blank\" href=\"https://annotation.github.io/text-fabric/Api/Nodes/#navigating-nodes\" title=\"doc\">sortKeyTuple</a>, <a target=\"_blank\" href=\"https://annotation.github.io/text-fabric/Api/Nodes/#navigating-nodes\" title=\"doc\">otypeRank</a>, <a target=\"_blank\" href=\"https://annotation.github.io/text-fabric/Api/Nodes/#navigating-nodes\" title=\"doc\">sortNodes</a><br/>\n",
       "<a target=\"_blank\" href=\"https://annotation.github.io/text-fabric/Api/Features/#node-features\" title=\"doc\">F Feature</a>, <a target=\"_blank\" href=\"https://annotation.github.io/text-fabric/Api/Features/#node-features\" title=\"doc\">Fall AllFeatures</a>, <a target=\"_blank\" href=\"https://annotation.github.io/text-fabric/Api/Features/#node-features\" title=\"doc\">Fs FeatureString</a><br/>\n",
       "<a target=\"_blank\" href=\"https://annotation.github.io/text-fabric/Api/Search/#search\" title=\"doc\">S Search</a><br/>\n",
       "<a target=\"_blank\" href=\"https://annotation.github.io/text-fabric/Api/Text/#text\" title=\"doc\">T Text</a></details>"
      ],
      "text/plain": [
       "<IPython.core.display.HTML object>"
      ]
     },
     "metadata": {},
     "output_type": "display_data"
    }
   ],
   "source": [
    "A = use(\"q-ran/quran\", hoist=globals(), check=True, mod=\"q-ran/quran/parallels/tf\")"
   ]
  },
  {
   "cell_type": "markdown",
   "metadata": {},
   "source": [
    "Lo and behold: you see the parallels module listed with one feature: `sim`. It is in *italics*, which indicates\n",
    "it is an edge feature.\n",
    "\n",
    "We just do a quick check here and in another notebook we study parallels a bit more, using the feature `sim`.\n",
    "\n",
    "We count how many similar pairs their are, and how many 100% similar pairs there are."
   ]
  },
  {
   "cell_type": "code",
   "execution_count": 64,
   "metadata": {},
   "outputs": [
    {
     "name": "stdout",
     "output_type": "stream",
     "text": [
      "  0.02s 1234 results\n"
     ]
    }
   ],
   "source": [
    "query = \"\"\"\n",
    "aya\n",
    "-sim> aya\n",
    "\"\"\"\n",
    "results = A.search(query)"
   ]
  },
  {
   "cell_type": "code",
   "execution_count": 65,
   "metadata": {},
   "outputs": [
    {
     "name": "stdout",
     "output_type": "stream",
     "text": [
      "  0.02s 805 results\n"
     ]
    }
   ],
   "source": [
    "query = \"\"\"\n",
    "aya\n",
    "-sim=100> aya\n",
    "\"\"\"\n",
    "results = A.search(query)"
   ]
  },
  {
   "cell_type": "markdown",
   "metadata": {},
   "source": [
    "Remarkably, more than half of the pairs are 100 percent similar. Let's show just a few:"
   ]
  },
  {
   "cell_type": "code",
   "execution_count": 66,
   "metadata": {},
   "outputs": [
    {
     "data": {
      "text/html": [
       "<table>\n",
       "<tr class=\"tf\">\n",
       "  <th class=\"tf\">n</th><th class=\"tf\">p</th>\n",
       "  <th class=\"tf\">aya</th><th>aya</th>\n",
       "</tr>\n",
       "\n",
       "<tr class=\"tf\"><td class=\"tf\">1</td><td class=\"tf\"> <a href=\"http://tanzil.net/#37:182\" title=\"show this passage on Tanzil\" sec=\"37:182\">37:182</a></td><td class=\"tf\"><span class=\"arb\"><a class=\"vn\" href=\"http://tanzil.net/#1:2\" title=\"1:2\" sec=\"1:2\"></a>ٱلْحَمْدُ لِلَّهِ رَبِّ ٱلْعَٰلَمِينَ</span> <i>128221</i> </td><td class=\"tf\"><span class=\"arb\"><span class=\"vn\"></span>وَٱلْحَمْدُ لِلَّهِ رَبِّ ٱلْعَٰلَمِينَ</span> <i>132189</i> </td></tr>\n",
       "<tr class=\"tf\"><td class=\"tf\">2</td><td class=\"tf\"> <a href=\"http://tanzil.net/#4:68\" title=\"show this passage on Tanzil\" sec=\"4:68\">4:68</a></td><td class=\"tf\"><span class=\"arb\"><a class=\"vn\" href=\"http://tanzil.net/#1:6\" title=\"1:6\" sec=\"1:6\"></a>ٱهْدِنَا ٱلصِّرَٰطَ ٱلْمُسْتَقِيمَ</span> <i>128225</i> </td><td class=\"tf\"><span class=\"arb\"><span class=\"vn\"></span>وَلَهَدَيْنَٰهُمْ صِرَٰطًا مُّسْتَقِيمًا</span> <i>128780</i> </td></tr>\n",
       "<tr class=\"tf\"><td class=\"tf\">3</td><td class=\"tf\"> <a href=\"http://tanzil.net/#37:118\" title=\"show this passage on Tanzil\" sec=\"37:118\">37:118</a></td><td class=\"tf\"><span class=\"arb\"><a class=\"vn\" href=\"http://tanzil.net/#1:6\" title=\"1:6\" sec=\"1:6\"></a>ٱهْدِنَا ٱلصِّرَٰطَ ٱلْمُسْتَقِيمَ</span> <i>128225</i> </td><td class=\"tf\"><span class=\"arb\"><span class=\"vn\"></span>وَهَدَيْنَٰهُمَا ٱلصِّرَٰطَ ٱلْمُسْتَقِيمَ</span> <i>132125</i> </td></tr>\n",
       "<tr class=\"tf\"><td class=\"tf\">4</td><td class=\"tf\"> <a href=\"http://tanzil.net/#31:5\" title=\"show this passage on Tanzil\" sec=\"31:5\">31:5</a></td><td class=\"tf\"><span class=\"arb\"><a class=\"vn\" href=\"http://tanzil.net/#2:5\" title=\"2:5\" sec=\"2:5\"></a>أُو۟لَٰٓئِكَ عَلَىٰ هُدًى مِّن رَّبِّهِمْ وَأُو۟لَٰٓئِكَ هُمُ ٱلْمُفْلِحُونَ</span> <i>128231</i> </td><td class=\"tf\"><span class=\"arb\"><span class=\"vn\"></span>أُو۟لَٰٓئِكَ عَلَىٰ هُدًى مِّن رَّبِّهِمْ وَأُو۟لَٰٓئِكَ هُمُ ٱلْمُفْلِحُونَ</span> <i>131693</i> </td></tr>\n",
       "<tr class=\"tf\"><td class=\"tf\">5</td><td class=\"tf\"> <a href=\"http://tanzil.net/#2:122\" title=\"show this passage on Tanzil\" sec=\"2:122\">2:122</a></td><td class=\"tf\"><span class=\"arb\"><a class=\"vn\" href=\"http://tanzil.net/#2:47\" title=\"2:47\" sec=\"2:47\"></a>يَٰبَنِىٓ إِسْرَٰٓءِيلَ ٱذْكُرُوا۟ نِعْمَتِىَ ٱلَّتِىٓ أَنْعَمْتُ عَلَيْكُمْ وَأَنِّى فَضَّلْتُكُمْ عَلَى ٱلْعَٰلَمِينَ</span> <i>128273</i> </td><td class=\"tf\"><span class=\"arb\"><span class=\"vn\"></span>يَٰبَنِىٓ إِسْرَٰٓءِيلَ ٱذْكُرُوا۟ نِعْمَتِىَ ٱلَّتِىٓ أَنْعَمْتُ عَلَيْكُمْ وَأَنِّى فَضَّلْتُكُمْ عَلَى ٱلْعَٰلَمِينَ</span> <i>128348</i> </td></tr>\n",
       "<tr class=\"tf\"><td class=\"tf\">6</td><td class=\"tf\"> <a href=\"http://tanzil.net/#2:141\" title=\"show this passage on Tanzil\" sec=\"2:141\">2:141</a></td><td class=\"tf\"><span class=\"arb\"><a class=\"vn\" href=\"http://tanzil.net/#2:134\" title=\"2:134\" sec=\"2:134\"></a>تِلْكَ أُمَّةٌ قَدْ خَلَتْ لَهَا مَا كَسَبَتْ وَلَكُم مَّا كَسَبْتُمْ وَلَا تُسْـَٔلُونَ عَمَّا كَانُوا۟ يَعْمَلُونَ</span> <i>128360</i> </td><td class=\"tf\"><span class=\"arb\"><span class=\"vn\"></span>تِلْكَ أُمَّةٌ قَدْ خَلَتْ لَهَا مَا كَسَبَتْ وَلَكُم مَّا كَسَبْتُمْ وَلَا تُسْـَٔلُونَ عَمَّا كَانُوا۟ يَعْمَلُونَ</span> <i>128367</i> </td></tr>\n",
       "<tr class=\"tf\"><td class=\"tf\">7</td><td class=\"tf\"> <a href=\"http://tanzil.net/#3:60\" title=\"show this passage on Tanzil\" sec=\"3:60\">3:60</a></td><td class=\"tf\"><span class=\"arb\"><a class=\"vn\" href=\"http://tanzil.net/#2:147\" title=\"2:147\" sec=\"2:147\"></a>ٱلْحَقُّ مِن رَّبِّكَ فَلَا تَكُونَنَّ مِنَ ٱلْمُمْتَرِينَ</span> <i>128373</i> </td><td class=\"tf\"><span class=\"arb\"><span class=\"vn\"></span>ٱلْحَقُّ مِن رَّبِّكَ فَلَا تَكُن مِّنَ ٱلْمُمْتَرِينَ</span> <i>128572</i> </td></tr>\n",
       "<tr class=\"tf\"><td class=\"tf\">8</td><td class=\"tf\"> <a href=\"http://tanzil.net/#3:88\" title=\"show this passage on Tanzil\" sec=\"3:88\">3:88</a></td><td class=\"tf\"><span class=\"arb\"><a class=\"vn\" href=\"http://tanzil.net/#2:162\" title=\"2:162\" sec=\"2:162\"></a>خَٰلِدِينَ فِيهَا لَا يُخَفَّفُ عَنْهُمُ ٱلْعَذَابُ وَلَا هُمْ يُنظَرُونَ</span> <i>128388</i> </td><td class=\"tf\"><span class=\"arb\"><span class=\"vn\"></span>خَٰلِدِينَ فِيهَا لَا يُخَفَّفُ عَنْهُمُ ٱلْعَذَابُ وَلَا هُمْ يُنظَرُونَ</span> <i>128600</i> </td></tr>\n",
       "<tr class=\"tf\"><td class=\"tf\">9</td><td class=\"tf\"> <a href=\"http://tanzil.net/#19:36\" title=\"show this passage on Tanzil\" sec=\"19:36\">19:36</a></td><td class=\"tf\"><span class=\"arb\"><a class=\"vn\" href=\"http://tanzil.net/#3:51\" title=\"3:51\" sec=\"3:51\"></a>إِنَّ ٱللَّهَ رَبِّى وَرَبُّكُمْ فَٱعْبُدُوهُ هَٰذَا صِرَٰطٌ مُّسْتَقِيمٌ</span> <i>128563</i> </td><td class=\"tf\"><span class=\"arb\"><span class=\"vn\"></span>وَإِنَّ ٱللَّهَ رَبِّى وَرَبُّكُمْ فَٱعْبُدُوهُ هَٰذَا صِرَٰطٌ مُّسْتَقِيمٌ</span> <i>130505</i> </td></tr>\n",
       "<tr class=\"tf\"><td class=\"tf\">10</td><td class=\"tf\"> <a href=\"http://tanzil.net/#43:64\" title=\"show this passage on Tanzil\" sec=\"43:64\">43:64</a></td><td class=\"tf\"><span class=\"arb\"><a class=\"vn\" href=\"http://tanzil.net/#3:51\" title=\"3:51\" sec=\"3:51\"></a>إِنَّ ٱللَّهَ رَبِّى وَرَبُّكُمْ فَٱعْبُدُوهُ هَٰذَا صِرَٰطٌ مُّسْتَقِيمٌ</span> <i>128563</i> </td><td class=\"tf\"><span class=\"arb\"><span class=\"vn\"></span>إِنَّ ٱللَّهَ هُوَ رَبِّى وَرَبُّكُمْ فَٱعْبُدُوهُ هَٰذَا صِرَٰطٌ مُّسْتَقِيمٌ</span> <i>132608</i> </td></tr></table>"
      ],
      "text/plain": [
       "<IPython.core.display.HTML object>"
      ]
     },
     "metadata": {},
     "output_type": "display_data"
    }
   ],
   "source": [
    "A.table(results, start=1, end=10, withNodes=True)"
   ]
  },
  {
   "cell_type": "markdown",
   "metadata": {},
   "source": [
    "There is also a lower level way to work with edge features.\n",
    "\n",
    "We can list all edges going out from a reference node.\n",
    "What we see is tuple of pairs: the target node and the similarity between the reference node and that target node."
   ]
  },
  {
   "cell_type": "code",
   "execution_count": 70,
   "metadata": {},
   "outputs": [
    {
     "data": {
      "text/plain": [
       "((133154, 100),\n",
       " (133156, 100),\n",
       " (133158, 100),\n",
       " (133160, 100),\n",
       " (133162, 100),\n",
       " (133165, 100),\n",
       " (133167, 100),\n",
       " (133169, 100),\n",
       " (133171, 100),\n",
       " (133173, 100),\n",
       " (133175, 100),\n",
       " (133177, 100),\n",
       " (133179, 100),\n",
       " (133181, 100),\n",
       " (133183, 100),\n",
       " (133185, 100),\n",
       " (133187, 100),\n",
       " (133189, 100),\n",
       " (133191, 100),\n",
       " (133193, 100),\n",
       " (133195, 100),\n",
       " (133197, 100))"
      ]
     },
     "execution_count": 70,
     "metadata": {},
     "output_type": "execute_result"
    }
   ],
   "source": [
    "refNode = 133152\n",
    "\n",
    "E.sim.f(refNode)"
   ]
  },
  {
   "cell_type": "markdown",
   "metadata": {},
   "source": [
    "Likewise, we can observe the nodes that target the reference node:"
   ]
  },
  {
   "cell_type": "code",
   "execution_count": 71,
   "metadata": {},
   "outputs": [
    {
     "data": {
      "text/plain": [
       "((133058, 60),\n",
       " (133133, 100),\n",
       " (133136, 100),\n",
       " (133138, 100),\n",
       " (133141, 100),\n",
       " (133143, 100),\n",
       " (133145, 100),\n",
       " (133148, 100),\n",
       " (133150, 100))"
      ]
     },
     "execution_count": 71,
     "metadata": {},
     "output_type": "execute_result"
    }
   ],
   "source": [
    "E.sim.t(refNode)"
   ]
  },
  {
   "cell_type": "markdown",
   "metadata": {},
   "source": [
    "Both sets of nodes are similar to the reference node and it is inconvenient to use both `.f()` and `.t()` to get the similar lines.\n",
    "\n",
    "But there is another way:"
   ]
  },
  {
   "cell_type": "code",
   "execution_count": 72,
   "metadata": {},
   "outputs": [
    {
     "data": {
      "text/plain": [
       "((133058, 60),\n",
       " (133133, 100),\n",
       " (133136, 100),\n",
       " (133138, 100),\n",
       " (133141, 100),\n",
       " (133143, 100),\n",
       " (133145, 100),\n",
       " (133148, 100),\n",
       " (133150, 100),\n",
       " (133154, 100),\n",
       " (133156, 100),\n",
       " (133158, 100),\n",
       " (133160, 100),\n",
       " (133162, 100),\n",
       " (133165, 100),\n",
       " (133167, 100),\n",
       " (133169, 100),\n",
       " (133171, 100),\n",
       " (133173, 100),\n",
       " (133175, 100),\n",
       " (133177, 100),\n",
       " (133179, 100),\n",
       " (133181, 100),\n",
       " (133183, 100),\n",
       " (133185, 100),\n",
       " (133187, 100),\n",
       " (133189, 100),\n",
       " (133191, 100),\n",
       " (133193, 100),\n",
       " (133195, 100),\n",
       " (133197, 100))"
      ]
     },
     "execution_count": 72,
     "metadata": {},
     "output_type": "execute_result"
    }
   ],
   "source": [
    "E.sim.b(refNode)"
   ]
  },
  {
   "cell_type": "markdown",
   "metadata": {},
   "source": [
    "Let's make sure that `.b()` gives the combination of `.f()` and `.t()`."
   ]
  },
  {
   "cell_type": "code",
   "execution_count": 73,
   "metadata": {},
   "outputs": [
    {
     "name": "stdout",
     "output_type": "stream",
     "text": [
      "the intersection of f and t is set()\n",
      "t | f = b ? True\n"
     ]
    }
   ],
   "source": [
    "f = {x[0] for x in E.sim.f(refNode)}\n",
    "b = {x[0] for x in E.sim.b(refNode)}\n",
    "t = {x[0] for x in E.sim.t(refNode)}\n",
    "\n",
    "# are f and t disjoint ?\n",
    "\n",
    "print(f\"the intersection of f and t is {f & t}\")\n",
    "\n",
    "# is b the union of f and t ?\n",
    "\n",
    "print(f\"t | f = b ? {f | t == b}\")"
   ]
  }
 ],
 "metadata": {
  "kernelspec": {
   "display_name": "Python 3",
   "language": "python",
   "name": "python3"
  },
  "language_info": {
   "codemirror_mode": {
    "name": "ipython",
    "version": 3
   },
   "file_extension": ".py",
   "mimetype": "text/x-python",
   "name": "python",
   "nbconvert_exporter": "python",
   "pygments_lexer": "ipython3",
   "version": "3.7.7"
  }
 },
 "nbformat": 4,
 "nbformat_minor": 4
}
